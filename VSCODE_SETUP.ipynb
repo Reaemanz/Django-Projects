{
  "nbformat": 4,
  "nbformat_minor": 0,
  "metadata": {
    "colab": {
      "provenance": []
    },
    "kernelspec": {
      "name": "python3",
      "display_name": "Python 3"
    },
    "language_info": {
      "name": "python"
    }
  },
  "cells": [
    {
      "cell_type": "markdown",
      "source": [
        "1. On your file system, create a project folder for this tutorial, such as hello_django"
      ],
      "metadata": {
        "id": "XNvtKjNCbEEx"
      }
    },
    {
      "cell_type": "markdown",
      "source": [
        "2. In that folder, use the following command (as appropriate to your computer) to create a virtual environment named .venv based on your current interpreter:"
      ],
      "metadata": {
        "id": "YpvwCnbXbRoR"
      }
    },
    {
      "cell_type": "code",
      "source": [
        "# Windows\n",
        "py -3 -m venv .venv\n",
        ".venv\\scripts\\activate"
      ],
      "metadata": {
        "id": "E-HRsH1SbMv7"
      },
      "execution_count": null,
      "outputs": []
    },
    {
      "cell_type": "markdown",
      "source": [
        "3. Open the project folder in VS Code by running code ., or by running VS Code and using the File > Open Folder command."
      ],
      "metadata": {
        "id": "dDIWgGfubZJs"
      }
    },
    {
      "cell_type": "markdown",
      "source": [
        "4. The selected environment appears on the right side of the VS Code status bar, and notices the ('.venv': venv) indicator that tells you that you're using a virtual environment:"
      ],
      "metadata": {
        "id": "QRjVg48ebiG6"
      }
    },
    {
      "cell_type": "markdown",
      "source": [
        "5. Update pip in the virtual environment by running the following command in the VS Code Terminal:"
      ],
      "metadata": {
        "id": "2k7noJagbpre"
      }
    },
    {
      "cell_type": "code",
      "source": [
        "python -m pip install --upgrade pip"
      ],
      "metadata": {
        "id": "35n0dersbtOW"
      },
      "execution_count": null,
      "outputs": []
    },
    {
      "cell_type": "markdown",
      "source": [
        "6. Install Django in the virtual environment by running the following command in the VS Code Terminal:"
      ],
      "metadata": {
        "id": "TRQF2ri6bwfy"
      }
    },
    {
      "cell_type": "code",
      "source": [
        "python -m pip install django"
      ],
      "metadata": {
        "id": "4xMRGX0Ibz4F"
      },
      "execution_count": null,
      "outputs": []
    },
    {
      "cell_type": "markdown",
      "source": [
        "7. In the VS Code Terminal where your virtual environment is activated, run the following command:"
      ],
      "metadata": {
        "id": "oKaiHnmgcCF4"
      }
    },
    {
      "cell_type": "code",
      "source": [
        "django-admin startproject web_project ."
      ],
      "metadata": {
        "id": "s3LpQVRlcFro"
      },
      "execution_count": null,
      "outputs": []
    },
    {
      "cell_type": "markdown",
      "source": [
        "8. Create an empty development database by running the following command:"
      ],
      "metadata": {
        "id": "6UvISAZmcOae"
      }
    },
    {
      "cell_type": "code",
      "source": [
        "python manage.py migrate"
      ],
      "metadata": {
        "id": "pKi-OcjTcR8M"
      },
      "execution_count": null,
      "outputs": []
    },
    {
      "cell_type": "markdown",
      "source": [
        "9. To verify the Django project, make sure your virtual environment is activated, then start Django's development server using the command python manage.py runserver. The server runs on the default port 8000"
      ],
      "metadata": {
        "id": "PxXROSxicX9K"
      }
    }
  ]
}