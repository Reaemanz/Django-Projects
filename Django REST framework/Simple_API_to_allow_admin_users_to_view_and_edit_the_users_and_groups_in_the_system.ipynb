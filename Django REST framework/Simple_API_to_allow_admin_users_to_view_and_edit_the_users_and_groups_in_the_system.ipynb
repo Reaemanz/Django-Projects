{
  "nbformat": 4,
  "nbformat_minor": 0,
  "metadata": {
    "colab": {
      "provenance": []
    },
    "kernelspec": {
      "name": "python3",
      "display_name": "Python 3"
    },
    "language_info": {
      "name": "python"
    }
  },
  "cells": [
    {
      "cell_type": "markdown",
      "source": [
        "# **Project Setup**"
      ],
      "metadata": {
        "id": "TiIqesvvjoYT"
      }
    },
    {
      "cell_type": "markdown",
      "source": [
        "Create a new Django project named tutorial, then start a new app called quickstart."
      ],
      "metadata": {
        "id": "I1yRtInHjwds"
      }
    },
    {
      "cell_type": "code",
      "source": [
        "# Create the project directory\n",
        "mkdir tutorial\n",
        "cd tutorial\n",
        "\n",
        "# Create a virtual environment to isolate our package dependencies locally\n",
        "python3 -m venv env\n",
        "source env/bin/activate  # On Windows use `env\\Scripts\\activate`\n",
        "\n",
        "# Install Django and Django REST framework into the virtual environment\n",
        "pip install django\n",
        "pip install djangorestframework\n",
        "\n",
        "# Set up a new project with a single application\n",
        "django-admin startproject tutorial .  # Note the trailing '.' character\n",
        "cd tutorial\n",
        "django-admin startapp quickstart\n",
        "cd .."
      ],
      "metadata": {
        "id": "iL5oaMDxj3iu"
      },
      "execution_count": null,
      "outputs": []
    },
    {
      "cell_type": "markdown",
      "source": [
        "The project layout should look like:"
      ],
      "metadata": {
        "id": "L1oRV9IXj80I"
      }
    },
    {
      "cell_type": "code",
      "source": [
        "$ pwd\n",
        "<some path>/tutorial\n",
        "$ find .\n",
        ".\n",
        "./manage.py\n",
        "./tutorial\n",
        "./tutorial/__init__.py\n",
        "./tutorial/quickstart\n",
        "./tutorial/quickstart/__init__.py\n",
        "./tutorial/quickstart/admin.py\n",
        "./tutorial/quickstart/apps.py\n",
        "./tutorial/quickstart/migrations\n",
        "./tutorial/quickstart/migrations/__init__.py\n",
        "./tutorial/quickstart/models.py\n",
        "./tutorial/quickstart/tests.py\n",
        "./tutorial/quickstart/views.py\n",
        "./tutorial/asgi.py\n",
        "./tutorial/settings.py\n",
        "./tutorial/urls.py\n",
        "./tutorial/wsgi.py"
      ],
      "metadata": {
        "id": "lAFVqooRkBzk"
      },
      "execution_count": null,
      "outputs": []
    },
    {
      "cell_type": "markdown",
      "source": [
        "It may look unusual that the application has been created within the project directory. Using the project's namespace avoids name clashes with external modules (a topic that goes outside the scope of the quickstart).\n",
        "\n",
        "Now sync your database for the first time:"
      ],
      "metadata": {
        "id": "qP7Y3YXQkGhI"
      }
    },
    {
      "cell_type": "code",
      "source": [
        "python manage.py migrate"
      ],
      "metadata": {
        "id": "NfeIjR5pkLUe"
      },
      "execution_count": null,
      "outputs": []
    },
    {
      "cell_type": "markdown",
      "source": [
        "We'll also create an initial user named admin with a password of password123. We'll authenticate as that user later in our example"
      ],
      "metadata": {
        "id": "QWrizUOckQoP"
      }
    },
    {
      "cell_type": "code",
      "source": [
        "python manage.py createsuperuser --email admin@example.com --username admin"
      ],
      "metadata": {
        "id": "rgsOUe2ZkXfx"
      },
      "execution_count": null,
      "outputs": []
    },
    {
      "cell_type": "markdown",
      "source": [
        "Once you've set up a database and the initial user is created and ready to go, open up the app's directory and we'll get coding..."
      ],
      "metadata": {
        "id": "flLE8WD5kbYP"
      }
    },
    {
      "cell_type": "markdown",
      "source": [
        "# **Serializers**"
      ],
      "metadata": {
        "id": "NfoaWX9skffr"
      }
    },
    {
      "cell_type": "markdown",
      "source": [
        "First up we're going to define some serializers. Let's create a new module named tutorial/quickstart/serializers.py that we'll use for our data representations"
      ],
      "metadata": {
        "id": "Sgom3VjXks9V"
      }
    },
    {
      "cell_type": "code",
      "source": [
        "from django.contrib.auth.models import User, Group\n",
        "from rest_framework import serializers\n",
        "\n",
        "\n",
        "class UserSerializer(serializers.HyperlinkedModelSerializer):\n",
        "    class Meta:\n",
        "        model = User\n",
        "        fields = ['url', 'username', 'email', 'groups']\n",
        "\n",
        "\n",
        "class GroupSerializer(serializers.HyperlinkedModelSerializer):\n",
        "    class Meta:\n",
        "        model = Group\n",
        "        fields = ['url', 'name']"
      ],
      "metadata": {
        "id": "wThjKaOlkn1X"
      },
      "execution_count": null,
      "outputs": []
    },
    {
      "cell_type": "markdown",
      "source": [
        "Notice that we're using hyperlinked relations in this case with HyperlinkedModelSerializer. You can also use primary key and various other relationships, but hyperlinking is good RESTful design."
      ],
      "metadata": {
        "id": "kXGnAZTokyVz"
      }
    },
    {
      "cell_type": "markdown",
      "source": [
        "# **Views**"
      ],
      "metadata": {
        "id": "wL6BmeBvk0gO"
      }
    },
    {
      "cell_type": "markdown",
      "source": [
        "Right, we'd better write some views then. Open tutorial/quickstart/views.py and get typing."
      ],
      "metadata": {
        "id": "rgIAl98uk4xL"
      }
    },
    {
      "cell_type": "code",
      "source": [
        "from django.contrib.auth.models import User, Group\n",
        "from rest_framework import viewsets\n",
        "from rest_framework import permissions\n",
        "from tutorial.quickstart.serializers import UserSerializer, GroupSerializer\n",
        "\n",
        "\n",
        "class UserViewSet(viewsets.ModelViewSet):\n",
        "    \"\"\"\n",
        "    API endpoint that allows users to be viewed or edited.\n",
        "    \"\"\"\n",
        "    queryset = User.objects.all().order_by('-date_joined')\n",
        "    serializer_class = UserSerializer\n",
        "    permission_classes = [permissions.IsAuthenticated]\n",
        "\n",
        "\n",
        "class GroupViewSet(viewsets.ModelViewSet):\n",
        "    \"\"\"\n",
        "    API endpoint that allows groups to be viewed or edited.\n",
        "    \"\"\"\n",
        "    queryset = Group.objects.all()\n",
        "    serializer_class = GroupSerializer\n",
        "    permission_classes = [permissions.IsAuthenticated]"
      ],
      "metadata": {
        "id": "_wuMwhBGk-E8"
      },
      "execution_count": null,
      "outputs": []
    },
    {
      "cell_type": "markdown",
      "source": [
        "Rather than write multiple views we're grouping together all the common behavior into classes called ViewSets.\n",
        "\n",
        "We can easily break these down into individual views if we need to, but using viewsets keeps the view logic nicely organized as well as being very concise."
      ],
      "metadata": {
        "id": "_2ax5A4vlDlm"
      }
    },
    {
      "cell_type": "markdown",
      "source": [
        "# **URL's**"
      ],
      "metadata": {
        "id": "UHsgaXVblNYd"
      }
    },
    {
      "cell_type": "markdown",
      "source": [
        "Okay, now let's wire up the API URLs. On to tutorial/urls.py.."
      ],
      "metadata": {
        "id": "G-XyWZwdlbUs"
      }
    },
    {
      "cell_type": "code",
      "source": [
        "from django.urls import include, path\n",
        "from rest_framework import routers\n",
        "from tutorial.quickstart import views\n",
        "\n",
        "router = routers.DefaultRouter()\n",
        "router.register(r'users', views.UserViewSet)\n",
        "router.register(r'groups', views.GroupViewSet)\n",
        "\n",
        "# Wire up our API using automatic URL routing.\n",
        "# Additionally, we include login URLs for the browsable API.\n",
        "urlpatterns = [\n",
        "    path('', include(router.urls)),\n",
        "    path('api-auth/', include('rest_framework.urls', namespace='rest_framework'))\n",
        "]"
      ],
      "metadata": {
        "id": "VJg74laIlYOb"
      },
      "execution_count": null,
      "outputs": []
    },
    {
      "cell_type": "markdown",
      "source": [
        "Because we're using viewsets instead of views, we can automatically generate the URL conf for our API, by simply registering the viewsets with a router class.\n",
        "\n",
        "Again, if we need more control over the API URLs we can simply drop down to using regular class-based views, and writing the URL conf explicitly.\n",
        "\n",
        "Finally, we're including default login and logout views for use with the browsable API. That's optional, but useful if your API requires authentication and you want to use the browsable API."
      ],
      "metadata": {
        "id": "kmgSv0n8lg2y"
      }
    },
    {
      "cell_type": "markdown",
      "source": [
        "# **Pagination**"
      ],
      "metadata": {
        "id": "_9F18YZmlj9c"
      }
    },
    {
      "cell_type": "markdown",
      "source": [
        "Pagination allows you to control how many objects per page are returned. To enable it add the following lines to tutorial/settings.py"
      ],
      "metadata": {
        "id": "LIRLvruGloVp"
      }
    },
    {
      "cell_type": "code",
      "source": [
        "REST_FRAMEWORK = {\n",
        "    'DEFAULT_PAGINATION_CLASS': 'rest_framework.pagination.PageNumberPagination',\n",
        "    'PAGE_SIZE': 10\n",
        "}"
      ],
      "metadata": {
        "id": "pdAQDjgMlraB"
      },
      "execution_count": null,
      "outputs": []
    },
    {
      "cell_type": "markdown",
      "source": [
        "# **Settings**"
      ],
      "metadata": {
        "id": "kLBhtRhFlta1"
      }
    },
    {
      "cell_type": "markdown",
      "source": [
        "Add 'rest_framework' to INSTALLED_APPS. The settings module will be in tutorial/settings.py"
      ],
      "metadata": {
        "id": "Dk2KkPAol1L_"
      }
    },
    {
      "cell_type": "code",
      "source": [
        "INSTALLED_APPS = [\n",
        "    ...\n",
        "    'rest_framework',\n",
        "]"
      ],
      "metadata": {
        "id": "YKZFMo43l-Op"
      },
      "execution_count": null,
      "outputs": []
    },
    {
      "cell_type": "markdown",
      "source": [
        "Okay, we're done."
      ],
      "metadata": {
        "id": "PwLCzEP_mD6L"
      }
    },
    {
      "cell_type": "markdown",
      "source": [
        "# **Testing our API**"
      ],
      "metadata": {
        "id": "s15C8fg8mGCy"
      }
    },
    {
      "cell_type": "markdown",
      "source": [
        "We're now ready to test the API we've built. Let's fire up the server from the command line"
      ],
      "metadata": {
        "id": "I-aaf6UTmMHT"
      }
    },
    {
      "cell_type": "code",
      "source": [
        "python manage.py runserver"
      ],
      "metadata": {
        "id": "xoqq88pLmSUV"
      },
      "execution_count": null,
      "outputs": []
    },
    {
      "cell_type": "markdown",
      "source": [
        "We can now access our API, both from the command-line, using tools like curl..."
      ],
      "metadata": {
        "id": "9vbISWq1mWrA"
      }
    },
    {
      "cell_type": "code",
      "source": [
        "bash: curl -H 'Accept: application/json; indent=4' -u admin:password123 http://127.0.0.1:8000/users/\n",
        "{\n",
        "    \"count\": 2,\n",
        "    \"next\": null,\n",
        "    \"previous\": null,\n",
        "    \"results\": [\n",
        "        {\n",
        "            \"email\": \"admin@example.com\",\n",
        "            \"groups\": [],\n",
        "            \"url\": \"http://127.0.0.1:8000/users/1/\",\n",
        "            \"username\": \"admin\"\n",
        "        },\n",
        "    ]\n",
        "}"
      ],
      "metadata": {
        "id": "EOgHVTsnmcHb"
      },
      "execution_count": null,
      "outputs": []
    },
    {
      "cell_type": "markdown",
      "source": [
        "Or using the httpie, command line tool.."
      ],
      "metadata": {
        "id": "0ei3r0pGmgof"
      }
    },
    {
      "cell_type": "code",
      "source": [
        "bash: http -a admin:password123 http://127.0.0.1:8000/users/\n",
        "\n",
        "HTTP/1.1 200 OK\n",
        "...\n",
        "{\n",
        "    \"count\": 2,\n",
        "    \"next\": null,\n",
        "    \"previous\": null,\n",
        "    \"results\": [\n",
        "        {\n",
        "            \"email\": \"admin@example.com\",\n",
        "            \"groups\": [],\n",
        "            \"url\": \"http://localhost:8000/users/1/\",\n",
        "            \"username\": \"paul\"\n",
        "        },\n",
        "    ]\n",
        "}"
      ],
      "metadata": {
        "id": "5IOFCcpyoHH0"
      },
      "execution_count": null,
      "outputs": []
    },
    {
      "cell_type": "markdown",
      "source": [
        "Or directly through the browser, by going to the URL http://127.0.0.1:8000/users/...\n",
        "\n",
        "![d4.png](data:image/png;base64,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)"
      ],
      "metadata": {
        "id": "4Og5Nnj6oMLw"
      }
    },
    {
      "cell_type": "markdown",
      "source": [
        "If you're working through the browser, make sure to login using the control in the top right corner."
      ],
      "metadata": {
        "id": "p05-dKEpoZJb"
      }
    }
  ]
}