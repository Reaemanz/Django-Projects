{
  "nbformat": 4,
  "nbformat_minor": 0,
  "metadata": {
    "colab": {
      "provenance": []
    },
    "kernelspec": {
      "name": "python3",
      "display_name": "Python 3"
    },
    "language_info": {
      "name": "python"
    }
  },
  "cells": [
    {
      "cell_type": "markdown",
      "source": [
        "# **Requests and Responses**"
      ],
      "metadata": {
        "id": "bqei8ID51igZ"
      }
    },
    {
      "cell_type": "markdown",
      "source": [
        "From this point we're going to really start covering the core of REST framework. Let's introduce a couple of essential building blocks."
      ],
      "metadata": {
        "id": "h_nSka7h1u6R"
      }
    },
    {
      "cell_type": "markdown",
      "source": [
        "# **Request Objects**"
      ],
      "metadata": {
        "id": "KI5a4Wkb1xdv"
      }
    },
    {
      "cell_type": "markdown",
      "source": [
        "REST framework introduces a Request object that extends the regular HttpRequest, and provides more flexible request parsing. The core functionality of the Request object is the request.data attribute, which is similar to request.POST, but more useful for working with Web APIs."
      ],
      "metadata": {
        "id": "Vsxj0boD13YL"
      }
    },
    {
      "cell_type": "code",
      "source": [
        "request.POST  # Only handles form data.  Only works for 'POST' method.\n",
        "request.data  # Handles arbitrary data.  Works for 'POST', 'PUT' and 'PATCH' methods."
      ],
      "metadata": {
        "id": "6AJQhzs61_PR"
      },
      "execution_count": null,
      "outputs": []
    },
    {
      "cell_type": "markdown",
      "source": [
        "# **Response Objects**"
      ],
      "metadata": {
        "id": "5UlH97Iw2Bqx"
      }
    },
    {
      "cell_type": "markdown",
      "source": [
        "REST framework also introduces a Response object, which is a type of TemplateResponse that takes unrendered content and uses content negotiation to determine the correct content type to return to the client."
      ],
      "metadata": {
        "id": "GT770NOx2IIQ"
      }
    },
    {
      "cell_type": "code",
      "source": [
        "return Response(data)  # Renders to content type as requested by the client."
      ],
      "metadata": {
        "id": "6Mpq39nQ2MW6"
      },
      "execution_count": null,
      "outputs": []
    },
    {
      "cell_type": "markdown",
      "source": [
        "# **Status Codes**"
      ],
      "metadata": {
        "id": "OM-oyTLA2RTd"
      }
    },
    {
      "cell_type": "markdown",
      "source": [
        "Using numeric HTTP status codes in your views doesn't always make for obvious reading, and it's easy to not notice if you get an error code wrong. REST framework provides more explicit identifiers for each status code, such as HTTP_400_BAD_REQUEST in the status module. It's a good idea to use these throughout rather than using numeric identifiers."
      ],
      "metadata": {
        "id": "uEi7wHwg2VR-"
      }
    },
    {
      "cell_type": "markdown",
      "source": [
        "# **Wrapping API views**"
      ],
      "metadata": {
        "id": "QXQSeff62cNB"
      }
    },
    {
      "cell_type": "markdown",
      "source": [
        "REST framework provides two wrappers you can use to write API views.\n",
        "\n",
        "1. The @api_view decorator for working with function based views.\n",
        "2. The APIView class for working with class-based views.\n",
        "\n",
        "These wrappers provide a few bits of functionality such as making sure you receive Request instances in your view, and adding context to Response objects so that content negotiation can be performed.\n",
        "\n",
        "The wrappers also provide behaviour such as returning 405 Method Not Allowed responses when appropriate, and handling any ParseError exceptions that occur when accessing request.data with malformed input."
      ],
      "metadata": {
        "id": "6820MIvM2icp"
      }
    },
    {
      "cell_type": "markdown",
      "source": [
        "Okay, let's go ahead and start using these new components to refactor our views slightly."
      ],
      "metadata": {
        "id": "gOM1-wZU2vzx"
      }
    },
    {
      "cell_type": "code",
      "source": [
        "from rest_framework import status\n",
        "from rest_framework.decorators import api_view\n",
        "from rest_framework.response import Response\n",
        "from snippets.models import Snippet\n",
        "from snippets.serializers import SnippetSerializer\n",
        "\n",
        "\n",
        "@api_view(['GET', 'POST'])\n",
        "def snippet_list(request):\n",
        "    \"\"\"\n",
        "    List all code snippets, or create a new snippet.\n",
        "    \"\"\"\n",
        "    if request.method == 'GET':\n",
        "        snippets = Snippet.objects.all()\n",
        "        serializer = SnippetSerializer(snippets, many=True)\n",
        "        return Response(serializer.data)\n",
        "\n",
        "    elif request.method == 'POST':\n",
        "        serializer = SnippetSerializer(data=request.data)\n",
        "        if serializer.is_valid():\n",
        "            serializer.save()\n",
        "            return Response(serializer.data, status=status.HTTP_201_CREATED)\n",
        "        return Response(serializer.errors, status=status.HTTP_400_BAD_REQUEST)"
      ],
      "metadata": {
        "id": "bEOLFkJE2z7C"
      },
      "execution_count": null,
      "outputs": []
    },
    {
      "cell_type": "markdown",
      "source": [
        "Our instance view is an improvement over the previous example. It's a little more concise, and the code now feels very similar to if we were working with the Forms API. We're also using named status codes, which makes the response meanings more obvious.\n",
        "\n",
        "Here is the view for an individual snippet, in the views.py module."
      ],
      "metadata": {
        "id": "dhU5Wkj325HS"
      }
    },
    {
      "cell_type": "code",
      "source": [
        "@api_view(['GET', 'PUT', 'DELETE'])\n",
        "def snippet_detail(request, pk):\n",
        "    \"\"\"\n",
        "    Retrieve, update or delete a code snippet.\n",
        "    \"\"\"\n",
        "    try:\n",
        "        snippet = Snippet.objects.get(pk=pk)\n",
        "    except Snippet.DoesNotExist:\n",
        "        return Response(status=status.HTTP_404_NOT_FOUND)\n",
        "\n",
        "    if request.method == 'GET':\n",
        "        serializer = SnippetSerializer(snippet)\n",
        "        return Response(serializer.data)\n",
        "\n",
        "    elif request.method == 'PUT':\n",
        "        serializer = SnippetSerializer(snippet, data=request.data)\n",
        "        if serializer.is_valid():\n",
        "            serializer.save()\n",
        "            return Response(serializer.data)\n",
        "        return Response(serializer.errors, status=status.HTTP_400_BAD_REQUEST)\n",
        "\n",
        "    elif request.method == 'DELETE':\n",
        "        snippet.delete()\n",
        "        return Response(status=status.HTTP_204_NO_CONTENT)"
      ],
      "metadata": {
        "id": "la5UBaYu2_PZ"
      },
      "execution_count": null,
      "outputs": []
    },
    {
      "cell_type": "markdown",
      "source": [
        "This should all feel very familiar - it is not a lot different from working with regular Django views.\n",
        "\n",
        "Notice that we're no longer explicitly tying our requests or responses to a given content type. request.data can handle incoming json requests, but it can also handle other formats. Similarly we're returning response objects with data, but allowing REST framework to render the response into the correct content type for us."
      ],
      "metadata": {
        "id": "RojhfN6Z3Epn"
      }
    },
    {
      "cell_type": "markdown",
      "source": [
        "# **Adding Optional format suffixes to our url's.**"
      ],
      "metadata": {
        "id": "fI19AMTI3HtM"
      }
    },
    {
      "cell_type": "markdown",
      "source": [
        "To take advantage of the fact that our responses are no longer hardwired to a single content type let's add support for format suffixes to our API endpoints. Using format suffixes gives us URLs that explicitly refer to a given format, and means our API will be able to handle URLs such as http://example.com/api/items/4.json.\n",
        "\n",
        "Start by adding a format keyword argument to both of the views, like so."
      ],
      "metadata": {
        "id": "2uxDAAgv3Sqm"
      }
    },
    {
      "cell_type": "code",
      "source": [
        "def snippet_list(request, format=None):"
      ],
      "metadata": {
        "id": "kefCZA3r3Y6_"
      },
      "execution_count": null,
      "outputs": []
    },
    {
      "cell_type": "markdown",
      "source": [
        "and:"
      ],
      "metadata": {
        "id": "GEx8pe4X3cBY"
      }
    },
    {
      "cell_type": "code",
      "source": [
        "def snippet_detail(request, pk, format=None):"
      ],
      "metadata": {
        "id": "ZILeEZDc3dIx"
      },
      "execution_count": null,
      "outputs": []
    },
    {
      "cell_type": "markdown",
      "source": [
        "Now update the snippets/urls.py file slightly, to append a set of format_suffix_patterns in addition to the existing URLs."
      ],
      "metadata": {
        "id": "YQmBVyNe3hs-"
      }
    },
    {
      "cell_type": "code",
      "source": [
        "from django.urls import path\n",
        "from rest_framework.urlpatterns import format_suffix_patterns\n",
        "from snippets import views\n",
        "\n",
        "urlpatterns = [\n",
        "    path('snippets/', views.snippet_list),\n",
        "    path('snippets/<int:pk>/', views.snippet_detail),\n",
        "]\n",
        "\n",
        "urlpatterns = format_suffix_patterns(urlpatterns)"
      ],
      "metadata": {
        "id": "IfwquPxK3kts"
      },
      "execution_count": null,
      "outputs": []
    },
    {
      "cell_type": "markdown",
      "source": [
        "We don't necessarily need to add these extra url patterns in, but it gives us a simple, clean way of referring to a specific format."
      ],
      "metadata": {
        "id": "lGzoEzy43sM5"
      }
    },
    {
      "cell_type": "markdown",
      "source": [
        "## **How is it looking?**"
      ],
      "metadata": {
        "id": "WC2-Gxz-3uKt"
      }
    },
    {
      "cell_type": "markdown",
      "source": [
        "o ahead and test the API from the command line, as we did in tutorial part 1. Everything is working pretty similarly, although we've got some nicer error handling if we send invalid requests.\n",
        "\n",
        "We can get a list of all of the snippets, as before."
      ],
      "metadata": {
        "id": "d5XcWtma34Pq"
      }
    },
    {
      "cell_type": "code",
      "source": [
        "http http://127.0.0.1:8000/snippets/\n",
        "\n",
        "HTTP/1.1 200 OK\n",
        "...\n",
        "[\n",
        "  {\n",
        "    \"id\": 1,\n",
        "    \"title\": \"\",\n",
        "    \"code\": \"foo = \\\"bar\\\"\\n\",\n",
        "    \"linenos\": false,\n",
        "    \"language\": \"python\",\n",
        "    \"style\": \"friendly\"\n",
        "  },\n",
        "  {\n",
        "    \"id\": 2,\n",
        "    \"title\": \"\",\n",
        "    \"code\": \"print(\\\"hello, world\\\")\\n\",\n",
        "    \"linenos\": false,\n",
        "    \"language\": \"python\",\n",
        "    \"style\": \"friendly\"\n",
        "  }\n",
        "]"
      ],
      "metadata": {
        "id": "WvR1cFYt3802"
      },
      "execution_count": null,
      "outputs": []
    },
    {
      "cell_type": "markdown",
      "source": [
        "We can control the format of the response that we get back, either by using the Accept header:"
      ],
      "metadata": {
        "id": "fIckn9Ic4A84"
      }
    },
    {
      "cell_type": "code",
      "source": [
        "http http://127.0.0.1:8000/snippets/ Accept:application/json  # Request JSON\n",
        "http http://127.0.0.1:8000/snippets/ Accept:text/html         # Request HTML"
      ],
      "metadata": {
        "id": "_BvYl7yH4Glj"
      },
      "execution_count": null,
      "outputs": []
    },
    {
      "cell_type": "markdown",
      "source": [
        "Or by appending a format suffix:"
      ],
      "metadata": {
        "id": "2Hp55jUb4K4z"
      }
    },
    {
      "cell_type": "code",
      "source": [
        "http http://127.0.0.1:8000/snippets.json  # JSON suffix\n",
        "http http://127.0.0.1:8000/snippets.api   # Browsable API suffix"
      ],
      "metadata": {
        "id": "Q8m8xKVI4N7l"
      },
      "execution_count": null,
      "outputs": []
    },
    {
      "cell_type": "markdown",
      "source": [
        "Similarly, we can control the format of the request that we send, using the Content-Type header."
      ],
      "metadata": {
        "id": "BtnN5SmG4SjN"
      }
    },
    {
      "cell_type": "code",
      "source": [
        "# POST using form data\n",
        "http --form POST http://127.0.0.1:8000/snippets/ code=\"print(123)\"\n",
        "\n",
        "{\n",
        "  \"id\": 3,\n",
        "  \"title\": \"\",\n",
        "  \"code\": \"print(123)\",\n",
        "  \"linenos\": false,\n",
        "  \"language\": \"python\",\n",
        "  \"style\": \"friendly\"\n",
        "}\n",
        "\n",
        "# POST using JSON\n",
        "http --json POST http://127.0.0.1:8000/snippets/ code=\"print(456)\"\n",
        "\n",
        "{\n",
        "    \"id\": 4,\n",
        "    \"title\": \"\",\n",
        "    \"code\": \"print(456)\",\n",
        "    \"linenos\": false,\n",
        "    \"language\": \"python\",\n",
        "    \"style\": \"friendly\"\n",
        "}"
      ],
      "metadata": {
        "id": "yWo0B3bi4WHV"
      },
      "execution_count": null,
      "outputs": []
    },
    {
      "cell_type": "markdown",
      "source": [
        "If you add a --debug switch to the http requests above, you will be able to see the request type in request headers.\n",
        "\n",
        "Now go and open the API in a web browser, by visiting http://127.0.0.1:8000/snippets/."
      ],
      "metadata": {
        "id": "OufqEvFo4adp"
      }
    },
    {
      "cell_type": "markdown",
      "source": [
        "# **Browsability**"
      ],
      "metadata": {
        "id": "UtjO7oT54fCA"
      }
    },
    {
      "cell_type": "markdown",
      "source": [
        "Because the API chooses the content type of the response based on the client request, it will, by default, return an HTML-formatted representation of the resource when that resource is requested by a web browser. This allows for the API to return a fully web-browsable HTML representation.\n",
        "\n",
        "Having a web-browsable API is a huge usability win, and makes developing and using your API much easier. It also dramatically lowers the barrier-to-entry for other developers wanting to inspect and work with your API."
      ],
      "metadata": {
        "id": "Rxg8aEcf4iv_"
      }
    }
  ]
}