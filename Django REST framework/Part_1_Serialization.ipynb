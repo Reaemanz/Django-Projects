{
  "nbformat": 4,
  "nbformat_minor": 0,
  "metadata": {
    "colab": {
      "provenance": []
    },
    "kernelspec": {
      "name": "python3",
      "display_name": "Python 3"
    },
    "language_info": {
      "name": "python"
    }
  },
  "cells": [
    {
      "cell_type": "markdown",
      "source": [
        "# **Tutorial 1:Serialization**"
      ],
      "metadata": {
        "id": "vzC7RR1cpLBz"
      }
    },
    {
      "cell_type": "markdown",
      "source": [
        "# **Introduction**\n",
        "\n",
        "This tutorial will cover creating a simple pastebin code highlighting Web API. Along the way it will introduce the various components that make up REST framework, and give a comprehensive understanding of how everything fits together."
      ],
      "metadata": {
        "id": "8lg7WBEHph8G"
      }
    },
    {
      "cell_type": "markdown",
      "source": [
        "# **Setting up the environment**\n",
        "\n"
      ],
      "metadata": {
        "id": "SO8xAPwopv91"
      }
    },
    {
      "cell_type": "markdown",
      "source": [
        "Before we do anything else we'll create a new virtual environment, using venv. This will make sure our package configuration is kept nicely isolated from any other projects we're working on."
      ],
      "metadata": {
        "id": "JluLtph7p3KI"
      }
    },
    {
      "cell_type": "code",
      "source": [
        "python3 -m venv env\n",
        "source env/bin/activate"
      ],
      "metadata": {
        "id": "vYakYbnKp8ot"
      },
      "execution_count": null,
      "outputs": []
    },
    {
      "cell_type": "markdown",
      "source": [
        "Now that we're inside a virtual environment, we can install our package requirements"
      ],
      "metadata": {
        "id": "KiUmZ5P_qAnc"
      }
    },
    {
      "cell_type": "code",
      "source": [
        "pip install django\n",
        "pip install djangorestframework\n",
        "pip install pygments  # We'll be using this for the code highlighting"
      ],
      "metadata": {
        "id": "0S1uKyzLqDgs"
      },
      "execution_count": null,
      "outputs": []
    },
    {
      "cell_type": "markdown",
      "source": [
        "Note: To exit the virtual environment at any time, just type deactivate."
      ],
      "metadata": {
        "id": "XWu6m9MAqIrq"
      }
    },
    {
      "cell_type": "markdown",
      "source": [
        "# **Getting Started**"
      ],
      "metadata": {
        "id": "Gh0I83U2qR0E"
      }
    },
    {
      "cell_type": "markdown",
      "source": [
        "Okay, we're ready to get coding. To get started, let's create a new project to work with"
      ],
      "metadata": {
        "id": "XX7RaF-_qPZY"
      }
    },
    {
      "cell_type": "code",
      "source": [
        "cd ~\n",
        "django-admin startproject tutorial\n",
        "cd tutorial"
      ],
      "metadata": {
        "id": "98xOVqE3qWE6"
      },
      "execution_count": null,
      "outputs": []
    },
    {
      "cell_type": "markdown",
      "source": [
        "Once that's done we can create an app that we'll use to create a simple Web API."
      ],
      "metadata": {
        "id": "J18rGuBXqZv8"
      }
    },
    {
      "cell_type": "code",
      "source": [
        "python manage.py startapp snippets"
      ],
      "metadata": {
        "id": "DtFG1-uqqfC6"
      },
      "execution_count": null,
      "outputs": []
    },
    {
      "cell_type": "markdown",
      "source": [
        "We'll need to add our new snippets app and the rest_framework app to INSTALLED_APPS. Let's edit the tutorial/settings.py file:"
      ],
      "metadata": {
        "id": "A2XAaNSHqjFa"
      }
    },
    {
      "cell_type": "code",
      "source": [
        "INSTALLED_APPS = [\n",
        "    ...\n",
        "    'rest_framework',\n",
        "    'snippets',\n",
        "]"
      ],
      "metadata": {
        "id": "22MsiVmTqnI5"
      },
      "execution_count": null,
      "outputs": []
    },
    {
      "cell_type": "markdown",
      "source": [
        "Okay, we're ready to roll."
      ],
      "metadata": {
        "id": "S-WQwmIxqqKO"
      }
    },
    {
      "cell_type": "markdown",
      "source": [
        "# **Creating a model to work with**"
      ],
      "metadata": {
        "id": "Dh3iVHTMquPq"
      }
    },
    {
      "cell_type": "markdown",
      "source": [
        "For the purposes of this tutorial we're going to start by creating a simple Snippet model that is used to store code snippets. Go ahead and edit the snippets/models.py file."
      ],
      "metadata": {
        "id": "zvez6l7Dq3rD"
      }
    },
    {
      "cell_type": "code",
      "source": [
        "from django.db import models\n",
        "from pygments.lexers import get_all_lexers\n",
        "from pygments.styles import get_all_styles\n",
        "\n",
        "LEXERS = [item for item in get_all_lexers() if item[1]]\n",
        "LANGUAGE_CHOICES = sorted([(item[1][0], item[0]) for item in LEXERS])\n",
        "STYLE_CHOICES = sorted([(item, item) for item in get_all_styles()])\n",
        "\n",
        "\n",
        "class Snippet(models.Model):\n",
        "    created = models.DateTimeField(auto_now_add=True)\n",
        "    title = models.CharField(max_length=100, blank=True, default='')\n",
        "    code = models.TextField()\n",
        "    linenos = models.BooleanField(default=False)\n",
        "    language = models.CharField(choices=LANGUAGE_CHOICES, default='python', max_length=100)\n",
        "    style = models.CharField(choices=STYLE_CHOICES, default='friendly', max_length=100)\n",
        "\n",
        "    class Meta:\n",
        "        ordering = ['created']"
      ],
      "metadata": {
        "id": "Mz0bgez_q9jj"
      },
      "execution_count": null,
      "outputs": []
    },
    {
      "cell_type": "markdown",
      "source": [
        "We'll also need to create an initial migration for our snippet model, and sync the database for the first time."
      ],
      "metadata": {
        "id": "2AR5KDRarDN8"
      }
    },
    {
      "cell_type": "code",
      "source": [
        "python manage.py makemigrations snippets\n",
        "python manage.py migrate snippets"
      ],
      "metadata": {
        "id": "vgY--3knrG4H"
      },
      "execution_count": null,
      "outputs": []
    },
    {
      "cell_type": "markdown",
      "source": [
        "# **Creating a Serializer Class**"
      ],
      "metadata": {
        "id": "_uBu-P23rI9V"
      }
    },
    {
      "cell_type": "markdown",
      "source": [
        "The first thing we need to get started on our Web API is to provide a way of serializing and deserializing the snippet instances into representations such as json. We can do this by declaring serializers that work very similar to Django's forms. Create a file in the snippets directory named serializers.py and add the following."
      ],
      "metadata": {
        "id": "wN1B5nOQrQpY"
      }
    },
    {
      "cell_type": "code",
      "source": [
        "from rest_framework import serializers\n",
        "from snippets.models import Snippet, LANGUAGE_CHOICES, STYLE_CHOICES\n",
        "\n",
        "\n",
        "class SnippetSerializer(serializers.Serializer):\n",
        "    id = serializers.IntegerField(read_only=True)\n",
        "    title = serializers.CharField(required=False, allow_blank=True, max_length=100)\n",
        "    code = serializers.CharField(style={'base_template': 'textarea.html'})\n",
        "    linenos = serializers.BooleanField(required=False)\n",
        "    language = serializers.ChoiceField(choices=LANGUAGE_CHOICES, default='python')\n",
        "    style = serializers.ChoiceField(choices=STYLE_CHOICES, default='friendly')\n",
        "\n",
        "    def create(self, validated_data):\n",
        "        \"\"\"\n",
        "        Create and return a new `Snippet` instance, given the validated data.\n",
        "        \"\"\"\n",
        "        return Snippet.objects.create(**validated_data)\n",
        "\n",
        "    def update(self, instance, validated_data):\n",
        "        \"\"\"\n",
        "        Update and return an existing `Snippet` instance, given the validated data.\n",
        "        \"\"\"\n",
        "        instance.title = validated_data.get('title', instance.title)\n",
        "        instance.code = validated_data.get('code', instance.code)\n",
        "        instance.linenos = validated_data.get('linenos', instance.linenos)\n",
        "        instance.language = validated_data.get('language', instance.language)\n",
        "        instance.style = validated_data.get('style', instance.style)\n",
        "        instance.save()\n",
        "        return instance"
      ],
      "metadata": {
        "id": "foxQave2rWqe"
      },
      "execution_count": null,
      "outputs": []
    },
    {
      "cell_type": "markdown",
      "source": [
        "The first part of the serializer class defines the fields that get serialized/deserialized. The create() and update() methods define how fully fledged instances are created or modified when calling serializer.save()\n",
        "\n",
        "A serializer class is very similar to a Django Form class, and includes similar validation flags on the various fields, such as required, max_length and default.\n",
        "\n",
        "The field flags can also control how the serializer should be displayed in certain circumstances, such as when rendering to HTML. The {'base_template': 'textarea.html'} flag above is equivalent to using widget=widgets.Textarea on a Django Form class. This is particularly useful for controlling how the browsable API should be displayed, as we'll see later in the tutorial.\n",
        "\n",
        "We can actually also save ourselves some time by using the ModelSerializer class, as we'll see later, but for now we'll keep our serializer definition explicit."
      ],
      "metadata": {
        "id": "s_qdQ-werest"
      }
    },
    {
      "cell_type": "markdown",
      "source": [
        "# **Working with Serializers**"
      ],
      "metadata": {
        "id": "uOAR5i_nrjJQ"
      }
    },
    {
      "cell_type": "markdown",
      "source": [
        "Before we go any further we'll familiarize ourselves with using our new Serializer class. Let's drop into the Django shell."
      ],
      "metadata": {
        "id": "Z_Rru-s4rodS"
      }
    },
    {
      "cell_type": "code",
      "source": [
        "python manage.py shell"
      ],
      "metadata": {
        "id": "ssHlY4INrtzY"
      },
      "execution_count": null,
      "outputs": []
    },
    {
      "cell_type": "markdown",
      "source": [
        "Okay, once we've got a few imports out of the way, let's create a couple of code snippets to work with."
      ],
      "metadata": {
        "id": "0p2Fy6wirxMP"
      }
    },
    {
      "cell_type": "code",
      "source": [
        "from snippets.models import Snippet\n",
        "from snippets.serializers import SnippetSerializer\n",
        "from rest_framework.renderers import JSONRenderer\n",
        "from rest_framework.parsers import JSONParser\n",
        "\n",
        "snippet = Snippet(code='foo = \"bar\"\\n')\n",
        "snippet.save()\n",
        "\n",
        "snippet = Snippet(code='print(\"hello, world\")\\n')\n",
        "snippet.save()"
      ],
      "metadata": {
        "id": "iGwICUY4r2lo"
      },
      "execution_count": null,
      "outputs": []
    },
    {
      "cell_type": "markdown",
      "source": [
        "We've now got a few snippet instances to play with. Let's take a look at serializing one of those instances."
      ],
      "metadata": {
        "id": "LlWWVgGIr7cO"
      }
    },
    {
      "cell_type": "code",
      "source": [
        "serializer = SnippetSerializer(snippet)\n",
        "serializer.data\n",
        "# {'id': 2, 'title': '', 'code': 'print(\"hello, world\")\\n', 'linenos': False, 'language': 'python', 'style': 'friendly'}"
      ],
      "metadata": {
        "id": "HqUxi_DWr_O2"
      },
      "execution_count": null,
      "outputs": []
    },
    {
      "cell_type": "markdown",
      "source": [
        "At this point we've translated the model instance into Python native datatypes. To finalize the serialization process we render the data into json."
      ],
      "metadata": {
        "id": "1IwVAULdsDpx"
      }
    },
    {
      "cell_type": "code",
      "source": [
        "content = JSONRenderer().render(serializer.data)\n",
        "content\n",
        "# b'{\"id\": 2, \"title\": \"\", \"code\": \"print(\\\\\"hello, world\\\\\")\\\\n\", \"linenos\": false, \"language\": \"python\", \"style\": \"friendly\"}'"
      ],
      "metadata": {
        "id": "Y41DWPnTsILK"
      },
      "execution_count": null,
      "outputs": []
    },
    {
      "cell_type": "markdown",
      "source": [
        "Deserialization is similar. First we parse a stream into Python native datatypes..."
      ],
      "metadata": {
        "id": "glD58nw1sLrz"
      }
    },
    {
      "cell_type": "code",
      "source": [
        "import io\n",
        "\n",
        "stream = io.BytesIO(content)\n",
        "data = JSONParser().parse(stream)"
      ],
      "metadata": {
        "id": "Ysx6svfrsOvB"
      },
      "execution_count": null,
      "outputs": []
    },
    {
      "cell_type": "markdown",
      "source": [
        "...then we restore those native datatypes into a fully populated object instance."
      ],
      "metadata": {
        "id": "YXmuIZdasS5N"
      }
    },
    {
      "cell_type": "code",
      "source": [
        "serializer = SnippetSerializer(data=data)\n",
        "serializer.is_valid()\n",
        "# True\n",
        "serializer.validated_data\n",
        "# OrderedDict([('title', ''), ('code', 'print(\"hello, world\")\\n'), ('linenos', False), ('language', 'python'), ('style', 'friendly')])\n",
        "serializer.save()\n",
        "# <Snippet: Snippet object>"
      ],
      "metadata": {
        "id": "jD4nByaEsVtj"
      },
      "execution_count": null,
      "outputs": []
    },
    {
      "cell_type": "markdown",
      "source": [
        "Notice how similar the API is to working with forms. The similarity should become even more apparent when we start writing views that use our serializer.\n",
        "\n",
        "We can also serialize querysets instead of model instances. To do so we simply add a many=True flag to the serializer arguments."
      ],
      "metadata": {
        "id": "UdmpTsdnsaCM"
      }
    },
    {
      "cell_type": "code",
      "source": [
        "serializer = SnippetSerializer(Snippet.objects.all(), many=True)\n",
        "serializer.data\n",
        "# [OrderedDict([('id', 1), ('title', ''), ('code', 'foo = \"bar\"\\n'), ('linenos', False), ('language', 'python'), ('style', 'friendly')]), OrderedDict([('id', 2), ('title', ''), ('code', 'print(\"hello, world\")\\n'), ('linenos', False), ('language', 'python'), ('style', 'friendly')]), OrderedDict([('id', 3), ('title', ''), ('code', 'print(\"hello, world\")'), ('linenos', False), ('language', 'python'), ('style', 'friendly')])]"
      ],
      "metadata": {
        "id": "-M9lbaXosfo_"
      },
      "execution_count": null,
      "outputs": []
    },
    {
      "cell_type": "markdown",
      "source": [
        "# **Using ModelSerializers**"
      ],
      "metadata": {
        "id": "vxblYFgMsiEr"
      }
    },
    {
      "cell_type": "markdown",
      "source": [
        "Our SnippetSerializer class is replicating a lot of information that's also contained in the Snippet model. It would be nice if we could keep our code a bit more concise.\n",
        "\n",
        "In the same way that Django provides both Form classes and ModelForm classes, REST framework includes both Serializer classes, and ModelSerializer classes.\n",
        "\n",
        "Let's look at refactoring our serializer using the ModelSerializer class. Open the file snippets/serializers.py again, and replace the SnippetSerializer class with the following."
      ],
      "metadata": {
        "id": "MzOJ5x0msorT"
      }
    },
    {
      "cell_type": "code",
      "source": [
        "class SnippetSerializer(serializers.ModelSerializer):\n",
        "    class Meta:\n",
        "        model = Snippet\n",
        "        fields = ['id', 'title', 'code', 'linenos', 'language', 'style']"
      ],
      "metadata": {
        "id": "KG-SZsnisrvm"
      },
      "execution_count": null,
      "outputs": []
    },
    {
      "cell_type": "markdown",
      "source": [
        "One nice property that serializers have is that you can inspect all the fields in a serializer instance, by printing its representation. Open the Django shell with python manage.py shell, then try the following:"
      ],
      "metadata": {
        "id": "p9NSomtRsvu7"
      }
    },
    {
      "cell_type": "code",
      "source": [
        "from snippets.serializers import SnippetSerializer\n",
        "serializer = SnippetSerializer()\n",
        "print(repr(serializer))\n",
        "# SnippetSerializer():\n",
        "#    id = IntegerField(label='ID', read_only=True)\n",
        "#    title = CharField(allow_blank=True, max_length=100, required=False)\n",
        "#    code = CharField(style={'base_template': 'textarea.html'})\n",
        "#    linenos = BooleanField(required=False)\n",
        "#    language = ChoiceField(choices=[('Clipper', 'FoxPro'), ('Cucumber', 'Gherkin'), ('RobotFramework', 'RobotFramework'), ('abap', 'ABAP'), ('ada', 'Ada')...\n",
        "#    style = ChoiceField(choices=[('autumn', 'autumn'), ('borland', 'borland'), ('bw', 'bw'), ('colorful', 'colorful')..."
      ],
      "metadata": {
        "id": "TpQn3Cons0YG"
      },
      "execution_count": null,
      "outputs": []
    },
    {
      "cell_type": "markdown",
      "source": [
        "It's important to remember that ModelSerializer classes don't do anything particularly magical, they are simply a shortcut for creating serializer classes:\n",
        "\n",
        "An automatically determined set of fields.\n",
        "Simple default implementations for the create() and update() methods."
      ],
      "metadata": {
        "id": "H8Z_Hf0Bs4_s"
      }
    },
    {
      "cell_type": "markdown",
      "source": [
        "# **Writing Regular Django Views Using our Serializer**"
      ],
      "metadata": {
        "id": "0gRlxidKs7n5"
      }
    },
    {
      "cell_type": "markdown",
      "source": [
        "Let's see how we can write some API views using our new Serializer class. For the moment we won't use any of REST framework's other features, we'll just write the views as regular Django views.\n",
        "\n",
        "Edit the snippets/views.py file, and add the following."
      ],
      "metadata": {
        "id": "FxXgGTsZtEhG"
      }
    },
    {
      "cell_type": "code",
      "source": [
        "from django.http import HttpResponse, JsonResponse\n",
        "from django.views.decorators.csrf import csrf_exempt\n",
        "from rest_framework.parsers import JSONParser\n",
        "from snippets.models import Snippet\n",
        "from snippets.serializers import SnippetSerializer"
      ],
      "metadata": {
        "id": "hAc5bg2otHpz"
      },
      "execution_count": null,
      "outputs": []
    },
    {
      "cell_type": "markdown",
      "source": [
        "The root of our API is going to be a view that supports listing all the existing snippets, or creating a new snippet."
      ],
      "metadata": {
        "id": "wthJjsEutMAt"
      }
    },
    {
      "cell_type": "code",
      "source": [
        "@csrf_exempt\n",
        "def snippet_list(request):\n",
        "    \"\"\"\n",
        "    List all code snippets, or create a new snippet.\n",
        "    \"\"\"\n",
        "    if request.method == 'GET':\n",
        "        snippets = Snippet.objects.all()\n",
        "        serializer = SnippetSerializer(snippets, many=True)\n",
        "        return JsonResponse(serializer.data, safe=False)\n",
        "\n",
        "    elif request.method == 'POST':\n",
        "        data = JSONParser().parse(request)\n",
        "        serializer = SnippetSerializer(data=data)\n",
        "        if serializer.is_valid():\n",
        "            serializer.save()\n",
        "            return JsonResponse(serializer.data, status=201)\n",
        "        return JsonResponse(serializer.errors, status=400)"
      ],
      "metadata": {
        "id": "3Z8d3cRvtQZc"
      },
      "execution_count": null,
      "outputs": []
    },
    {
      "cell_type": "markdown",
      "source": [
        "Note that because we want to be able to POST to this view from clients that won't have a CSRF token we need to mark the view as csrf_exempt. This isn't something that you'd normally want to do, and REST framework views actually use more sensible behavior than this, but it'll do for our purposes right now.\n",
        "\n",
        "We'll also need a view which corresponds to an individual snippet, and can be used to retrieve, update or delete the snippet."
      ],
      "metadata": {
        "id": "ZsMMthsJtUtM"
      }
    },
    {
      "cell_type": "code",
      "source": [
        "@csrf_exempt\n",
        "def snippet_detail(request, pk):\n",
        "    \"\"\"\n",
        "    Retrieve, update or delete a code snippet.\n",
        "    \"\"\"\n",
        "    try:\n",
        "        snippet = Snippet.objects.get(pk=pk)\n",
        "    except Snippet.DoesNotExist:\n",
        "        return HttpResponse(status=404)\n",
        "\n",
        "    if request.method == 'GET':\n",
        "        serializer = SnippetSerializer(snippet)\n",
        "        return JsonResponse(serializer.data)\n",
        "\n",
        "    elif request.method == 'PUT':\n",
        "        data = JSONParser().parse(request)\n",
        "        serializer = SnippetSerializer(snippet, data=data)\n",
        "        if serializer.is_valid():\n",
        "            serializer.save()\n",
        "            return JsonResponse(serializer.data)\n",
        "        return JsonResponse(serializer.errors, status=400)\n",
        "\n",
        "    elif request.method == 'DELETE':\n",
        "        snippet.delete()\n",
        "        return HttpResponse(status=204)"
      ],
      "metadata": {
        "id": "-XSkFHpWtZEX"
      },
      "execution_count": null,
      "outputs": []
    },
    {
      "cell_type": "markdown",
      "source": [
        "Finally we need to wire these views up. Create the snippets/urls.py file:"
      ],
      "metadata": {
        "id": "_10UoPKBtdXW"
      }
    },
    {
      "cell_type": "code",
      "source": [
        "from django.urls import path\n",
        "from snippets import views\n",
        "\n",
        "urlpatterns = [\n",
        "    path('snippets/', views.snippet_list),\n",
        "    path('snippets/<int:pk>/', views.snippet_detail),\n",
        "]"
      ],
      "metadata": {
        "id": "o8b0uAMBtgDA"
      },
      "execution_count": null,
      "outputs": []
    },
    {
      "cell_type": "markdown",
      "source": [
        "We also need to wire up the root urlconf, in the tutorial/urls.py file, to include our snippet app's URLs."
      ],
      "metadata": {
        "id": "YvfjnnNgtllV"
      }
    },
    {
      "cell_type": "code",
      "source": [
        "from django.urls import path, include\n",
        "\n",
        "urlpatterns = [\n",
        "    path('', include('snippets.urls')),\n",
        "]"
      ],
      "metadata": {
        "id": "ZTsH5-a5tpDK"
      },
      "execution_count": null,
      "outputs": []
    },
    {
      "cell_type": "markdown",
      "source": [
        "It's worth noting that there are a couple of edge cases we're not dealing with properly at the moment. If we send malformed json, or if a request is made with a method that the view doesn't handle, then we'll end up with a 500 \"server error\" response. Still, this'll do for now."
      ],
      "metadata": {
        "id": "I-BM7iTEtu58"
      }
    },
    {
      "cell_type": "markdown",
      "source": [
        "# **Testing our first attempt at a web API **"
      ],
      "metadata": {
        "id": "BFvsgEKItxfv"
      }
    },
    {
      "cell_type": "markdown",
      "source": [
        "Now we can start up a sample server that serves our snippets.\n",
        "\n",
        "Quit out of the shell..."
      ],
      "metadata": {
        "id": "MkmUZu_jt9nT"
      }
    },
    {
      "cell_type": "code",
      "source": [
        "quit()"
      ],
      "metadata": {
        "id": "jHMzXj1puD0O"
      },
      "execution_count": null,
      "outputs": []
    },
    {
      "cell_type": "markdown",
      "source": [
        "...and start up Django's development server."
      ],
      "metadata": {
        "id": "g5mlMxIJuGyN"
      }
    },
    {
      "cell_type": "code",
      "source": [
        "python manage.py runserver\n",
        "\n",
        "Validating models...\n",
        "\n",
        "0 errors found\n",
        "Django version 4.0,1 using settings 'tutorial.settings'\n",
        "Starting Development server at http://127.0.0.1:8000/\n",
        "Quit the server with CONTROL-C."
      ],
      "metadata": {
        "id": "5S8b0Ai5uJ5w"
      },
      "execution_count": null,
      "outputs": []
    },
    {
      "cell_type": "markdown",
      "source": [
        "In another terminal window, we can test the server.\n",
        "\n",
        "We can test our API using curl or httpie. Httpie is a user friendly http client that's written in Python. Let's install that.\n",
        "\n",
        "You can install httpie using pip:"
      ],
      "metadata": {
        "id": "oqfKga_ruQiW"
      }
    },
    {
      "cell_type": "code",
      "source": [
        "pip install httpie"
      ],
      "metadata": {
        "id": "nXyGWjevuTU1"
      },
      "execution_count": null,
      "outputs": []
    },
    {
      "cell_type": "markdown",
      "source": [
        "Finally, we can get a list of all of the snippets:"
      ],
      "metadata": {
        "id": "nfI8hURKuV69"
      }
    },
    {
      "cell_type": "code",
      "source": [
        "http http://127.0.0.1:8000/snippets/\n",
        "\n",
        "HTTP/1.1 200 OK\n",
        "...\n",
        "[\n",
        "  {\n",
        "    \"id\": 1,\n",
        "    \"title\": \"\",\n",
        "    \"code\": \"foo = \\\"bar\\\"\\n\",\n",
        "    \"linenos\": false,\n",
        "    \"language\": \"python\",\n",
        "    \"style\": \"friendly\"\n",
        "  },\n",
        "  {\n",
        "    \"id\": 2,\n",
        "    \"title\": \"\",\n",
        "    \"code\": \"print(\\\"hello, world\\\")\\n\",\n",
        "    \"linenos\": false,\n",
        "    \"language\": \"python\",\n",
        "    \"style\": \"friendly\"\n",
        "  }\n",
        "]"
      ],
      "metadata": {
        "id": "c6dnynA9uaAC"
      },
      "execution_count": null,
      "outputs": []
    },
    {
      "cell_type": "markdown",
      "source": [
        "Or we can get a particular snippet by referencing its id:"
      ],
      "metadata": {
        "id": "yQ113bOIueJ7"
      }
    },
    {
      "cell_type": "code",
      "source": [
        "http http://127.0.0.1:8000/snippets/2/\n",
        "\n",
        "HTTP/1.1 200 OK\n",
        "...\n",
        "{\n",
        "  \"id\": 2,\n",
        "  \"title\": \"\",\n",
        "  \"code\": \"print(\\\"hello, world\\\")\\n\",\n",
        "  \"linenos\": false,\n",
        "  \"language\": \"python\",\n",
        "  \"style\": \"friendly\"\n",
        "}"
      ],
      "metadata": {
        "id": "RXyu7JO8uhes"
      },
      "execution_count": null,
      "outputs": []
    },
    {
      "cell_type": "markdown",
      "source": [
        "Similarly, you can have the same json displayed by visiting these URLs in a web browser.\n",
        "\n",
        "Where are we now\n",
        "We're doing okay so far, we've got a serialization API that feels pretty similar to Django's Forms API, and some regular Django views.\n",
        "\n",
        "Our API views don't do anything particularly special at the moment, beyond serving json responses, and there are some error handling edge cases we'd still like to clean up, but it's a functioning Web API.\n",
        "\n",
        "We'll see how we can start to improve things in part 2 of the tutorial."
      ],
      "metadata": {
        "id": "1eqKK6fhuqcA"
      }
    }
  ]
}