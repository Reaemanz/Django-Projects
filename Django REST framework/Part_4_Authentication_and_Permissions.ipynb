{
  "nbformat": 4,
  "nbformat_minor": 0,
  "metadata": {
    "colab": {
      "provenance": []
    },
    "kernelspec": {
      "name": "python3",
      "display_name": "Python 3"
    },
    "language_info": {
      "name": "python"
    }
  },
  "cells": [
    {
      "cell_type": "markdown",
      "source": [
        "# **Part 4: Authentication and Permissions**"
      ],
      "metadata": {
        "id": "5YoMvGSk7_Qm"
      }
    },
    {
      "cell_type": "markdown",
      "source": [
        "Currently our API doesn't have any restrictions on who can edit or delete code snippets. We'd like to have some more advanced behavior in order to make sure that:\n",
        "\n",
        "1. Code snippets are always associated with a creator.\n",
        "2. Only authenticated users may create snippets.\n",
        "3. Only the creator of a snippet may update or delete it.\n",
        "4. Unauthenticated requests should have full read-only access."
      ],
      "metadata": {
        "id": "6bUV5Q6E8Jb_"
      }
    },
    {
      "cell_type": "markdown",
      "source": [
        "# **Adding information to our model**"
      ],
      "metadata": {
        "id": "Z7FFSamt8U-I"
      }
    },
    {
      "cell_type": "markdown",
      "source": [
        "We're going to make a couple of changes to our Snippet model class. First, let's add a couple of fields. One of those fields will be used to represent the user who created the code snippet. The other field will be used to store the highlighted HTML representation of the code.\n",
        "\n",
        "Add the following two fields to the Snippet model in models.py."
      ],
      "metadata": {
        "id": "Mtyq0Qho8aa-"
      }
    },
    {
      "cell_type": "code",
      "source": [
        "owner = models.ForeignKey('auth.User', related_name='snippets', on_delete=models.CASCADE)\n",
        "highlighted = models.TextField()"
      ],
      "metadata": {
        "id": "MnzkAE9T8eqQ"
      },
      "execution_count": null,
      "outputs": []
    },
    {
      "cell_type": "markdown",
      "source": [
        "We'd also need to make sure that when the model is saved, that we populate the highlighted field, using the pygments code highlighting library.\n",
        "\n",
        "We'll need some extra imports:"
      ],
      "metadata": {
        "id": "TiZpyC8G8j2B"
      }
    },
    {
      "cell_type": "code",
      "source": [
        "from pygments.lexers import get_lexer_by_name\n",
        "from pygments.formatters.html import HtmlFormatter\n",
        "from pygments import highlight"
      ],
      "metadata": {
        "id": "pbWlUBvk8mf5"
      },
      "execution_count": null,
      "outputs": []
    },
    {
      "cell_type": "markdown",
      "source": [
        "And now we can add a .save() method to our model class:"
      ],
      "metadata": {
        "id": "d_qSh7UZ8piv"
      }
    },
    {
      "cell_type": "code",
      "source": [
        "def save(self, *args, **kwargs):\n",
        "    \"\"\"\n",
        "    Use the `pygments` library to create a highlighted HTML\n",
        "    representation of the code snippet.\n",
        "    \"\"\"\n",
        "    lexer = get_lexer_by_name(self.language)\n",
        "    linenos = 'table' if self.linenos else False\n",
        "    options = {'title': self.title} if self.title else {}\n",
        "    formatter = HtmlFormatter(style=self.style, linenos=linenos,\n",
        "                              full=True, **options)\n",
        "    self.highlighted = highlight(self.code, lexer, formatter)\n",
        "    super().save(*args, **kwargs)"
      ],
      "metadata": {
        "id": "PkEy-spn8uWa"
      },
      "execution_count": null,
      "outputs": []
    },
    {
      "cell_type": "markdown",
      "source": [
        "When that's all done we'll need to update our database tables. Normally we'd create a database migration in order to do that, but for the purposes of this tutorial, let's just delete the database and start again."
      ],
      "metadata": {
        "id": "jxYEVyOa82z8"
      }
    },
    {
      "cell_type": "code",
      "source": [
        "rm -f db.sqlite3\n",
        "rm -r snippets/migrations\n",
        "python manage.py makemigrations snippets\n",
        "python manage.py migrate"
      ],
      "metadata": {
        "id": "3dLRM9Pe86WL"
      },
      "execution_count": null,
      "outputs": []
    },
    {
      "cell_type": "markdown",
      "source": [
        "You might also want to create a few different users, to use for testing the API. The quickest way to do this will be with the createsuperuser command."
      ],
      "metadata": {
        "id": "nSMwfmMQ89qa"
      }
    },
    {
      "cell_type": "code",
      "source": [
        "python manage.py createsuperus"
      ],
      "metadata": {
        "id": "hYQY7Hse9AWZ"
      },
      "execution_count": null,
      "outputs": []
    },
    {
      "cell_type": "markdown",
      "source": [
        "# **Adding endpoints for our user models**"
      ],
      "metadata": {
        "id": "INy4DX4k9DDK"
      }
    },
    {
      "cell_type": "markdown",
      "source": [
        "Now that we've got some users to work with, we'd better add representations of those users to our API. Creating a new serializer is easy. In serializers.py add:"
      ],
      "metadata": {
        "id": "ysMSd92B9KF6"
      }
    },
    {
      "cell_type": "code",
      "source": [
        "from django.contrib.auth.models import User\n",
        "\n",
        "class UserSerializer(serializers.ModelSerializer):\n",
        "    snippets = serializers.PrimaryKeyRelatedField(many=True, queryset=Snippet.objects.all())\n",
        "\n",
        "    class Meta:\n",
        "        model = User\n",
        "        fields = ['id', 'username', 'snippets']"
      ],
      "metadata": {
        "id": "o-CLdwoS9Szm"
      },
      "execution_count": null,
      "outputs": []
    },
    {
      "cell_type": "markdown",
      "source": [
        "Because 'snippets' is a reverse relationship on the User model, it will not be included by default when using the ModelSerializer class, so we needed to add an explicit field for it.\n",
        "\n",
        "We'll also add a couple of views to views.py. We'd like to just use read-only views for the user representations, so we'll use the ListAPIView and RetrieveAPIView generic class-based views."
      ],
      "metadata": {
        "id": "k5RHF1499Wo3"
      }
    },
    {
      "cell_type": "code",
      "source": [
        "from django.contrib.auth.models import User\n",
        "\n",
        "\n",
        "class UserList(generics.ListAPIView):\n",
        "    queryset = User.objects.all()\n",
        "    serializer_class = UserSerializer\n",
        "\n",
        "\n",
        "class UserDetail(generics.RetrieveAPIView):\n",
        "    queryset = User.objects.all()\n",
        "    serializer_class = UserSerializer"
      ],
      "metadata": {
        "id": "Rjii0D0E9dBj"
      },
      "execution_count": null,
      "outputs": []
    },
    {
      "cell_type": "markdown",
      "source": [
        "Make sure to also import the UserSerializer class"
      ],
      "metadata": {
        "id": "5Xwg7c8k9gKx"
      }
    },
    {
      "cell_type": "code",
      "source": [
        "from snippets.serializers import UserSerializer"
      ],
      "metadata": {
        "id": "KMiMFDcB9l_3"
      },
      "execution_count": null,
      "outputs": []
    },
    {
      "cell_type": "markdown",
      "source": [
        "Finally we need to add those views into the API, by referencing them from the URL conf. Add the following to the patterns in snippets/urls.py."
      ],
      "metadata": {
        "id": "xq1MR0kV9rVy"
      }
    },
    {
      "cell_type": "code",
      "source": [
        "path('users/', views.UserList.as_view()),\n",
        "path('users/<int:pk>/', views.UserDetail.as_view()),"
      ],
      "metadata": {
        "id": "EuUDqq3a9vpS"
      },
      "execution_count": null,
      "outputs": []
    },
    {
      "cell_type": "markdown",
      "source": [
        "# **Associating Snippets with users**"
      ],
      "metadata": {
        "id": "WwS2Vdxb9z-b"
      }
    },
    {
      "cell_type": "markdown",
      "source": [
        "Right now, if we created a code snippet, there'd be no way of associating the user that created the snippet, with the snippet instance. The user isn't sent as part of the serialized representation, but is instead a property of the incoming request.\n",
        "\n",
        "The way we deal with that is by overriding a .perform_create() method on our snippet views, that allows us to modify how the instance save is managed, and handle any information that is implicit in the incoming request or requested URL.\n",
        "\n",
        "On the SnippetList view class, add the following method:"
      ],
      "metadata": {
        "id": "OpZTwuea93ov"
      }
    },
    {
      "cell_type": "code",
      "source": [
        "def perform_create(self, serializer):\n",
        "    serializer.save(owner=self.request.user)"
      ],
      "metadata": {
        "id": "dU7TUU8T97Et"
      },
      "execution_count": null,
      "outputs": []
    },
    {
      "cell_type": "markdown",
      "source": [
        "The create() method of our serializer will now be passed an additional 'owner' field, along with the validated data from the request."
      ],
      "metadata": {
        "id": "wz-LdAI09_Ah"
      }
    },
    {
      "cell_type": "markdown",
      "source": [
        "Now that snippets are associated with the user that created them, let's update our SnippetSerializer to reflect that. Add the following field to the serializer definition in serializers.py:"
      ],
      "metadata": {
        "id": "PsvkndGP-Ch6"
      }
    },
    {
      "cell_type": "code",
      "source": [
        "owner = serializers.ReadOnlyField(source='owner.username')"
      ],
      "metadata": {
        "id": "naCVW_it-HUv"
      },
      "execution_count": null,
      "outputs": []
    },
    {
      "cell_type": "markdown",
      "source": [
        "Note: Make sure you also add 'owner', to the list of fields in the inner Meta class.\n",
        "\n",
        "This field is doing something quite interesting. The source argument controls which attribute is used to populate a field, and can point at any attribute on the serialized instance. It can also take the dotted notation shown above, in which case it will traverse the given attributes, in a similar way as it is used with Django's template language.\n",
        "\n",
        "The field we've added is the untyped ReadOnlyField class, in contrast to the other typed fields, such as CharField, BooleanField etc... The untyped ReadOnlyField is always read-only, and will be used for serialized representations, but will not be used for updating model instances when they are deserialized. We could have also used CharField(read_only=True) here."
      ],
      "metadata": {
        "id": "ZJqRrrJi-K7w"
      }
    },
    {
      "cell_type": "markdown",
      "source": [
        "# **Adding Required Permissions to Views**"
      ],
      "metadata": {
        "id": "-h3rZ-yO-QUE"
      }
    },
    {
      "cell_type": "markdown",
      "source": [
        "Now that code snippets are associated with users, we want to make sure that only authenticated users are able to create, update and delete code snippets.\n",
        "\n",
        "REST framework includes a number of permission classes that we can use to restrict who can access a given view. In this case the one we're looking for is IsAuthenticatedOrReadOnly, which will ensure that authenticated requests get read-write access, and unauthenticated requests get read-only access.\n",
        "\n",
        "First add the following import in the views module"
      ],
      "metadata": {
        "id": "S7bxuLqA-UV3"
      }
    },
    {
      "cell_type": "code",
      "source": [
        "from rest_framework import permissions"
      ],
      "metadata": {
        "id": "gvCUo2cg-anB"
      },
      "execution_count": null,
      "outputs": []
    },
    {
      "cell_type": "markdown",
      "source": [
        "Then, add the following property to both the SnippetList and SnippetDetail view classes."
      ],
      "metadata": {
        "id": "TEENOlS3-d7n"
      }
    },
    {
      "cell_type": "code",
      "source": [
        "permission_classes = [permissions.IsAuthenticatedOrReadOnly]"
      ],
      "metadata": {
        "id": "tIjmxXEx-gvp"
      },
      "execution_count": null,
      "outputs": []
    },
    {
      "cell_type": "markdown",
      "source": [
        "# **Adding Login to the browsable API**"
      ],
      "metadata": {
        "id": "BZoIzDhm-jSe"
      }
    },
    {
      "cell_type": "markdown",
      "source": [
        "If you open a browser and navigate to the browsable API at the moment, you'll find that you're no longer able to create new code snippets. In order to do so we'd need to be able to login as a user.\n",
        "\n",
        "We can add a login view for use with the browsable API, by editing the URLconf in our project-level urls.py file.\n",
        "\n",
        "Add the following import at the top of the file:"
      ],
      "metadata": {
        "id": "60LJ0kGO-peM"
      }
    },
    {
      "cell_type": "code",
      "source": [
        "from django.urls import path, include"
      ],
      "metadata": {
        "id": "LpwkUSuI-tJN"
      },
      "execution_count": null,
      "outputs": []
    },
    {
      "cell_type": "markdown",
      "source": [
        "And, at the end of the file, add a pattern to include the login and logout views for the browsable API."
      ],
      "metadata": {
        "id": "SDKJBJ27-v71"
      }
    },
    {
      "cell_type": "code",
      "source": [
        "urlpatterns += [\n",
        "    path('api-auth/', include('rest_framework.urls')),\n",
        "]"
      ],
      "metadata": {
        "id": "_odntmbd-1TX"
      },
      "execution_count": null,
      "outputs": []
    },
    {
      "cell_type": "markdown",
      "source": [
        "The 'api-auth/' part of pattern can actually be whatever URL you want to use.\n",
        "\n",
        "Now if you open up the browser again and refresh the page you'll see a 'Login' link in the top right of the page. If you log in as one of the users you created earlier, you'll be able to create code snippets again.\n",
        "\n",
        "Once you've created a few code snippets, navigate to the '/users/' endpoint, and notice that the representation includes a list of the snippet ids that are associated with each user, in each user's 'snippets' field."
      ],
      "metadata": {
        "id": "vcngOetg-52s"
      }
    },
    {
      "cell_type": "markdown",
      "source": [
        "# **Object Level Permissions**"
      ],
      "metadata": {
        "id": "moAkiTXP-8id"
      }
    },
    {
      "cell_type": "markdown",
      "source": [
        "Really we'd like all code snippets to be visible to anyone, but also make sure that only the user that created a code snippet is able to update or delete it.\n",
        "\n",
        "To do that we're going to need to create a custom permission.\n",
        "\n",
        "In the snippets app, create a new file, permissions.py"
      ],
      "metadata": {
        "id": "wKLdn6yU_D0_"
      }
    },
    {
      "cell_type": "code",
      "source": [
        "from rest_framework import permissions\n",
        "\n",
        "\n",
        "class IsOwnerOrReadOnly(permissions.BasePermission):\n",
        "    \"\"\"\n",
        "    Custom permission to only allow owners of an object to edit it.\n",
        "    \"\"\"\n",
        "\n",
        "    def has_object_permission(self, request, view, obj):\n",
        "        # Read permissions are allowed to any request,\n",
        "        # so we'll always allow GET, HEAD or OPTIONS requests.\n",
        "        if request.method in permissions.SAFE_METHODS:\n",
        "            return True\n",
        "\n",
        "        # Write permissions are only allowed to the owner of the snippet.\n",
        "        return obj.owner == request.user"
      ],
      "metadata": {
        "id": "9pWXzEhs_H-E"
      },
      "execution_count": null,
      "outputs": []
    },
    {
      "cell_type": "markdown",
      "source": [
        "Now we can add that custom permission to our snippet instance endpoint, by editing the permission_classes property on the SnippetDetail view class:"
      ],
      "metadata": {
        "id": "omtY2Po-_LYK"
      }
    },
    {
      "cell_type": "code",
      "source": [
        "permission_classes = [permissions.IsAuthenticatedOrReadOnly,\n",
        "                      IsOwnerOrReadOnly]"
      ],
      "metadata": {
        "id": "H_uuncMy_RBq"
      },
      "execution_count": null,
      "outputs": []
    },
    {
      "cell_type": "markdown",
      "source": [
        "Make sure to also import the IsOwnerOrReadOnly class."
      ],
      "metadata": {
        "id": "8Iu_2vf__UBs"
      }
    },
    {
      "cell_type": "code",
      "source": [
        "from snippets.permissions import IsOwnerOrReadOnly"
      ],
      "metadata": {
        "id": "WUJPTsC-_auQ"
      },
      "execution_count": null,
      "outputs": []
    },
    {
      "cell_type": "markdown",
      "source": [
        "Now, if you open a browser again, you find that the 'DELETE' and 'PUT' actions only appear on a snippet instance endpoint if you're logged in as the same user that created the code snippet."
      ],
      "metadata": {
        "id": "pmGC20sm_d5X"
      }
    },
    {
      "cell_type": "markdown",
      "source": [
        "# **Authenticating with the API**"
      ],
      "metadata": {
        "id": "1t-Gx47s_jRh"
      }
    },
    {
      "cell_type": "markdown",
      "source": [
        "Because we now have a set of permissions on the API, we need to authenticate our requests to it if we want to edit any snippets. We haven't set up any authentication classes, so the defaults are currently applied, which are SessionAuthentication and BasicAuthentication.\n",
        "\n",
        "When we interact with the API through the web browser, we can login, and the browser session will then provide the required authentication for the requests.\n",
        "\n",
        "If we're interacting with the API programmatically we need to explicitly provide the authentication credentials on each request.\n",
        "\n",
        "If we try to create a snippet without authenticating, we'll get an error:"
      ],
      "metadata": {
        "id": "oIk960Yy_oBh"
      }
    },
    {
      "cell_type": "code",
      "source": [
        "http POST http://127.0.0.1:8000/snippets/ code=\"print(123)\"\n",
        "\n",
        "{\n",
        "    \"detail\": \"Authentication credentials were not provided.\"\n",
        "}"
      ],
      "metadata": {
        "id": "VnG2F0RN_tOP"
      },
      "execution_count": null,
      "outputs": []
    },
    {
      "cell_type": "markdown",
      "source": [
        "We can make a successful request by including the username and password of one of the users we created earlier."
      ],
      "metadata": {
        "id": "t6fjcTiX_wOP"
      }
    },
    {
      "cell_type": "code",
      "source": [
        "http -a admin:password123 POST http://127.0.0.1:8000/snippets/ code=\"print(789)\"\n",
        "\n",
        "{\n",
        "    \"id\": 1,\n",
        "    \"owner\": \"admin\",\n",
        "    \"title\": \"foo\",\n",
        "    \"code\": \"print(789)\",\n",
        "    \"linenos\": false,\n",
        "    \"language\": \"python\",\n",
        "    \"style\": \"friendly\"\n",
        "}"
      ],
      "metadata": {
        "id": "Vto44qFx_0Py"
      },
      "execution_count": null,
      "outputs": []
    },
    {
      "cell_type": "markdown",
      "source": [
        "We've now got a fairly fine-grained set of permissions on our Web API, and end points for users of the system and for the code snippets that they have created.\n",
        "\n",
        "In part 5 of the tutorial we'll look at how we can tie everything together by creating an HTML endpoint for our highlighted snippets, and improve the cohesion of our API by using hyperlinking for the relationships within the system."
      ],
      "metadata": {
        "id": "k7sW_wQN_6J1"
      }
    }
  ]
}