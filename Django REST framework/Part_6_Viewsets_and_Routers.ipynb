{
  "nbformat": 4,
  "nbformat_minor": 0,
  "metadata": {
    "colab": {
      "provenance": []
    },
    "kernelspec": {
      "name": "python3",
      "display_name": "Python 3"
    },
    "language_info": {
      "name": "python"
    }
  },
  "cells": [
    {
      "cell_type": "markdown",
      "source": [
        "# **Part 6: Viewsets and Routers**"
      ],
      "metadata": {
        "id": "79WKka2PDJYN"
      }
    },
    {
      "cell_type": "markdown",
      "source": [
        "REST framework includes an abstraction for dealing with ViewSets, that allows the developer to concentrate on modeling the state and interactions of the API, and leave the URL construction to be handled automatically, based on common conventions.\n",
        "\n",
        "ViewSet classes are almost the same thing as View classes, except that they provide operations such as retrieve, or update, and not method handlers such as get or put.\n",
        "\n",
        "A ViewSet class is only bound to a set of method handlers at the last moment, when it is instantiated into a set of views, typically by using a Router class which handles the complexities of defining the URL conf for you."
      ],
      "metadata": {
        "id": "ZJO7KcdjDRyi"
      }
    },
    {
      "cell_type": "markdown",
      "source": [
        "# **Refactoring to use viewsets**"
      ],
      "metadata": {
        "id": "1Sifc5huDVJW"
      }
    },
    {
      "cell_type": "code",
      "source": [
        "from rest_framework import viewsets\n",
        "\n",
        "class UserViewSet(viewsets.ReadOnlyModelViewSet):\n",
        "    \"\"\"\n",
        "    This viewset automatically provides `list` and `retrieve` actions.\n",
        "    \"\"\"\n",
        "    queryset = User.objects.all()\n",
        "    serializer_class = UserSerializer"
      ],
      "metadata": {
        "id": "kinjNkWMDbQW"
      },
      "execution_count": null,
      "outputs": []
    },
    {
      "cell_type": "markdown",
      "source": [
        "Here we've used the ReadOnlyModelViewSet class to automatically provide the default 'read-only' operations. We're still setting the queryset and serializer_class attributes exactly as we did when we were using regular views, but we no longer need to provide the same information to two separate classes.\n",
        "\n",
        "Next we're going to replace the SnippetList, SnippetDetail and SnippetHighlight view classes. We can remove the three views, and again replace them with a single class."
      ],
      "metadata": {
        "id": "HkS3FIV0Dg94"
      }
    },
    {
      "cell_type": "code",
      "source": [
        "from rest_framework.decorators import action\n",
        "from rest_framework.response import Response\n",
        "from rest_framework import permissions\n",
        "\n",
        "class SnippetViewSet(viewsets.ModelViewSet):\n",
        "    \"\"\"\n",
        "    This viewset automatically provides `list`, `create`, `retrieve`,\n",
        "    `update` and `destroy` actions.\n",
        "\n",
        "    Additionally we also provide an extra `highlight` action.\n",
        "    \"\"\"\n",
        "    queryset = Snippet.objects.all()\n",
        "    serializer_class = SnippetSerializer\n",
        "    permission_classes = [permissions.IsAuthenticatedOrReadOnly,\n",
        "                          IsOwnerOrReadOnly]\n",
        "\n",
        "    @action(detail=True, renderer_classes=[renderers.StaticHTMLRenderer])\n",
        "    def highlight(self, request, *args, **kwargs):\n",
        "        snippet = self.get_object()\n",
        "        return Response(snippet.highlighted)\n",
        "\n",
        "    def perform_create(self, serializer):\n",
        "        serializer.save(owner=self.request.user)"
      ],
      "metadata": {
        "id": "HGZ11MZQDlCv"
      },
      "execution_count": null,
      "outputs": []
    },
    {
      "cell_type": "markdown",
      "source": [
        "This time we've used the ModelViewSet class in order to get the complete set of default read and write operations.\n",
        "\n",
        "Notice that we've also used the @action decorator to create a custom action, named highlight. This decorator can be used to add any custom endpoints that don't fit into the standard create/update/delete style.\n",
        "\n",
        "Custom actions which use the @action decorator will respond to GET requests by default. We can use the methods argument if we wanted an action that responded to POST requests.\n",
        "\n",
        "The URLs for custom actions by default depend on the method name itself. If you want to change the way url should be constructed, you can include url_path as a decorator keyword argument."
      ],
      "metadata": {
        "id": "XrKnD-bCDpiF"
      }
    },
    {
      "cell_type": "markdown",
      "source": [
        "Binding Viewsets to URL's explicitly"
      ],
      "metadata": {
        "id": "pMVJpRBLDtDI"
      }
    },
    {
      "cell_type": "markdown",
      "source": [
        "The handler methods only get bound to the actions when we define the URLConf. To see what's going on under the hood let's first explicitly create a set of views from our ViewSets.\n",
        "\n",
        "In the snippets/urls.py file we bind our ViewSet classes into a set of concrete views."
      ],
      "metadata": {
        "id": "JAPQWGTlD4XW"
      }
    },
    {
      "cell_type": "code",
      "source": [
        "from snippets.views import SnippetViewSet, UserViewSet, api_root\n",
        "from rest_framework import renderers\n",
        "\n",
        "snippet_list = SnippetViewSet.as_view({\n",
        "    'get': 'list',\n",
        "    'post': 'create'\n",
        "})\n",
        "snippet_detail = SnippetViewSet.as_view({\n",
        "    'get': 'retrieve',\n",
        "    'put': 'update',\n",
        "    'patch': 'partial_update',\n",
        "    'delete': 'destroy'\n",
        "})\n",
        "snippet_highlight = SnippetViewSet.as_view({\n",
        "    'get': 'highlight'\n",
        "}, renderer_classes=[renderers.StaticHTMLRenderer])\n",
        "user_list = UserViewSet.as_view({\n",
        "    'get': 'list'\n",
        "})\n",
        "user_detail = UserViewSet.as_view({\n",
        "    'get': 'retrieve'\n",
        "})"
      ],
      "metadata": {
        "id": "6LXOo43zD8kA"
      },
      "execution_count": null,
      "outputs": []
    },
    {
      "cell_type": "markdown",
      "source": [
        "Notice how we're creating multiple views from each ViewSet class, by binding the http methods to the required action for each view.\n",
        "\n",
        "Now that we've bound our resources into concrete views, we can register the views with the URL conf as usual."
      ],
      "metadata": {
        "id": "oQB2a8aaEAvp"
      }
    },
    {
      "cell_type": "code",
      "source": [
        "urlpatterns = format_suffix_patterns([\n",
        "    path('', api_root),\n",
        "    path('snippets/', snippet_list, name='snippet-list'),\n",
        "    path('snippets/<int:pk>/', snippet_detail, name='snippet-detail'),\n",
        "    path('snippets/<int:pk>/highlight/', snippet_highlight, name='snippet-highlight'),\n",
        "    path('users/', user_list, name='user-list'),\n",
        "    path('users/<int:pk>/', user_detail, name='user-detail')\n",
        "])"
      ],
      "metadata": {
        "id": "adVDHNtLEEf3"
      },
      "execution_count": null,
      "outputs": []
    },
    {
      "cell_type": "markdown",
      "source": [
        "# **Using Routers**"
      ],
      "metadata": {
        "id": "dzMkU9UjEHCO"
      }
    },
    {
      "cell_type": "markdown",
      "source": [
        "Because we're using ViewSet classes rather than View classes, we actually don't need to design the URL conf ourselves. The conventions for wiring up resources into views and urls can be handled automatically, using a Router class. All we need to do is register the appropriate view sets with a router, and let it do the rest.\n",
        "\n",
        "Here's our re-wired snippets/urls.py file."
      ],
      "metadata": {
        "id": "DQwmgN9mER_v"
      }
    },
    {
      "cell_type": "code",
      "source": [
        "from django.urls import path, include\n",
        "from rest_framework.routers import DefaultRouter\n",
        "from snippets import views\n",
        "\n",
        "# Create a router and register our viewsets with it.\n",
        "router = DefaultRouter()\n",
        "router.register(r'snippets', views.SnippetViewSet,basename=\"snippet\")\n",
        "router.register(r'users', views.UserViewSet,basename=\"user\")\n",
        "\n",
        "# The API URLs are now determined automatically by the router.\n",
        "urlpatterns = [\n",
        "    path('', include(router.urls)),\n",
        "]"
      ],
      "metadata": {
        "id": "mrBoszCUEVbJ"
      },
      "execution_count": null,
      "outputs": []
    },
    {
      "cell_type": "markdown",
      "source": [
        "Registering the viewsets with the router is similar to providing a urlpattern. We include two arguments - the URL prefix for the views, and the viewset itself.\n",
        "\n",
        "The DefaultRouter class we're using also automatically creates the API root view for us, so we can now delete the api_root method from our views module."
      ],
      "metadata": {
        "id": "6TkvxPgiEZ1t"
      }
    },
    {
      "cell_type": "markdown",
      "source": [
        "# **Tradeoffs between viewsets and views**"
      ],
      "metadata": {
        "id": "E9QkcUxmEdoL"
      }
    },
    {
      "cell_type": "markdown",
      "source": [
        "Using viewsets can be a really useful abstraction. It helps ensure that URL conventions will be consistent across your API, minimizes the amount of code you need to write, and allows you to concentrate on the interactions and representations your API provides rather than the specifics of the URL conf.\n",
        "\n",
        "That doesn't mean it's always the right approach to take. There's a similar set of trade-offs to consider as when using class-based views instead of function based views. Using viewsets is less explicit than building your views individually."
      ],
      "metadata": {
        "id": "bjzBDrzbEitF"
      }
    }
  ]
}