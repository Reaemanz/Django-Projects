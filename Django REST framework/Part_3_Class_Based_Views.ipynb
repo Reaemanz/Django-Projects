{
  "nbformat": 4,
  "nbformat_minor": 0,
  "metadata": {
    "colab": {
      "provenance": []
    },
    "kernelspec": {
      "name": "python3",
      "display_name": "Python 3"
    },
    "language_info": {
      "name": "python"
    }
  },
  "cells": [
    {
      "cell_type": "markdown",
      "source": [
        "# **Part 3: Class Based Views**"
      ],
      "metadata": {
        "id": "iu3bmN3h5JhS"
      }
    },
    {
      "cell_type": "markdown",
      "source": [
        "We can also write our API views using class-based views, rather than function based views. As we'll see this is a powerful pattern that allows us to reuse common functionality, and helps us keep our code DRY."
      ],
      "metadata": {
        "id": "uRXtdle55QSL"
      }
    },
    {
      "cell_type": "markdown",
      "source": [
        "# **Rewriting my API using Class based Views**"
      ],
      "metadata": {
        "id": "xvHse95Q5Wpc"
      }
    },
    {
      "cell_type": "markdown",
      "source": [
        "We'll start by rewriting the root view as a class-based view. All this involves is a little bit of refactoring of views.py."
      ],
      "metadata": {
        "id": "A54hmtgK5fvW"
      }
    },
    {
      "cell_type": "code",
      "execution_count": null,
      "metadata": {
        "id": "Qo4WFDUx5BkP"
      },
      "outputs": [],
      "source": [
        "from snippets.models import Snippet\n",
        "from snippets.serializers import SnippetSerializer\n",
        "from django.http import Http404\n",
        "from rest_framework.views import APIView\n",
        "from rest_framework.response import Response\n",
        "from rest_framework import status\n",
        "\n",
        "\n",
        "class SnippetList(APIView):\n",
        "    \"\"\"\n",
        "    List all snippets, or create a new snippet.\n",
        "    \"\"\"\n",
        "    def get(self, request, format=None):\n",
        "        snippets = Snippet.objects.all()\n",
        "        serializer = SnippetSerializer(snippets, many=True)\n",
        "        return Response(serializer.data)\n",
        "\n",
        "    def post(self, request, format=None):\n",
        "        serializer = SnippetSerializer(data=request.data)\n",
        "        if serializer.is_valid():\n",
        "            serializer.save()\n",
        "            return Response(serializer.data, status=status.HTTP_201_CREATED)\n",
        "        return Response(serializer.errors, status=status.HTTP_400_BAD_REQUEST)"
      ]
    },
    {
      "cell_type": "markdown",
      "source": [
        "So far, so good. It looks pretty similar to the previous case, but we've got better separation between the different HTTP methods. We'll also need to update the instance view in views.py."
      ],
      "metadata": {
        "id": "ps2wDPwO5si3"
      }
    },
    {
      "cell_type": "code",
      "source": [
        "class SnippetDetail(APIView):\n",
        "    \"\"\"\n",
        "    Retrieve, update or delete a snippet instance.\n",
        "    \"\"\"\n",
        "    def get_object(self, pk):\n",
        "        try:\n",
        "            return Snippet.objects.get(pk=pk)\n",
        "        except Snippet.DoesNotExist:\n",
        "            raise Http404\n",
        "\n",
        "    def get(self, request, pk, format=None):\n",
        "        snippet = self.get_object(pk)\n",
        "        serializer = SnippetSerializer(snippet)\n",
        "        return Response(serializer.data)\n",
        "\n",
        "    def put(self, request, pk, format=None):\n",
        "        snippet = self.get_object(pk)\n",
        "        serializer = SnippetSerializer(snippet, data=request.data)\n",
        "        if serializer.is_valid():\n",
        "            serializer.save()\n",
        "            return Response(serializer.data)\n",
        "        return Response(serializer.errors, status=status.HTTP_400_BAD_REQUEST)\n",
        "\n",
        "    def delete(self, request, pk, format=None):\n",
        "        snippet = self.get_object(pk)\n",
        "        snippet.delete()\n",
        "        return Response(status=status.HTTP_204_NO_CONTENT)"
      ],
      "metadata": {
        "id": "W4I99tvu5xSf"
      },
      "execution_count": null,
      "outputs": []
    },
    {
      "cell_type": "markdown",
      "source": [
        "That's looking good. Again, it's still pretty similar to the function based view right now.\n",
        "\n",
        "We'll also need to refactor our snippets/urls.py slightly now that we're using class-based views."
      ],
      "metadata": {
        "id": "X5f8Si-651SZ"
      }
    },
    {
      "cell_type": "code",
      "source": [
        "from django.urls import path\n",
        "from rest_framework.urlpatterns import format_suffix_patterns\n",
        "from snippets import views\n",
        "\n",
        "urlpatterns = [\n",
        "    path('snippets/', views.SnippetList.as_view()),\n",
        "    path('snippets/<int:pk>/', views.SnippetDetail.as_view()),\n",
        "]\n",
        "\n",
        "urlpatterns = format_suffix_patterns(urlpatterns)"
      ],
      "metadata": {
        "id": "rPzjRTon552J"
      },
      "execution_count": null,
      "outputs": []
    },
    {
      "cell_type": "markdown",
      "source": [
        "Okay, we're done. If you run the development server everything should be working just as before."
      ],
      "metadata": {
        "id": "PuFsva5z59gn"
      }
    },
    {
      "cell_type": "markdown",
      "source": [
        "# **Using mixins**"
      ],
      "metadata": {
        "id": "u1p5c80V5_rl"
      }
    },
    {
      "cell_type": "markdown",
      "source": [
        "One of the big wins of using class-based views is that it allows us to easily compose reusable bits of behaviour.\n",
        "\n",
        "The create/retrieve/update/delete operations that we've been using so far are going to be pretty similar for any model-backed API views we create. Those bits of common behaviour are implemented in REST framework's mixin classes.\n",
        "\n",
        "Let's take a look at how we can compose the views by using the mixin classes. Here's our views.py module again."
      ],
      "metadata": {
        "id": "GbxuP9po6nRF"
      }
    },
    {
      "cell_type": "code",
      "source": [
        "from snippets.models import Snippet\n",
        "from snippets.serializers import SnippetSerializer\n",
        "from rest_framework import mixins\n",
        "from rest_framework import generics\n",
        "\n",
        "class SnippetList(mixins.ListModelMixin,\n",
        "                  mixins.CreateModelMixin,\n",
        "                  generics.GenericAPIView):\n",
        "    queryset = Snippet.objects.all()\n",
        "    serializer_class = SnippetSerializer\n",
        "\n",
        "    def get(self, request, *args, **kwargs):\n",
        "        return self.list(request, *args, **kwargs)\n",
        "\n",
        "    def post(self, request, *args, **kwargs):\n",
        "        return self.create(request, *args, **kwargs)"
      ],
      "metadata": {
        "id": "pAPv2nFo6sCy"
      },
      "execution_count": null,
      "outputs": []
    },
    {
      "cell_type": "markdown",
      "source": [
        "We'll take a moment to examine exactly what's happening here. We're building our view using GenericAPIView, and adding in ListModelMixin and CreateModelMixin.\n",
        "\n",
        "The base class provides the core functionality, and the mixin classes provide the .list() and .create() actions. We're then explicitly binding the get and post methods to the appropriate actions. Simple enough stuff so far."
      ],
      "metadata": {
        "id": "QkVKrYhD6yXY"
      }
    },
    {
      "cell_type": "code",
      "source": [
        "class SnippetDetail(mixins.RetrieveModelMixin,\n",
        "                    mixins.UpdateModelMixin,\n",
        "                    mixins.DestroyModelMixin,\n",
        "                    generics.GenericAPIView):\n",
        "    queryset = Snippet.objects.all()\n",
        "    serializer_class = SnippetSerializer\n",
        "\n",
        "    def get(self, request, *args, **kwargs):\n",
        "        return self.retrieve(request, *args, **kwargs)\n",
        "\n",
        "    def put(self, request, *args, **kwargs):\n",
        "        return self.update(request, *args, **kwargs)\n",
        "\n",
        "    def delete(self, request, *args, **kwargs):\n",
        "        return self.destroy(request, *args, **kwargs)"
      ],
      "metadata": {
        "id": "FHY7Ug_J62Xz"
      },
      "execution_count": null,
      "outputs": []
    },
    {
      "cell_type": "markdown",
      "source": [
        "Pretty similar. Again we're using the GenericAPIView class to provide the core functionality, and adding in mixins to provide the .retrieve(), .update() and .destroy() actions."
      ],
      "metadata": {
        "id": "vZ9Yk6Ds67dW"
      }
    },
    {
      "cell_type": "markdown",
      "source": [
        "# **Using Generic Class Based views**"
      ],
      "metadata": {
        "id": "M8leeppt6-A8"
      }
    },
    {
      "cell_type": "markdown",
      "source": [
        "Using the mixin classes we've rewritten the views to use slightly less code than before, but we can go one step further. REST framework provides a set of already mixed-in generic views that we can use to trim down our views.py module even more."
      ],
      "metadata": {
        "id": "dQP3PKRC7FwG"
      }
    },
    {
      "cell_type": "code",
      "source": [
        "from snippets.models import Snippet\n",
        "from snippets.serializers import SnippetSerializer\n",
        "from rest_framework import generics\n",
        "\n",
        "\n",
        "class SnippetList(generics.ListCreateAPIView):\n",
        "    queryset = Snippet.objects.all()\n",
        "    serializer_class = SnippetSerializer\n",
        "\n",
        "\n",
        "class SnippetDetail(generics.RetrieveUpdateDestroyAPIView):\n",
        "    queryset = Snippet.objects.all()\n",
        "    serializer_class = SnippetSerializer"
      ],
      "metadata": {
        "id": "tDxJXvJv7LgJ"
      },
      "execution_count": null,
      "outputs": []
    },
    {
      "cell_type": "markdown",
      "source": [
        "Wow, that's pretty concise. We've gotten a huge amount for free, and our code looks like good, clean, idiomatic Django.\n",
        "\n",
        "Next we'll move onto part 4 of the tutorial, where we'll take a look at how we can deal with authentication and permissions for our API."
      ],
      "metadata": {
        "id": "Iazsjkdv7QuJ"
      }
    }
  ]
}