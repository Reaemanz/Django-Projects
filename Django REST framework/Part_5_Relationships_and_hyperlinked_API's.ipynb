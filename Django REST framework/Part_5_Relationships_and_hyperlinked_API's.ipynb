{
  "nbformat": 4,
  "nbformat_minor": 0,
  "metadata": {
    "colab": {
      "provenance": []
    },
    "kernelspec": {
      "name": "python3",
      "display_name": "Python 3"
    },
    "language_info": {
      "name": "python"
    }
  },
  "cells": [
    {
      "cell_type": "markdown",
      "source": [
        "# **Part 5: Relationships and hyperlinked API's**"
      ],
      "metadata": {
        "id": "A-O2yTltAWvk"
      }
    },
    {
      "cell_type": "markdown",
      "source": [
        "At the moment relationships within our API are represented by using primary keys. In this part of the tutorial we'll improve the cohesion and discoverability of our API, by instead using hyperlinking for relationships."
      ],
      "metadata": {
        "id": "i0b3-TxzAfNX"
      }
    },
    {
      "cell_type": "markdown",
      "source": [
        "# **Creating an endpoint for the root of our API**"
      ],
      "metadata": {
        "id": "etfnTvphAhEL"
      }
    },
    {
      "cell_type": "markdown",
      "source": [
        "Right now we have endpoints for 'snippets' and 'users', but we don't have a single entry point to our API. To create one, we'll use a regular function-based view and the @api_view decorator we introduced earlier. In your snippets/views.py add:"
      ],
      "metadata": {
        "id": "ZHAgr1oqAtY4"
      }
    },
    {
      "cell_type": "code",
      "source": [
        "from rest_framework.decorators import api_view\n",
        "from rest_framework.response import Response\n",
        "from rest_framework.reverse import reverse\n",
        "\n",
        "\n",
        "@api_view(['GET'])\n",
        "def api_root(request, format=None):\n",
        "    return Response({\n",
        "        'users': reverse('user-list', request=request, format=format),\n",
        "        'snippets': reverse('snippet-list', request=request, format=format)\n",
        "    })"
      ],
      "metadata": {
        "id": "zzuwDM7zAw_n"
      },
      "execution_count": null,
      "outputs": []
    },
    {
      "cell_type": "markdown",
      "source": [
        "Two things should be noticed here. First, we're using REST framework's reverse function in order to return fully-qualified URLs; second, URL patterns are identified by convenience names that we will declare later on in our snippets/urls.py."
      ],
      "metadata": {
        "id": "Sf9V4TsXA1Uo"
      }
    },
    {
      "cell_type": "markdown",
      "source": [
        "# **Creating an  wndpoint for the highlighted snippets**"
      ],
      "metadata": {
        "id": "cvFHMVBmA4Ck"
      }
    },
    {
      "cell_type": "markdown",
      "source": [
        "The other obvious thing that's still missing from our pastebin API is the code highlighting endpoints.\n",
        "\n",
        "Unlike all our other API endpoints, we don't want to use JSON, but instead just present an HTML representation. There are two styles of HTML renderer provided by REST framework, one for dealing with HTML rendered using templates, the other for dealing with pre-rendered HTML. The second renderer is the one we'd like to use for this endpoint.\n",
        "\n",
        "The other thing we need to consider when creating the code highlight view is that there's no existing concrete generic view that we can use. We're not returning an object instance, but instead a property of an object instance.\n",
        "\n",
        "Instead of using a concrete generic view, we'll use the base class for representing instances, and create our own .get() method. In your snippets/views.py add:"
      ],
      "metadata": {
        "id": "xSqDEQjgBAXG"
      }
    },
    {
      "cell_type": "code",
      "source": [
        "from rest_framework import renderers\n",
        "\n",
        "class SnippetHighlight(generics.GenericAPIView):\n",
        "    queryset = Snippet.objects.all()\n",
        "    renderer_classes = [renderers.StaticHTMLRenderer]\n",
        "\n",
        "    def get(self, request, *args, **kwargs):\n",
        "        snippet = self.get_object()\n",
        "        return Response(snippet.highlighted)"
      ],
      "metadata": {
        "id": "4lMYuoI4BFeU"
      },
      "execution_count": null,
      "outputs": []
    },
    {
      "cell_type": "markdown",
      "source": [
        "As usual we need to add the new views that we've created in to our URLconf. We'll add a url pattern for our new API root in snippets/urls.py:"
      ],
      "metadata": {
        "id": "YWENTg41BIjX"
      }
    },
    {
      "cell_type": "code",
      "source": [
        "path('', views.api_root),"
      ],
      "metadata": {
        "id": "_nFMTUGGBNVP"
      },
      "execution_count": null,
      "outputs": []
    },
    {
      "cell_type": "markdown",
      "source": [
        "And then add a url pattern for the snippet highlights:"
      ],
      "metadata": {
        "id": "22kdxJiOBQDU"
      }
    },
    {
      "cell_type": "code",
      "source": [
        "path('snippets/<int:pk>/highlight/', views.SnippetHighlight.as_view()),"
      ],
      "metadata": {
        "id": "WY885_azBUGY"
      },
      "execution_count": null,
      "outputs": []
    },
    {
      "cell_type": "markdown",
      "source": [
        "# **Hyperlinking our API**"
      ],
      "metadata": {
        "id": "qjIUQU7aBX5Q"
      }
    },
    {
      "cell_type": "markdown",
      "source": [
        "Dealing with relationships between entities is one of the more challenging aspects of Web API design. There are a number of different ways that we might choose to represent a relationship:\n",
        "\n",
        "Using primary keys.\n",
        "Using hyperlinking between entities.\n",
        "Using a unique identifying slug field on the related entity.\n",
        "Using the default string representation of the related entity.\n",
        "Nesting the related entity inside the parent representation.\n",
        "Some other custom representation.\n",
        "REST framework supports all of these styles, and can apply them across forward or reverse relationships, or apply them across custom managers such as generic foreign keys.\n",
        "\n",
        "In this case we'd like to use a hyperlinked style between entities. In order to do so, we'll modify our serializers to extend HyperlinkedModelSerializer instead of the existing ModelSerializer.\n",
        "\n",
        "The HyperlinkedModelSerializer has the following differences from ModelSerializer:\n",
        "\n",
        "It does not include the id field by default.\n",
        "It includes a url field, using HyperlinkedIdentityField.\n",
        "Relationships use HyperlinkedRelatedField, instead of PrimaryKeyRelatedField.\n",
        "We can easily re-write our existing serializers to use hyperlinking. In your snippets/serializers.py add:"
      ],
      "metadata": {
        "id": "Vd7hWoGGBcMS"
      }
    },
    {
      "cell_type": "code",
      "source": [
        "class SnippetSerializer(serializers.HyperlinkedModelSerializer):\n",
        "    owner = serializers.ReadOnlyField(source='owner.username')\n",
        "    highlight = serializers.HyperlinkedIdentityField(view_name='snippet-highlight', format='html')\n",
        "\n",
        "    class Meta:\n",
        "        model = Snippet\n",
        "        fields = ['url', 'id', 'highlight', 'owner',\n",
        "                  'title', 'code', 'linenos', 'language', 'style']\n",
        "\n",
        "\n",
        "class UserSerializer(serializers.HyperlinkedModelSerializer):\n",
        "    snippets = serializers.HyperlinkedRelatedField(many=True, view_name='snippet-detail', read_only=True)\n",
        "\n",
        "    class Meta:\n",
        "        model = User\n",
        "        fields = ['url', 'id', 'username', 'snippets']"
      ],
      "metadata": {
        "id": "Oh_EqjvMBm4i"
      },
      "execution_count": null,
      "outputs": []
    },
    {
      "cell_type": "markdown",
      "source": [
        "Notice that we've also added a new 'highlight' field. This field is of the same type as the url field, except that it points to the 'snippet-highlight' url pattern, instead of the 'snippet-detail' url pattern.\n",
        "\n",
        "Because we've included format suffixed URLs such as '.json', we also need to indicate on the highlight field that any format suffixed hyperlinks it returns should use the '.html' suffix."
      ],
      "metadata": {
        "id": "C5Nu4a_uBqiY"
      }
    },
    {
      "cell_type": "markdown",
      "source": [
        "# **Making sure our url patterns are named**"
      ],
      "metadata": {
        "id": "WZHMBIP7B4m0"
      }
    },
    {
      "cell_type": "markdown",
      "source": [
        "If we're going to have a hyperlinked API, we need to make sure we name our URL patterns. Let's take a look at which URL patterns we need to name.\n",
        "\n",
        "1. The root of our API refers to 'user-list' and 'snippet-list'.\n",
        "2. Our snippet serializer includes a field that refers to 'snippet-highlight'.\n",
        "3. Our user serializer includes a field that refers to 'snippet-detail'.\n",
        "4. Our snippet and user serializers include 'url' fields that by default will refer to '{model_name}-detail', which in this case will be 'snippet-detail' and 'user-detail'.\n",
        "\n",
        "After adding all those names into our URLconf, our final snippets/urls.py file should look like this:"
      ],
      "metadata": {
        "id": "uLzjHEukB-6C"
      }
    },
    {
      "cell_type": "code",
      "source": [
        "from django.urls import path\n",
        "from rest_framework.urlpatterns import format_suffix_patterns\n",
        "from snippets import views\n",
        "\n",
        "# API endpoints\n",
        "urlpatterns = format_suffix_patterns([\n",
        "    path('', views.api_root),\n",
        "    path('snippets/',\n",
        "        views.SnippetList.as_view(),\n",
        "        name='snippet-list'),\n",
        "    path('snippets/<int:pk>/',\n",
        "        views.SnippetDetail.as_view(),\n",
        "        name='snippet-detail'),\n",
        "    path('snippets/<int:pk>/highlight/',\n",
        "        views.SnippetHighlight.as_view(),\n",
        "        name='snippet-highlight'),\n",
        "    path('users/',\n",
        "        views.UserList.as_view(),\n",
        "        name='user-list'),\n",
        "    path('users/<int:pk>/',\n",
        "        views.UserDetail.as_view(),\n",
        "        name='user-detail')\n",
        "])"
      ],
      "metadata": {
        "id": "YBoZqj3OCQf_"
      },
      "execution_count": null,
      "outputs": []
    },
    {
      "cell_type": "markdown",
      "source": [
        "# **Adding Pagination**"
      ],
      "metadata": {
        "id": "ZhqRzDo6CTuW"
      }
    },
    {
      "cell_type": "markdown",
      "source": [
        "The list views for users and code snippets could end up returning quite a lot of instances, so really we'd like to make sure we paginate the results, and allow the API client to step through each of the individual pages.\n",
        "\n",
        "We can change the default list style to use pagination, by modifying our tutorial/settings.py file slightly. Add the following setting:"
      ],
      "metadata": {
        "id": "TmU75xdICeVy"
      }
    },
    {
      "cell_type": "code",
      "source": [
        "REST_FRAMEWORK = {\n",
        "    'DEFAULT_PAGINATION_CLASS': 'rest_framework.pagination.PageNumberPagination',\n",
        "    'PAGE_SIZE': 10\n",
        "}"
      ],
      "metadata": {
        "id": "Da5jIOL9ChXR"
      },
      "execution_count": null,
      "outputs": []
    },
    {
      "cell_type": "markdown",
      "source": [
        "Note that settings in REST framework are all namespaced into a single dictionary setting, named REST_FRAMEWORK, which helps keep them well separated from your other project settings.\n",
        "\n",
        "We could also customize the pagination style if we needed to, but in this case we'll just stick with the default."
      ],
      "metadata": {
        "id": "uOTwHq4bCkHH"
      }
    },
    {
      "cell_type": "markdown",
      "source": [
        "# **Browsing the API**"
      ],
      "metadata": {
        "id": "EKqYamCJCqR7"
      }
    },
    {
      "cell_type": "markdown",
      "source": [
        "If we open a browser and navigate to the browsable API, you'll find that you can now work your way around the API simply by following links.\n",
        "\n",
        "You'll also be able to see the 'highlight' links on the snippet instances, that will take you to the highlighted code HTML representations.\n",
        "\n",
        "In part 6 of the tutorial we'll look at how we can use ViewSets and Routers to reduce the amount of code we need to build our API."
      ],
      "metadata": {
        "id": "QI_aFq8jCszC"
      }
    }
  ]
}