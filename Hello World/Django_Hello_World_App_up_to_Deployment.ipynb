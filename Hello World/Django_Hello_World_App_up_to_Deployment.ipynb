{
  "nbformat": 4,
  "nbformat_minor": 0,
  "metadata": {
    "colab": {
      "provenance": []
    },
    "kernelspec": {
      "name": "python3",
      "display_name": "Python 3"
    },
    "language_info": {
      "name": "python"
    }
  },
  "cells": [
    {
      "cell_type": "markdown",
      "source": [
        "In this notebook we will build, test, and deploy a Pages app with a homepage and about page listing all the steps involved in creating a Django app"
      ],
      "metadata": {
        "id": "XaHGvIhkM0Ph"
      }
    },
    {
      "cell_type": "markdown",
      "source": [
        "INITIAL SET UP\n",
        "\n",
        "• create a directory for our code\n",
        "\n",
        "• install Django in a new virtual environment\n",
        "\n",
        "• create a new Django project\n",
        "\n",
        "• createanewpagesapp\n",
        "\n",
        "• updateconfig/settings.py"
      ],
      "metadata": {
        "id": "ySynZIS5Nt_r"
      }
    },
    {
      "cell_type": "code",
      "source": [
        "$ cd ~/Desktop\n",
        "$ mkdir pages && cd pages\n",
        "$ pipenv install django~=3.1.0\n",
        "$ pipenv shell\n",
        "(pages) $ django-admin startproject config .\n",
        "(pages) $ python manage.py startapp pages"
      ],
      "metadata": {
        "id": "bi4CbKcQOSbZ"
      },
      "execution_count": null,
      "outputs": []
    },
    {
      "cell_type": "markdown",
      "source": [
        "navigate to the file config/settings.py. Add the pages app at the bottom of the INSTALLED_APPS setting:"
      ],
      "metadata": {
        "id": "zzdi2z1ZOcl9"
      }
    },
    {
      "cell_type": "code",
      "source": [
        "# config/settings.py\n",
        "INSTALLED_APPS = [\n",
        "    'django.contrib.admin',\n",
        "    'django.contrib.auth',\n",
        "    'django.contrib.contenttypes',\n",
        "    'django.contrib.sessions',\n",
        "    'django.contrib.messages',\n",
        "    'django.contrib.staticfiles',\n",
        "    'pages', # new\n",
        "]"
      ],
      "metadata": {
        "id": "zIR7LER4OlHy"
      },
      "execution_count": null,
      "outputs": []
    },
    {
      "cell_type": "markdown",
      "source": [
        "Start the local web server with runserver."
      ],
      "metadata": {
        "id": "NvCuFBA0OrvA"
      }
    },
    {
      "cell_type": "code",
      "source": [
        "(pages) $ python manage.py runserver"
      ],
      "metadata": {
        "id": "DGrfzGeeOvLB"
      },
      "execution_count": null,
      "outputs": []
    },
    {
      "cell_type": "markdown",
      "source": [
        "And then navigate to http://127.0.0.1:8000/."
      ],
      "metadata": {
        "id": "lE-oUHf8O_mo"
      }
    },
    {
      "cell_type": "markdown",
      "source": [
        "# TEMPLATES"
      ],
      "metadata": {
        "id": "LNCu67EWPLlw"
      }
    },
    {
      "cell_type": "markdown",
      "source": [
        "Quit the running server with the Control+c command. Then create a directory called templates and an HTML file called home.html."
      ],
      "metadata": {
        "id": "VggntTnePa-3"
      }
    },
    {
      "cell_type": "code",
      "source": [
        "(pages) $ mkdir templates\n",
        "(pages) $ touch templates/home.html"
      ],
      "metadata": {
        "id": "z28ZwyjuPlaA"
      },
      "execution_count": null,
      "outputs": []
    },
    {
      "cell_type": "markdown",
      "source": [
        "Next we need to update config/settings.py to tell Django the location of our new templates directory. This is a one-line change to the setting 'DIRS' under TEMPLATES."
      ],
      "metadata": {
        "id": "zsXpbf5cPuPO"
      }
    },
    {
      "cell_type": "code",
      "source": [
        "# config/settings.py\n",
        "TEMPLATES = [\n",
        "    {\n",
        "        ...\n",
        "        'DIRS': [str(BASE_DIR.joinpath('templates'))], # new\n",
        "        ...\n",
        "}, ]"
      ],
      "metadata": {
        "id": "mEdLHH0jP-Ce"
      },
      "execution_count": null,
      "outputs": []
    },
    {
      "cell_type": "markdown",
      "source": [
        "add a simple headline to our home.html file."
      ],
      "metadata": {
        "id": "-eblbmkFQgNx"
      }
    },
    {
      "cell_type": "code",
      "source": [
        "<!-- templates/home.html -->\n",
        "<h1>Homepage</h1>"
      ],
      "metadata": {
        "id": "fsMxE7ftQmdk"
      },
      "execution_count": null,
      "outputs": []
    },
    {
      "cell_type": "markdown",
      "source": [
        "# CLASS BASED VIEWS"
      ],
      "metadata": {
        "id": "pSDUffyuTlLu"
      }
    },
    {
      "cell_type": "markdown",
      "source": [
        "Update the pages/views.py file."
      ],
      "metadata": {
        "id": "OsP4A4IiTzSW"
      }
    },
    {
      "cell_type": "code",
      "source": [
        "# pages/views.py\n",
        "from django.views.generic import TemplateView\n",
        "class HomePageView(TemplateView): template_name = 'home.html'"
      ],
      "metadata": {
        "id": "6FEf2EA2T5u4"
      },
      "execution_count": null,
      "outputs": []
    },
    {
      "cell_type": "markdown",
      "source": [
        "we’ve capitalized our view, HomePageView, since it’s now a Python class. Classes, unlike functions, should always be capitalized47 . The TemplateView already contains all the logic needed to display our template, we just need to specify the template’s name."
      ],
      "metadata": {
        "id": "4oJUFFYMUCs4"
      }
    },
    {
      "cell_type": "markdown",
      "source": [
        "# URLS"
      ],
      "metadata": {
        "id": "RB21Yn0eUId2"
      }
    },
    {
      "cell_type": "markdown",
      "source": [
        "The last step is to update our URLConfs.  We need to make updates in two locations. First, we update the config/urls.py file to point at our pages app and then within pages we match views to URL routes.\n",
        "Let’s start with the config/urls.py file."
      ],
      "metadata": {
        "id": "7-Dt9dkCUQaK"
      }
    },
    {
      "cell_type": "code",
      "source": [
        "# config/urls.py\n",
        "from django.contrib import admin\n",
        "from django.urls import path, include # new\n",
        "urlpatterns = [\n",
        "    path('admin/', admin.site.urls),\n",
        "    path('', include('pages.urls')), # new\n",
        "]"
      ],
      "metadata": {
        "id": "eCi-lwLqUhHe"
      },
      "execution_count": null,
      "outputs": []
    },
    {
      "cell_type": "markdown",
      "source": [
        "We add include on the second line to point the existing URL to the pages app. Next create an app-level urls.py file."
      ],
      "metadata": {
        "id": "iAqBPW9BUt34"
      }
    },
    {
      "cell_type": "code",
      "source": [
        "(pages) $ touch pages/urls.py"
      ],
      "metadata": {
        "id": "o2XR4RA1U3gu"
      },
      "execution_count": null,
      "outputs": []
    },
    {
      "cell_type": "code",
      "source": [
        "# pages/urls.py\n",
        "from django.urls import path from .views import HomePageView\n",
        "urlpatterns = [\n",
        "    path('', HomePageView.as_view(), name='home'),\n",
        "]"
      ],
      "metadata": {
        "id": "fu-1We58U-_6"
      },
      "execution_count": null,
      "outputs": []
    },
    {
      "cell_type": "markdown",
      "source": [
        "And we’re done! Start up the local web server with python manage.py runserver and navigate to http://127.0.0.1:8000/ to see our new homepage."
      ],
      "metadata": {
        "id": "LeV6yYBbVHCt"
      }
    },
    {
      "cell_type": "markdown",
      "source": [
        "# About Page"
      ],
      "metadata": {
        "id": "YuFydo-hVQl1"
      }
    },
    {
      "cell_type": "markdown",
      "source": [
        "Quit the server with Control+c and create a new template called about.html."
      ],
      "metadata": {
        "id": "kNUZ-9yAVaRA"
      }
    },
    {
      "cell_type": "code",
      "source": [
        "(pages) $ touch templates/about.html"
      ],
      "metadata": {
        "id": "I_bQGNJFVjAp"
      },
      "execution_count": null,
      "outputs": []
    },
    {
      "cell_type": "code",
      "source": [
        "<!-- templates/about.html -->\n",
        "<h1>About page</h1>"
      ],
      "metadata": {
        "id": "snxkptOsVpvV"
      },
      "execution_count": null,
      "outputs": []
    },
    {
      "cell_type": "markdown",
      "source": [
        "Create a new view for the page"
      ],
      "metadata": {
        "id": "K6DMoVJMVuxh"
      }
    },
    {
      "cell_type": "code",
      "source": [
        "# pages/views.py\n",
        "from django.views.generic import TemplateView\n",
        "class HomePageView(TemplateView):\n",
        "   template_name = 'home.html'\n",
        "\n",
        "class AboutPageView(TemplateView): # new\n",
        "   template_name = 'about.html'"
      ],
      "metadata": {
        "id": "b5KwZ1QHV1lH"
      },
      "execution_count": null,
      "outputs": []
    },
    {
      "cell_type": "markdown",
      "source": [
        "And then import the view name and connect it to a URL at about/."
      ],
      "metadata": {
        "id": "WjM_VaTKWIYR"
      }
    },
    {
      "cell_type": "code",
      "source": [
        "# pages/urls.py\n",
        "from django.urls import path\n",
        "from .views import HomePageView, AboutPageView # new\n",
        "urlpatterns = [\n",
        "    path('about/', AboutPageView.as_view(), name='about'), # new\n",
        "    path('', HomePageView.as_view(), name='home'),\n",
        "]"
      ],
      "metadata": {
        "id": "AxnLybwsWRDm"
      },
      "execution_count": null,
      "outputs": []
    },
    {
      "cell_type": "markdown",
      "source": [
        "Start up the web server with python manage.py runserver. Navigate to http://127.0.0.1:8000/about and the new About page is visible."
      ],
      "metadata": {
        "id": "SF7qQirkWX-d"
      }
    },
    {
      "cell_type": "markdown",
      "source": [
        "# Extending Templates"
      ],
      "metadata": {
        "id": "lRCc9yciWd40"
      }
    },
    {
      "cell_type": "markdown",
      "source": [
        "Let’s create a base.html file containing a header with links to our two pages."
      ],
      "metadata": {
        "id": "DiyYbh78WxCO"
      }
    },
    {
      "cell_type": "code",
      "source": [
        "(pages) $ touch templates/base.html"
      ],
      "metadata": {
        "id": "QXZcjnhYW4nd"
      },
      "execution_count": null,
      "outputs": []
    },
    {
      "cell_type": "code",
      "source": [
        "<!-- templates/base.html -->\n",
        "<header>\n",
        "<a href=\"{% url 'home' %}\">Home</a> | <a href=\"{% url 'about' %}\">About</a>\n",
        "</header>\n",
        "{% block content %}\n",
        "{% endblock content %}"
      ],
      "metadata": {
        "id": "eGqdGiKcXDjR"
      },
      "execution_count": null,
      "outputs": []
    },
    {
      "cell_type": "markdown",
      "source": [
        "Let’s update our home.html and about.html files to extend the base.html template. That means we can reuse the same code from one template in another template."
      ],
      "metadata": {
        "id": "d8goRKIzXPg5"
      }
    },
    {
      "cell_type": "code",
      "source": [
        "<!-- templates/home.html -->\n",
        "{% extends 'base.html' %}\n",
        "{% block content %}\n",
        "<h1>Homepage</h1>\n",
        "{% endblock content %}"
      ],
      "metadata": {
        "id": "6sgRs2BpXZKZ"
      },
      "execution_count": null,
      "outputs": []
    },
    {
      "cell_type": "code",
      "source": [
        "<!-- templates/about.html -->\n",
        "{% extends 'base.html' %}\n",
        "{% block content %}\n",
        "<h1>About page</h1>\n",
        " {% endblock content %}"
      ],
      "metadata": {
        "id": "SaDZ2Y9IXgFf"
      },
      "execution_count": null,
      "outputs": []
    },
    {
      "cell_type": "markdown",
      "source": [
        "start up the server with python manage.py runserver and open up our webpages again at http://127.0.0.1:8000/ and http://127.0.0.1:8000/about you’ll see the header is magically included in both locations."
      ],
      "metadata": {
        "id": "FrmpmkRtXwDG"
      }
    },
    {
      "cell_type": "markdown",
      "source": [
        "# Tests"
      ],
      "metadata": {
        "id": "3VtVafXLX6TW"
      }
    },
    {
      "cell_type": "markdown",
      "source": [
        "If you look within our pages app, Django already provided a tests.py file we can use. Open it\n",
        "and add the following code:"
      ],
      "metadata": {
        "id": "s5JgjEedYBG3"
      }
    },
    {
      "cell_type": "code",
      "source": [
        "# pages/tests.py\n",
        "from django.test import SimpleTestCase\n",
        "class SimpleTests(SimpleTestCase):\n",
        "      def test_home_page_status_code(self):\n",
        "           response = self.client.get('/')\n",
        "           self.assertEqual(response.status_code, 200)\n",
        "\n",
        "      def test_about_page_status_code(self):\n",
        "          response = self.client.get('/about/')\n",
        "          self.assertEqual(response.status_code, 200)"
      ],
      "metadata": {
        "id": "Y4Ajv5HhYD-q"
      },
      "execution_count": null,
      "outputs": []
    },
    {
      "cell_type": "markdown",
      "source": [
        "We’re using SimpleTestCase53 here since we aren’t using a database. If we were using a database, we’d instead use TestCase54. Then we perform a check if the status code for each page is 200, which is the standard response for a successful HTTP request55.\n",
        "\n",
        "To run the tests quit the server Control+c and type python manage.py test on the command line."
      ],
      "metadata": {
        "id": "QbvNULAKYm90"
      }
    },
    {
      "cell_type": "code",
      "source": [
        "(pages) $ python manage.py test\n",
        "System check identified no issues (0 silenced).\n",
        "..\n",
        "----------------------------------------------------------------------\n",
        "Ran 2 tests in 0.014s\n",
        "OK"
      ],
      "metadata": {
        "id": "sBU8lJLTY0nb"
      },
      "execution_count": null,
      "outputs": []
    },
    {
      "cell_type": "markdown",
      "source": [
        "# Git and GitHub"
      ],
      "metadata": {
        "id": "iTf3cfsVY9tu"
      }
    },
    {
      "cell_type": "code",
      "source": [
        "(pages) $ git init\n",
        "(pages) $ git status\n",
        "(pages) $ git add -A\n",
        "(pages) $ git commit -m \"initial commit\""
      ],
      "metadata": {
        "id": "45ThH6IWZDfV"
      },
      "execution_count": null,
      "outputs": []
    },
    {
      "cell_type": "markdown",
      "source": [
        "Over on GitHub create a new repo56 called pages-app and make sure to select the “Private” radio button. Then click on the “Create repository” button.\n",
        "On the next page, scroll down to where it says “...or push an existing repository from the command line.” Copy and paste the two commands there into your terminal.\n",
        "It should look like the below albeit instead of wsvincent as the username it will be your GitHub username."
      ],
      "metadata": {
        "id": "IBRaFOd2ZRzm"
      }
    },
    {
      "cell_type": "code",
      "source": [
        "(pages) $ git remote add origin https://github.com/wsvincent/pages-app.git\n",
        "(pages) $ git push -u origin master"
      ],
      "metadata": {
        "id": "R4-gt74RZcLV"
      },
      "execution_count": null,
      "outputs": []
    },
    {
      "cell_type": "markdown",
      "source": [
        "# PRODUCTION"
      ],
      "metadata": {
        "id": "iCwYl0HqZhXV"
      }
    },
    {
      "cell_type": "markdown",
      "source": [
        "You can sign up for a free Heroku60 account on their website. After you confirm your email Heroku will redirect you to the dashboard section of the site.\n",
        "Now we need to install Heroku’s Command Line Interface (CLI) so we can deploy from the command line. Currently, we are operating within a virtual environment for our Pages project but we want Heroku available globally, that is everywhere on our machine. An easy way to do so is open up a new command line tab–Command+t on a Mac, Control+t on Windows–which is not operating in a virtual environment. Anything installed here will be global.\n",
        "\n",
        "On Windows, see the Heroku CLI page61 to correctly install either the 32-bit or 64-bit version. If you are using Linux there are specific install instructions62 available on the Heroku website."
      ],
      "metadata": {
        "id": "cI64BN5eZtxF"
      }
    },
    {
      "cell_type": "markdown",
      "source": [
        "Once installation is complete you can close our new command line tab and return to the initial\n",
        "tab with the pages virtual environment active.\n",
        "Type the command heroku login and use the email and password for Heroku you just set."
      ],
      "metadata": {
        "id": "gmAdSuPDZ_Yg"
      }
    },
    {
      "cell_type": "code",
      "source": [
        "(pages) $ heroku login\n",
        "Enter your Heroku credentials:\n",
        "Email: will@learndjango.com\n",
        "Password: *********************************\n",
        "Logged in as will@learndjango.com"
      ],
      "metadata": {
        "id": "hyn9SnUEaHDg"
      },
      "execution_count": null,
      "outputs": []
    },
    {
      "cell_type": "markdown",
      "source": [
        "Here is the deployment checklist:\n",
        "• installGunicorn\n",
        "\n",
        "• addaProcfilefile\n",
        "\n",
        "• updateALLOWED_HOSTS\n",
        "\n",
        "Gunicorn can be installed using Pipenv."
      ],
      "metadata": {
        "id": "YUM8_K7CaTCQ"
      }
    },
    {
      "cell_type": "code",
      "source": [
        "(pages) $ pipenv install gunicorn==19.9.0"
      ],
      "metadata": {
        "id": "J94B1B96aaON"
      },
      "execution_count": null,
      "outputs": []
    },
    {
      "cell_type": "markdown",
      "source": [
        "Create the Procfile now."
      ],
      "metadata": {
        "id": "WtZF0PgBagiE"
      }
    },
    {
      "cell_type": "code",
      "source": [
        "(pages) $ touch Procfile"
      ],
      "metadata": {
        "id": "Bn-joQi9alhY"
      },
      "execution_count": null,
      "outputs": []
    },
    {
      "cell_type": "markdown",
      "source": [
        "Open the Procfile with your text editor and add the following line."
      ],
      "metadata": {
        "id": "Bbg4AWd7a06w"
      }
    },
    {
      "cell_type": "code",
      "source": [
        "web: gunicorn config.wsgi --log-file -"
      ],
      "metadata": {
        "id": "0ieGAnoqa7gP"
      },
      "execution_count": null,
      "outputs": []
    },
    {
      "cell_type": "markdown",
      "source": [
        "The ALLOWED_HOSTS63 setting represents which host/domain names our Django site can serve. This is a security measure to prevent HTTP Host header attacks, which are possible even under many seemingly-safe web server configurations. For now, we’ll use the wildcard asterisk, *, which means all domains are acceptable. Later in the book we’ll see how to explicitly list the domains that should be allowed.\n",
        "Within the config/settings.py, scroll down to ALLOWED_HOSTS and add a '*' so it looks as follows:"
      ],
      "metadata": {
        "id": "EXBczh2obGlm"
      }
    },
    {
      "cell_type": "code",
      "source": [
        "# config/settings.py\n",
        "ALLOWED_HOSTS = ['*']"
      ],
      "metadata": {
        "id": "88RvLxatbQf0"
      },
      "execution_count": null,
      "outputs": []
    },
    {
      "cell_type": "markdown",
      "source": [
        "Use git status to check our changes, add the new files, and then commit them:"
      ],
      "metadata": {
        "id": "mrgQAIv7bZSh"
      }
    },
    {
      "cell_type": "code",
      "source": [
        "(pages) $ git status\n",
        "(pages) $ git add -A\n",
        "(pages) $ git commit -m \"New updates for Heroku deployment\"\n",
        "(pages) $ git push -u origin master"
      ],
      "metadata": {
        "id": "Y_bei2K7bcXH"
      },
      "execution_count": null,
      "outputs": []
    },
    {
      "cell_type": "markdown",
      "source": [
        "# DEPLOYMENT"
      ],
      "metadata": {
        "id": "oRxrerESbwbd"
      }
    },
    {
      "cell_type": "markdown",
      "source": [
        "Our process will be as follows:\n",
        "• create a new app on Heroku\n",
        "\n",
        "• disable the collection of static files (we’ll cover this in a later chapter)\n",
        "\n",
        "• push the code up to Heroku\n",
        "\n",
        "• start the Heroku server so the app is live\n",
        "\n",
        "• visit the app on Heroku’s provided URL"
      ],
      "metadata": {
        "id": "2-sPxMvPb4_v"
      }
    },
    {
      "cell_type": "code",
      "source": [
        "(pages) $ heroku create\n",
        "Creating app... done, ￿ fathomless-hamlet-26076\n",
        "https://fathomless-hamlet-26076.herokuapp.com/ |\n",
        "https://git.heroku.com/fathomless-hamlet-26076.git"
      ],
      "metadata": {
        "id": "R4TVeulkcO4L"
      },
      "execution_count": null,
      "outputs": []
    },
    {
      "cell_type": "markdown",
      "source": [
        "We only need to do one set of Heroku configurations at this point, which is to tell Heroku to ignore static files like CSS and JavaScript which Django by default tries to optimize for us."
      ],
      "metadata": {
        "id": "pEy_sg6bcYMI"
      }
    },
    {
      "cell_type": "code",
      "source": [
        "(pages) $ heroku config:set DISABLE_COLLECTSTATIC=1"
      ],
      "metadata": {
        "id": "z0yAor15ceKq"
      },
      "execution_count": null,
      "outputs": []
    },
    {
      "cell_type": "markdown",
      "source": [
        "Now we can push our code to Heroku."
      ],
      "metadata": {
        "id": "FYtRYsiqcjtS"
      }
    },
    {
      "cell_type": "code",
      "source": [
        "(pages) $ git push heroku master"
      ],
      "metadata": {
        "id": "rSJfx_hwcoft"
      },
      "execution_count": null,
      "outputs": []
    },
    {
      "cell_type": "markdown",
      "source": [
        "Finally, we need to make our Heroku app live. As websites grow in traffic they need additional Heroku services but for our basic example we can use the lowest level, web=1, which also happens to be free! Type the following command:"
      ],
      "metadata": {
        "id": "PqvVtvzPc5Ki"
      }
    },
    {
      "cell_type": "code",
      "source": [
        "(pages) $ heroku ps:scale web=1"
      ],
      "metadata": {
        "id": "TmB18Rkbc-35"
      },
      "execution_count": null,
      "outputs": []
    },
    {
      "cell_type": "markdown",
      "source": [
        "We’re done! The last step is to confirm our app is live and online. If you use the command heroku open your web browser will open a new tab with the URL of your app:"
      ],
      "metadata": {
        "id": "tNznPsWMdMq0"
      }
    },
    {
      "cell_type": "code",
      "source": [
        "(pages) $ heroku open"
      ],
      "metadata": {
        "id": "UVFAs_rUdRUy"
      },
      "execution_count": null,
      "outputs": []
    },
    {
      "cell_type": "markdown",
      "source": [
        "You do not have to log out or exit from your Heroku app. It will continue running at this free tier on its own, though you should type exit to leave the local virtual environment"
      ],
      "metadata": {
        "id": "Gleq68fwda20"
      }
    }
  ]
}