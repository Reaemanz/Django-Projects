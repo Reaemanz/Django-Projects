{
  "nbformat": 4,
  "nbformat_minor": 0,
  "metadata": {
    "colab": {
      "provenance": []
    },
    "kernelspec": {
      "name": "python3",
      "display_name": "Python 3"
    },
    "language_info": {
      "name": "python"
    }
  },
  "cells": [
    {
      "cell_type": "markdown",
      "source": [
        "# **Polls App: Part 3**"
      ],
      "metadata": {
        "id": "g7HlSVDcdRTD"
      }
    },
    {
      "cell_type": "markdown",
      "source": [
        "We’re continuing the web-poll application and will focus on creating the public interface – “views.”"
      ],
      "metadata": {
        "id": "rXzowja6dJ7x"
      }
    },
    {
      "cell_type": "markdown",
      "source": [
        "# **Overview**"
      ],
      "metadata": {
        "id": "e9bPriXqdPSk"
      }
    },
    {
      "cell_type": "markdown",
      "source": [
        "A view is a “type” of web page in your Django application that generally serves a specific function and has a specific template. For example, in a blog application, you might have the following views:\n",
        "\n",
        "Blog homepage – displays the latest few entries.\n",
        "Entry “detail” page – permalink page for a single entry.\n",
        "Year-based archive page – displays all months with entries in the given year.\n",
        "Month-based archive page – displays all days with entries in the given month.\n",
        "Day-based archive page – displays all entries in the given day.\n",
        "Comment action – handles posting comments to a given entry.\n",
        "In our poll application, we’ll have the following four views:\n",
        "\n",
        "Question “index” page – displays the latest few questions.\n",
        "Question “detail” page – displays a question text, with no results but with a form to vote.\n",
        "Question “results” page – displays results for a particular question.\n",
        "Vote action – handles voting for a particular choice in a particular question.\n",
        "In Django, web pages and other content are delivered by views. Each view is represented by a Python function (or method, in the case of class-based views). Django will choose a view by examining the URL that’s requested (to be precise, the part of the URL after the domain name).\n",
        "\n",
        "Now in your time on the web you may have come across such beauties as ME2/Sites/dirmod.htm?sid=&type=gen&mod=Core+Pages&gid=A6CD4967199A42D9B65B1B. You will be pleased to know that Django allows us much more elegant URL patterns than that.\n",
        "\n",
        "A URL pattern is the general form of a URL - for example: /newsarchive/<year>/<month>/.\n",
        "\n",
        "To get from a URL to a view, Django uses what are known as ‘URLconfs’. A URLconf maps URL patterns to views.\n",
        "\n",
        "This tutorial provides basic instruction in the use of URLconfs, and you can refer to URL dispatcher for more information."
      ],
      "metadata": {
        "id": "XoLUPe6QdZrj"
      }
    },
    {
      "cell_type": "markdown",
      "source": [
        "# **Writing more Views**"
      ],
      "metadata": {
        "id": "ov4THLjfdcdm"
      }
    },
    {
      "cell_type": "markdown",
      "source": [
        "Now let’s add a few more views to polls/views.py. These views are slightly different, because they take an argument:"
      ],
      "metadata": {
        "id": "b7FVrNAwdhJV"
      }
    },
    {
      "cell_type": "code",
      "source": [
        "def detail(request, question_id):\n",
        "    return HttpResponse(\"You're looking at question %s.\" % question_id)\n",
        "\n",
        "\n",
        "def results(request, question_id):\n",
        "    response = \"You're looking at the results of question %s.\"\n",
        "    return HttpResponse(response % question_id)\n",
        "\n",
        "\n",
        "def vote(request, question_id):\n",
        "    return HttpResponse(\"You're voting on question %s.\" % question_id)"
      ],
      "metadata": {
        "id": "xL4CsebWdja7"
      },
      "execution_count": null,
      "outputs": []
    },
    {
      "cell_type": "markdown",
      "source": [
        "Wire these new views into the polls.urls module by adding the following path() calls:"
      ],
      "metadata": {
        "id": "JQH5uh2wdo0J"
      }
    },
    {
      "cell_type": "code",
      "source": [
        "from django.urls import path\n",
        "\n",
        "from . import views\n",
        "\n",
        "urlpatterns = [\n",
        "    # ex: /polls/\n",
        "    path(\"\", views.index, name=\"index\"),\n",
        "    # ex: /polls/5/\n",
        "    path(\"<int:question_id>/\", views.detail, name=\"detail\"),\n",
        "    # ex: /polls/5/results/\n",
        "    path(\"<int:question_id>/results/\", views.results, name=\"results\"),\n",
        "    # ex: /polls/5/vote/\n",
        "    path(\"<int:question_id>/vote/\", views.vote, name=\"vote\"),\n",
        "]"
      ],
      "metadata": {
        "id": "ygmjU-LHdsAe"
      },
      "execution_count": null,
      "outputs": []
    },
    {
      "cell_type": "markdown",
      "source": [
        "Take a look in your browser, at “/polls/34/”. It’ll run the detail() method and display whatever ID you provide in the URL. Try “/polls/34/results/” and “/polls/34/vote/” too – these will display the placeholder results and voting pages.\n",
        "\n",
        "When somebody requests a page from your website – say, “/polls/34/”, Django will load the mysite.urls Python module because it’s pointed to by the ROOT_URLCONF setting. It finds the variable named urlpatterns and traverses the patterns in order. After finding the match at 'polls/', it strips off the matching text (\"polls/\") and sends the remaining text – \"34/\" – to the ‘polls.urls’ URLconf for further processing. There it matches '<int:question_id>/', resulting in a call to the detail() view like so:"
      ],
      "metadata": {
        "id": "u3Vg-G3Hd1rK"
      }
    },
    {
      "cell_type": "code",
      "source": [
        "detail(request=<HttpRequest object>, question_id=34)"
      ],
      "metadata": {
        "id": "_Lz4jnP2d5T3"
      },
      "execution_count": null,
      "outputs": []
    },
    {
      "cell_type": "markdown",
      "source": [
        "The question_id=34 part comes from <int:question_id>. Using angle brackets “captures” part of the URL and sends it as a keyword argument to the view function. The question_id part of the string defines the name that will be used to identify the matched pattern, and the int part is a converter that determines what patterns should match this part of the URL path. The colon (:) separates the converter and pattern name."
      ],
      "metadata": {
        "id": "lMXfnkjPd9Ig"
      }
    },
    {
      "cell_type": "markdown",
      "source": [
        "# **Write Views that actually do something**"
      ],
      "metadata": {
        "id": "M2NP5V7xd_1i"
      }
    },
    {
      "cell_type": "markdown",
      "source": [
        "Each view is responsible for doing one of two things: returning an HttpResponse object containing the content for the requested page, or raising an exception such as Http404. The rest is up to you.\n",
        "\n",
        "Your view can read records from a database, or not. It can use a template system such as Django’s – or a third-party Python template system – or not. It can generate a PDF file, output XML, create a ZIP file on the fly, anything you want, using whatever Python libraries you want.\n",
        "\n",
        "All Django wants is that HttpResponse. Or an exception.\n",
        "\n",
        "Because it’s convenient, let’s use Django’s own database API, which we covered in Tutorial 2. Here’s one stab at a new index() view, which displays the latest 5 poll questions in the system, separated by commas, according to publication date:"
      ],
      "metadata": {
        "id": "Htem4Tv-eGEf"
      }
    },
    {
      "cell_type": "code",
      "source": [
        "from django.http import HttpResponse\n",
        "\n",
        "from .models import Question\n",
        "\n",
        "\n",
        "def index(request):\n",
        "    latest_question_list = Question.objects.order_by(\"-pub_date\")[:5]\n",
        "    output = \", \".join([q.question_text for q in latest_question_list])\n",
        "    return HttpResponse(output)\n",
        "\n",
        "\n",
        "# Leave the rest of the views (detail, results, vote) unchanged"
      ],
      "metadata": {
        "id": "pmQz4nsOeJbW"
      },
      "execution_count": null,
      "outputs": []
    },
    {
      "cell_type": "markdown",
      "source": [
        "There’s a problem here, though: the page’s design is hard-coded in the view. If you want to change the way the page looks, you’ll have to edit this Python code. So let’s use Django’s template system to separate the design from Python by creating a template that the view can use.\n",
        "\n",
        "First, create a directory called templates in your polls directory. Django will look for templates in there.\n",
        "\n",
        "Your project’s TEMPLATES setting describes how Django will load and render templates. The default settings file configures a DjangoTemplates backend whose APP_DIRS option is set to True. By convention DjangoTemplates looks for a “templates” subdirectory in each of the INSTALLED_APPS.\n",
        "\n",
        "Within the templates directory you have just created, create another directory called polls, and within that create a file called index.html. In other words, your template should be at polls/templates/polls/index.html. Because of how the app_directories template loader works as described above, you can refer to this template within Django as polls/index.html."
      ],
      "metadata": {
        "id": "iBssi3vIeOOw"
      }
    },
    {
      "cell_type": "markdown",
      "source": [
        "# **Template namespacing**\n",
        "\n",
        "Now we might be able to get away with putting our templates directly in polls/templates (rather than creating another polls subdirectory), but it would actually be a bad idea. Django will choose the first template it finds whose name matches, and if you had a template with the same name in a different application, Django would be unable to distinguish between them. We need to be able to point Django at the right one, and the best way to ensure this is by namespacing them. That is, by putting those templates inside another directory named for the application itself"
      ],
      "metadata": {
        "id": "YKkDsFPIeSq4"
      }
    },
    {
      "cell_type": "markdown",
      "source": [
        "Put the following code in that template:"
      ],
      "metadata": {
        "id": "czAWXOkPeX4u"
      }
    },
    {
      "cell_type": "code",
      "source": [
        "{% if latest_question_list %}\n",
        "    <ul>\n",
        "    {% for question in latest_question_list %}\n",
        "        <li><a href=\"/polls/{{ question.id }}/\">{{ question.question_text }}</a></li>\n",
        "    {% endfor %}\n",
        "    </ul>\n",
        "{% else %}\n",
        "    <p>No polls are available.</p>\n",
        "{% endif %}"
      ],
      "metadata": {
        "id": "Q3-OyNE-eaJ6"
      },
      "execution_count": null,
      "outputs": []
    },
    {
      "cell_type": "markdown",
      "source": [
        "Note\n",
        "\n",
        "To make the tutorial shorter, all template examples use incomplete HTML. In your own projects you should use complete HTML documents."
      ],
      "metadata": {
        "id": "XCbPSCf6ef6v"
      }
    },
    {
      "cell_type": "markdown",
      "source": [
        "Now let’s update our index view in polls/views.py to use the template:"
      ],
      "metadata": {
        "id": "L9Cj-6q8ejWZ"
      }
    },
    {
      "cell_type": "code",
      "source": [
        "from django.http import HttpResponse\n",
        "from django.template import loader\n",
        "\n",
        "from .models import Question\n",
        "\n",
        "\n",
        "def index(request):\n",
        "    latest_question_list = Question.objects.order_by(\"-pub_date\")[:5]\n",
        "    template = loader.get_template(\"polls/index.html\")\n",
        "    context = {\n",
        "        \"latest_question_list\": latest_question_list,\n",
        "    }\n",
        "    return HttpResponse(template.render(context, request))"
      ],
      "metadata": {
        "id": "vLSe4ROZel7c"
      },
      "execution_count": null,
      "outputs": []
    },
    {
      "cell_type": "markdown",
      "source": [
        "That code loads the template called polls/index.html and passes it a context. The context is a dictionary mapping template variable names to Python objects.\n",
        "\n",
        "Load the page by pointing your browser at “/polls/”, and you should see a bulleted-list containing the “What’s up” question from Tutorial 2. The link points to the question’s detail page."
      ],
      "metadata": {
        "id": "BaLlXfiteqdt"
      }
    },
    {
      "cell_type": "markdown",
      "source": [
        "# **A shortcut: render()**"
      ],
      "metadata": {
        "id": "8qq0K63Zeudy"
      }
    },
    {
      "cell_type": "markdown",
      "source": [
        "It’s a very common idiom to load a template, fill a context and return an HttpResponse object with the result of the rendered template. Django provides a shortcut. Here’s the full index() view, rewritten:"
      ],
      "metadata": {
        "id": "sbWLEp2ne0FQ"
      }
    },
    {
      "cell_type": "code",
      "source": [
        "from django.shortcuts import render\n",
        "\n",
        "from .models import Question\n",
        "\n",
        "\n",
        "def index(request):\n",
        "    latest_question_list = Question.objects.order_by(\"-pub_date\")[:5]\n",
        "    context = {\"latest_question_list\": latest_question_list}\n",
        "    return render(request, \"polls/index.html\", context)"
      ],
      "metadata": {
        "id": "5hUrqZfXe2FW"
      },
      "execution_count": null,
      "outputs": []
    },
    {
      "cell_type": "markdown",
      "source": [
        "Note that once we’ve done this in all these views, we no longer need to import loader and HttpResponse (you’ll want to keep HttpResponse if you still have the stub methods for detail, results, and vote).\n",
        "\n",
        "The render() function takes the request object as its first argument, a template name as its second argument and a dictionary as its optional third argument. It returns an HttpResponse object of the given template rendered with the given context."
      ],
      "metadata": {
        "id": "4C7pGSDZe67-"
      }
    },
    {
      "cell_type": "markdown",
      "source": [
        "# **Raising a 404 error:**"
      ],
      "metadata": {
        "id": "GzPKtOQCe_SU"
      }
    },
    {
      "cell_type": "markdown",
      "source": [
        "Now, let’s tackle the question detail view – the page that displays the question text for a given poll. Here’s the view:"
      ],
      "metadata": {
        "id": "YfF4nwF0fFKE"
      }
    },
    {
      "cell_type": "code",
      "source": [
        "from django.http import Http404\n",
        "from django.shortcuts import render\n",
        "\n",
        "from .models import Question\n",
        "\n",
        "\n",
        "# ...\n",
        "def detail(request, question_id):\n",
        "    try:\n",
        "        question = Question.objects.get(pk=question_id)\n",
        "    except Question.DoesNotExist:\n",
        "        raise Http404(\"Question does not exist\")\n",
        "    return render(request, \"polls/detail.html\", {\"question\": question})"
      ],
      "metadata": {
        "id": "czMUQRqDfO0g"
      },
      "execution_count": null,
      "outputs": []
    },
    {
      "cell_type": "markdown",
      "source": [
        "The new concept here: The view raises the Http404 exception if a question with the requested ID doesn’t exist.\n",
        "\n",
        "We’ll discuss what you could put in that polls/detail.html template a bit later, but if you’d like to quickly get the above example working, a file containing just:"
      ],
      "metadata": {
        "id": "TAtkNobCfT_1"
      }
    },
    {
      "cell_type": "code",
      "source": [
        "{{ question }}"
      ],
      "metadata": {
        "id": "X6wZ_lxIfYgA"
      },
      "execution_count": null,
      "outputs": []
    },
    {
      "cell_type": "markdown",
      "source": [
        "will get you started for now."
      ],
      "metadata": {
        "id": "bx7qQoFcfdUc"
      }
    },
    {
      "cell_type": "markdown",
      "source": [
        "# **A shortcut: get_object_or_404()**"
      ],
      "metadata": {
        "id": "uf577SClfinQ"
      }
    },
    {
      "cell_type": "markdown",
      "source": [
        "It’s a very common idiom to use get() and raise Http404 if the object doesn’t exist. Django provides a shortcut. Here’s the detail() view, rewritten:"
      ],
      "metadata": {
        "id": "nLCnUteXfnpI"
      }
    },
    {
      "cell_type": "code",
      "source": [
        "from django.shortcuts import get_object_or_404, render\n",
        "\n",
        "from .models import Question\n",
        "\n",
        "\n",
        "# ...\n",
        "def detail(request, question_id):\n",
        "    question = get_object_or_404(Question, pk=question_id)\n",
        "    return render(request, \"polls/detail.html\", {\"question\": question})"
      ],
      "metadata": {
        "id": "KBNHY2oNfpgy"
      },
      "execution_count": null,
      "outputs": []
    },
    {
      "cell_type": "markdown",
      "source": [
        "The get_object_or_404() function takes a Django model as its first argument and an arbitrary number of keyword arguments, which it passes to the get() function of the model’s manager. It raises Http404 if the object doesn’t exist."
      ],
      "metadata": {
        "id": "PHpO_IbHftsx"
      }
    },
    {
      "cell_type": "markdown",
      "source": [
        "Philosophy\n",
        "\n",
        "Why do we use a helper function get_object_or_404() instead of automatically catching the ObjectDoesNotExist exceptions at a higher level, or having the model API raise Http404 instead of ObjectDoesNotExist?\n",
        "\n",
        "Because that would couple the model layer to the view layer. One of the foremost design goals of Django is to maintain loose coupling. Some controlled coupling is introduced in the django.shortcuts module."
      ],
      "metadata": {
        "id": "8aP7gJcHfwtj"
      }
    },
    {
      "cell_type": "markdown",
      "source": [
        "There’s also a get_list_or_404() function, which works just as get_object_or_404() – except using filter() instead of get(). It raises Http404 if the list is empty."
      ],
      "metadata": {
        "id": "q2dDR_8if1m8"
      }
    },
    {
      "cell_type": "markdown",
      "source": [
        "# **Use the template system**"
      ],
      "metadata": {
        "id": "-wGOe5m6f4TC"
      }
    },
    {
      "cell_type": "markdown",
      "source": [
        "Back to the detail() view for our poll application. Given the context variable question, here’s what the polls/detail.html template might look like:"
      ],
      "metadata": {
        "id": "9PsYPEqif-v9"
      }
    },
    {
      "cell_type": "code",
      "source": [
        "<h1>{{ question.question_text }}</h1>\n",
        "<ul>\n",
        "{% for choice in question.choice_set.all %}\n",
        "    <li>{{ choice.choice_text }}</li>\n",
        "{% endfor %}\n",
        "</ul>"
      ],
      "metadata": {
        "id": "lh6zlUVOgArJ"
      },
      "execution_count": null,
      "outputs": []
    },
    {
      "cell_type": "markdown",
      "source": [
        "The template system uses dot-lookup syntax to access variable attributes. In the example of {{ question.question_text }}, first Django does a dictionary lookup on the object question. Failing that, it tries an attribute lookup – which works, in this case. If attribute lookup had failed, it would’ve tried a list-index lookup.\n",
        "\n",
        "Method-calling happens in the {% for %} loop: question.choice_set.all is interpreted as the Python code question.choice_set.all(), which returns an iterable of Choice objects and is suitable for use in the {% for %} tag."
      ],
      "metadata": {
        "id": "6F1t9R1HgEze"
      }
    },
    {
      "cell_type": "markdown",
      "source": [
        "# **Removing hardcoded URLs in templates**"
      ],
      "metadata": {
        "id": "nEiYZNAXgIxx"
      }
    },
    {
      "cell_type": "markdown",
      "source": [
        "Remember, when we wrote the link to a question in the polls/index.html template, the link was partially hardcoded like this:"
      ],
      "metadata": {
        "id": "UXYxaIlrgMfG"
      }
    },
    {
      "cell_type": "code",
      "source": [
        "<li><a href=\"/polls/{{ question.id }}/\">{{ question.question_text }}</a></li>"
      ],
      "metadata": {
        "id": "OP5ylrv_gPxR"
      },
      "execution_count": null,
      "outputs": []
    },
    {
      "cell_type": "markdown",
      "source": [
        "The problem with this hardcoded, tightly-coupled approach is that it becomes challenging to change URLs on projects with a lot of templates. However, since you defined the name argument in the path() functions in the polls.urls module, you can remove a reliance on specific URL paths defined in your url configurations by using the {% url %} template tag:"
      ],
      "metadata": {
        "id": "bAAJRexegSto"
      }
    },
    {
      "cell_type": "code",
      "source": [
        "<li><a href=\"{% url 'detail' question.id %}\">{{ question.question_text }}</a></li>"
      ],
      "metadata": {
        "id": "Rte2M3EkgXBr"
      },
      "execution_count": null,
      "outputs": []
    },
    {
      "cell_type": "markdown",
      "source": [
        "The way this works is by looking up the URL definition as specified in the polls.urls module. You can see exactly where the URL name of ‘detail’ is defined below:"
      ],
      "metadata": {
        "id": "szL7Z_OigaO9"
      }
    },
    {
      "cell_type": "code",
      "source": [
        "...\n",
        "# the 'name' value as called by the {% url %} template tag\n",
        "path(\"<int:question_id>/\", views.detail, name=\"detail\"),\n",
        "..."
      ],
      "metadata": {
        "id": "v5Wq8chMgdFe"
      },
      "execution_count": null,
      "outputs": []
    },
    {
      "cell_type": "markdown",
      "source": [
        "If you want to change the URL of the polls detail view to something else, perhaps to something like polls/specifics/12/ instead of doing it in the template (or templates) you would change it in polls/urls.py:"
      ],
      "metadata": {
        "id": "_qZVUVRQgfwD"
      }
    },
    {
      "cell_type": "code",
      "source": [
        "...\n",
        "# added the word 'specifics'\n",
        "path(\"specifics/<int:question_id>/\", views.detail, name=\"detail\"),\n",
        "..."
      ],
      "metadata": {
        "id": "wxB2eeAzgmxl"
      },
      "execution_count": null,
      "outputs": []
    },
    {
      "cell_type": "markdown",
      "source": [
        "# **Namespacing URL names**"
      ],
      "metadata": {
        "id": "mSmFLKJNgseA"
      }
    },
    {
      "cell_type": "markdown",
      "source": [
        "The tutorial project has just one app, polls. In real Django projects, there might be five, ten, twenty apps or more. How does Django differentiate the URL names between them? For example, the polls app has a detail view, and so might an app on the same project that is for a blog. How does one make it so that Django knows which app view to create for a url when using the {% url %} template tag?\n",
        "\n",
        "The answer is to add namespaces to your URLconf. In the polls/urls.py file, go ahead and add an app_name to set the application namespace:\n",
        "\n",
        "polls/urls.py¶"
      ],
      "metadata": {
        "id": "5UYwzehOg0NP"
      }
    },
    {
      "cell_type": "code",
      "source": [
        "from django.urls import path\n",
        "\n",
        "from . import views\n",
        "\n",
        "app_name = \"polls\"\n",
        "urlpatterns = [\n",
        "    path(\"\", views.index, name=\"index\"),\n",
        "    path(\"<int:question_id>/\", views.detail, name=\"detail\"),\n",
        "    path(\"<int:question_id>/results/\", views.results, name=\"results\"),\n",
        "    path(\"<int:question_id>/vote/\", views.vote, name=\"vote\"),\n",
        "]"
      ],
      "metadata": {
        "id": "k6v1we9Xg6Pj"
      },
      "execution_count": null,
      "outputs": []
    },
    {
      "cell_type": "markdown",
      "source": [
        "Now change your polls/index.html template from:"
      ],
      "metadata": {
        "id": "eH0vpX3mg-yU"
      }
    },
    {
      "cell_type": "code",
      "source": [
        "<li><a href=\"{% url 'detail' question.id %}\">{{ question.question_text }}</a></li>"
      ],
      "metadata": {
        "id": "wqqqki06hB3p"
      },
      "execution_count": null,
      "outputs": []
    },
    {
      "cell_type": "markdown",
      "source": [
        "to point at the namespaced detail view:"
      ],
      "metadata": {
        "id": "vBsP7HM5hGPt"
      }
    },
    {
      "cell_type": "code",
      "source": [
        "<li><a href=\"{% url 'polls:detail' question.id %}\">{{ question.question_text }}</a></li>"
      ],
      "metadata": {
        "id": "F8zM6oVDhOod"
      },
      "execution_count": null,
      "outputs": []
    }
  ]
}