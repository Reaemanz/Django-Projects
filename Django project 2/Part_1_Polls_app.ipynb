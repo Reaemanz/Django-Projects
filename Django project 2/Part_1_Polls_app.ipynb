{
  "nbformat": 4,
  "nbformat_minor": 0,
  "metadata": {
    "colab": {
      "provenance": []
    },
    "kernelspec": {
      "name": "python3",
      "display_name": "Python 3"
    },
    "language_info": {
      "name": "python"
    }
  },
  "cells": [
    {
      "cell_type": "markdown",
      "source": [
        "## **Part 1**"
      ],
      "metadata": {
        "id": "21CmFE_EAhlh"
      }
    },
    {
      "cell_type": "markdown",
      "source": [
        "Throughout this project, we’ll walk through the creation of a basic poll application.\n",
        "\n",
        "It’ll consist of two parts:\n",
        "\n",
        "A public site that lets people view polls and vote in them.\n",
        "An admin site that lets one add, change, and delete polls.\n",
        "We’ll assume Django is installed already. You can tell Django is installed and which version by running the following command in a shell prompt (indicated by the $ prefix):"
      ],
      "metadata": {
        "id": "Mg5yj94UAxB-"
      }
    },
    {
      "cell_type": "code",
      "source": [
        " py -m django --version"
      ],
      "metadata": {
        "id": "KHFzd3Y1BF9F"
      },
      "execution_count": null,
      "outputs": []
    },
    {
      "cell_type": "markdown",
      "source": [
        "If Django is installed, you should see the version of your installation. If it isn’t, you’ll get an error telling “No module named django”."
      ],
      "metadata": {
        "id": "RUi1DB_yBPX5"
      }
    },
    {
      "cell_type": "markdown",
      "source": [
        "# **Creating a project**"
      ],
      "metadata": {
        "id": "jT-MAJ7KBbFY"
      }
    },
    {
      "cell_type": "markdown",
      "source": [
        "If this is the first time using Django, you’ll have to take care of some initial setup. Namely, you’ll need to auto-generate some code that establishes a Django project – a collection of settings for an instance of Django, including database configuration, Django-specific options and application-specific settings.\n",
        "\n",
        "From the command line, cd into a directory where you’d like to store your code, then run the following command:"
      ],
      "metadata": {
        "id": "PGedanCrB1OK"
      }
    },
    {
      "cell_type": "code",
      "source": [
        "...\\> django-admin startproject mysite"
      ],
      "metadata": {
        "id": "TSqMlTaaBhKb"
      },
      "execution_count": null,
      "outputs": []
    },
    {
      "cell_type": "markdown",
      "source": [
        "This will create a mysite directory in your current directory."
      ],
      "metadata": {
        "id": "Bp2Z-QypBwos"
      }
    },
    {
      "cell_type": "markdown",
      "source": [
        "Let’s look at what startproject created:"
      ],
      "metadata": {
        "id": "1w2VBuu2B-8K"
      }
    },
    {
      "cell_type": "code",
      "source": [
        "mysite/\n",
        "    manage.py\n",
        "    mysite/\n",
        "        __init__.py\n",
        "        settings.py\n",
        "        urls.py\n",
        "        asgi.py\n",
        "        wsgi.py"
      ],
      "metadata": {
        "id": "uWSnMk0ECCK7"
      },
      "execution_count": null,
      "outputs": []
    },
    {
      "cell_type": "markdown",
      "source": [
        "These files are:\n",
        "\n",
        "1. The outer mysite/ root directory is a container for your project. Its name doesn’t matter to Django; you can rename it to anything you like.\n",
        "\n",
        "2. manage.py: A command-line utility that lets you interact with this Django project in various ways. You can read all the details about manage.py in django-admin and manage.py.\n",
        "\n",
        "3. The inner mysite/ directory is the actual Python package for your project. Its name is the Python package name you’ll need to use to import anything inside it (e.g. mysite.urls).\n",
        "\n",
        "3. mysite/__init__.py: An empty file that tells Python that this directory should be considered a Python package.\n",
        "\n",
        "4. mysite/settings.py: Settings/configuration for this Django project.\n",
        "\n",
        "5. mysite/urls.py: The URL declarations for this Django project; a “table of contents” of your Django-powered site.\n",
        "\n",
        "6. mysite/asgi.py: An entry-point for ASGI-compatible web servers to serve your project.\n",
        "\n",
        "7. mysite/wsgi.py: An entry-point for WSGI-compatible web servers to serve your project."
      ],
      "metadata": {
        "id": "Q7l1y-MCCfC7"
      }
    },
    {
      "cell_type": "markdown",
      "source": [
        "# **The development server**"
      ],
      "metadata": {
        "id": "q46tZcqoDNkJ"
      }
    },
    {
      "cell_type": "markdown",
      "source": [
        "Let’s verify your Django project works. Change into the outer mysite directory, if you haven’t already, and run the following commands:"
      ],
      "metadata": {
        "id": "1t3X8pWXDQhR"
      }
    },
    {
      "cell_type": "code",
      "source": [
        "...\\> py manage.py runserver"
      ],
      "metadata": {
        "id": "KxuXFg2iDTw6"
      },
      "execution_count": null,
      "outputs": []
    },
    {
      "cell_type": "markdown",
      "source": [
        "You’ll see the following output on the command line:"
      ],
      "metadata": {
        "id": "VolrUv0EDXv6"
      }
    },
    {
      "cell_type": "code",
      "source": [
        "Performing system checks...\n",
        "\n",
        "System check identified no issues (0 silenced).\n",
        "\n",
        "You have unapplied migrations; your app may not work properly until they are applied.\n",
        "Run 'python manage.py migrate' to apply them.\n",
        "\n",
        "August 23, 2023 - 15:50:53\n",
        "Django version 4.2, using settings 'mysite.settings'\n",
        "Starting development server at http://127.0.0.1:8000/\n",
        "Quit the server with CONTROL-C."
      ],
      "metadata": {
        "id": "51BcVjKeDblQ"
      },
      "execution_count": null,
      "outputs": []
    },
    {
      "cell_type": "markdown",
      "source": [
        "# **Creating the Polls app**"
      ],
      "metadata": {
        "id": "L76zvVFlEKRm"
      }
    },
    {
      "cell_type": "markdown",
      "source": [
        "Now that your environment – a “project” – is set up, you’re set to start doing work.\n",
        "\n",
        "Each application you write in Django consists of a Python package that follows a certain convention. Django comes with a utility that automatically generates the basic directory structure of an app, so you can focus on writing code rather than creating directories."
      ],
      "metadata": {
        "id": "T2lZa-DgETPb"
      }
    },
    {
      "cell_type": "markdown",
      "source": [
        "**Projects vs. apps**\n",
        "\n",
        "What’s the difference between a project and an app? An app is a web application that does something – e.g., a blog system, a database of public records or a small poll app. A project is a collection of configuration and apps for a particular website. A project can contain multiple apps. An app can be in multiple projects."
      ],
      "metadata": {
        "id": "Puu3syMHEWU3"
      }
    },
    {
      "cell_type": "markdown",
      "source": [
        "Apps can live anywhere on the Python path. In this project, we’ll create our poll app in the same directory as the manage.py file so that it can be imported as its own top-level module, rather than a submodule of mysite.\n",
        "\n",
        "To create your app, make sure you’re in the same directory as manage.py and type this command:"
      ],
      "metadata": {
        "id": "y94eTwVhEkA5"
      }
    },
    {
      "cell_type": "code",
      "source": [
        "...\\> py manage.py startapp polls"
      ],
      "metadata": {
        "id": "awbK65xTExXb"
      },
      "execution_count": null,
      "outputs": []
    },
    {
      "cell_type": "markdown",
      "source": [
        "That’ll create a directory polls, which is laid out like this:"
      ],
      "metadata": {
        "id": "Y6LpTGeKE4Fe"
      }
    },
    {
      "cell_type": "code",
      "source": [
        "polls/\n",
        "    __init__.py\n",
        "    admin.py\n",
        "    apps.py\n",
        "    migrations/\n",
        "        __init__.py\n",
        "    models.py\n",
        "    tests.py\n",
        "    views.py"
      ],
      "metadata": {
        "id": "6B4SpyGYE7o4"
      },
      "execution_count": null,
      "outputs": []
    },
    {
      "cell_type": "markdown",
      "source": [
        "This directory structure will house the poll application."
      ],
      "metadata": {
        "id": "JTXWmLNTE_Lo"
      }
    },
    {
      "cell_type": "markdown",
      "source": [
        "# **Writing my first view**"
      ],
      "metadata": {
        "id": "eMrDd6EOFESa"
      }
    },
    {
      "cell_type": "markdown",
      "source": [
        "Let’s write the first view. Open the file polls/views.py and put the following Python code in it:"
      ],
      "metadata": {
        "id": "rn7vpL0BFOje"
      }
    },
    {
      "cell_type": "code",
      "source": [
        "from django.http import HttpResponse\n",
        "\n",
        "\n",
        "def index(request):\n",
        "    return HttpResponse(\"Hello, world. You're at the polls index.\")"
      ],
      "metadata": {
        "id": "PbXyIjiQFSxp"
      },
      "execution_count": null,
      "outputs": []
    },
    {
      "cell_type": "markdown",
      "source": [
        "This is the simplest view possible in Django. To call the view, we need to map it to a URL - and for this we need a URLconf.\n",
        "\n",
        "To create a URLconf in the polls directory, create a file called urls.py. Your app directory should now look like:"
      ],
      "metadata": {
        "id": "3lKuC6E8FaNH"
      }
    },
    {
      "cell_type": "code",
      "source": [
        "polls/\n",
        "    __init__.py\n",
        "    admin.py\n",
        "    apps.py\n",
        "    migrations/\n",
        "        __init__.py\n",
        "    models.py\n",
        "    tests.py\n",
        "    urls.py\n",
        "    views.py"
      ],
      "metadata": {
        "id": "u9tBQE60FjMO"
      },
      "execution_count": null,
      "outputs": []
    },
    {
      "cell_type": "markdown",
      "source": [
        "In the polls/urls.py file include the following code:"
      ],
      "metadata": {
        "id": "7w4lwGqeFoH6"
      }
    },
    {
      "cell_type": "code",
      "source": [
        "from django.urls import path\n",
        "\n",
        "from . import views\n",
        "\n",
        "urlpatterns = [\n",
        "    path(\"\", views.index, name=\"index\"),\n",
        "]"
      ],
      "metadata": {
        "id": "a7LSwq3fFqYH"
      },
      "execution_count": null,
      "outputs": []
    },
    {
      "cell_type": "markdown",
      "source": [
        "The next step is to point the root URLconf at the polls.urls module. In mysite/urls.py, add an import for django.urls.include and insert an include() in the urlpatterns list, so you have:"
      ],
      "metadata": {
        "id": "SlcyOzYxF8IQ"
      }
    },
    {
      "cell_type": "code",
      "source": [
        "from django.contrib import admin\n",
        "from django.urls import include, path\n",
        "\n",
        "urlpatterns = [\n",
        "    path(\"polls/\", include(\"polls.urls\")),\n",
        "    path(\"admin/\", admin.site.urls),\n",
        "]"
      ],
      "metadata": {
        "id": "PCClPBbnF_PC"
      },
      "execution_count": null,
      "outputs": []
    },
    {
      "cell_type": "markdown",
      "source": [
        "The include() function allows referencing other URLconfs. Whenever Django encounters include(), it chops off whatever part of the URL matched up to that point and sends the remaining string to the included URLconf for further processing.\n",
        "\n",
        "The idea behind include() is to make it easy to plug-and-play URLs. Since polls are in their own URLconf (polls/urls.py), they can be placed under “/polls/”, or under “/fun_polls/”, or under “/content/polls/”, or any other path root, and the app will still work."
      ],
      "metadata": {
        "id": "Zu3f_3WZGGXy"
      }
    },
    {
      "cell_type": "markdown",
      "source": [
        "When to use include()\n",
        "\n",
        "You should always use include() when you include other URL patterns. admin.site.urls is the only exception to this."
      ],
      "metadata": {
        "id": "TEOi37ozGMjf"
      }
    },
    {
      "cell_type": "markdown",
      "source": [
        "ou have now wired an index view into the URLconf. Verify it’s working with the following command:"
      ],
      "metadata": {
        "id": "ALMzDuW4GQH1"
      }
    },
    {
      "cell_type": "code",
      "source": [
        "...\\> py manage.py runserver"
      ],
      "metadata": {
        "id": "63PiG2H2GTD4"
      },
      "execution_count": null,
      "outputs": []
    },
    {
      "cell_type": "markdown",
      "source": [
        "Go to http://localhost:8000/polls/ in your browser, and you should see the text “Hello, world. You’re at the polls index.”, which you defined in the index view."
      ],
      "metadata": {
        "id": "UrlZzQMuGYC3"
      }
    },
    {
      "cell_type": "markdown",
      "source": [
        "Page not found?\n",
        "\n",
        "If you get an error page here, check that you’re going to http://localhost:8000/polls/ and not http://localhost:8000/."
      ],
      "metadata": {
        "id": "tVBR42OKGerW"
      }
    },
    {
      "cell_type": "markdown",
      "source": [
        "The path() function is passed four arguments, two required: route and view, and two optional: kwargs, and name. At this point, it’s worth reviewing what these arguments are for.\n",
        "\n",
        "path() argument: route¶\n",
        "route is a string that contains a URL pattern. When processing a request, Django starts at the first pattern in urlpatterns and makes its way down the list, comparing the requested URL against each pattern until it finds one that matches.\n",
        "\n",
        "Patterns don’t search GET and POST parameters, or the domain name. For example, in a request to https://www.example.com/myapp/, the URLconf will look for myapp/. In a request to https://www.example.com/myapp/?page=3, the URLconf will also look for myapp/.\n",
        "\n",
        "path() argument: view\n",
        "\n",
        "When Django finds a matching pattern, it calls the specified view function with an HttpRequest object as the first argument and any “captured” values from the route as keyword arguments. We’ll give an example of this in a bit.\n",
        "\n",
        "path() argument: kwargs¶\n",
        "Arbitrary keyword arguments can be passed in a dictionary to the target view. We aren’t going to use this feature of Django in the tutorial.\n",
        "\n",
        "path() argument: name¶\n",
        "Naming your URL lets you refer to it unambiguously from elsewhere in Django, especially from within templates. This powerful feature allows you to make global changes to the URL patterns of your project while only touching a single file.\n",
        "\n",
        "When you’re comfortable with the basic request and response flow, read part 2 of this project to start working with the database."
      ],
      "metadata": {
        "id": "h8fY_5sDGrQl"
      }
    }
  ]
}