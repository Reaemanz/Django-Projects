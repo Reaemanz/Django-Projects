{
  "nbformat": 4,
  "nbformat_minor": 0,
  "metadata": {
    "colab": {
      "provenance": []
    },
    "kernelspec": {
      "name": "python3",
      "display_name": "Python 3"
    },
    "language_info": {
      "name": "python"
    }
  },
  "cells": [
    {
      "cell_type": "markdown",
      "source": [
        "# **Part 4 Polls App**"
      ],
      "metadata": {
        "id": "evsUk5A6dVe7"
      }
    },
    {
      "cell_type": "markdown",
      "source": [
        "https://docs.djangoproject.com/en/4.2/intro/tutorial04/"
      ],
      "metadata": {
        "id": "cv7kvj5Se9S5"
      }
    },
    {
      "cell_type": "markdown",
      "source": [
        "This tutorial begins where Tutorial 3 left off. We’re continuing the web-poll application and will focus on form processing and cutting down our code."
      ],
      "metadata": {
        "id": "zhffmB_DdeNc"
      }
    },
    {
      "cell_type": "markdown",
      "source": [
        "# **Write a minimal form**"
      ],
      "metadata": {
        "id": "QwSKXPGMdimi"
      }
    },
    {
      "cell_type": "code",
      "source": [
        "<form action=\"{% url 'polls:vote' question.id %}\" method=\"post\">\n",
        "{% csrf_token %}\n",
        "<fieldset>\n",
        "    <legend><h1>{{ question.question_text }}</h1></legend>\n",
        "    {% if error_message %}<p><strong>{{ error_message }}</strong></p>{% endif %}\n",
        "    {% for choice in question.choice_set.all %}\n",
        "        <input type=\"radio\" name=\"choice\" id=\"choice{{ forloop.counter }}\" value=\"{{ choice.id }}\">\n",
        "        <label for=\"choice{{ forloop.counter }}\">{{ choice.choice_text }}</label><br>\n",
        "    {% endfor %}\n",
        "</fieldset>\n",
        "<input type=\"submit\" value=\"Vote\">\n",
        "</form>"
      ],
      "metadata": {
        "id": "jneIYCJ7dpsZ"
      },
      "execution_count": null,
      "outputs": []
    },
    {
      "cell_type": "markdown",
      "source": [
        "A quick rundown:\n",
        "\n",
        "The above template displays a radio button for each question choice. The value of each radio button is the associated question choice’s ID. The name of each radio button is \"choice\". That means, when somebody selects one of the radio buttons and submits the form, it’ll send the POST data choice=# where # is the ID of the selected choice. This is the basic concept of HTML forms.\n",
        "\n",
        "We set the form’s action to {% url 'polls:vote' question.id %}, and we set method=\"post\". Using method=\"post\" (as opposed to method=\"get\") is very important, because the act of submitting this form will alter data server-side. Whenever you create a form that alters data server-side, use method=\"post\". This tip isn’t specific to Django; it’s good web development practice in general.\n",
        "\n",
        "forloop.counter indicates how many times the for tag has gone through its loop\n",
        "Since we’re creating a POST form (which can have the effect of modifying data), we need to worry about Cross Site Request Forgeries. Thankfully, you don’t have to worry too hard, because Django comes with a helpful system for protecting against it. In short, all POST forms that are targeted at internal URLs should use the {% csrf_token %} template tag.\n",
        "\n",
        "Now, let’s create a Django view that handles the submitted data and does something with it. Remember, in Tutorial 3, we created a URLconf for the polls application that includes this line:"
      ],
      "metadata": {
        "id": "qIfvtZvadyl-"
      }
    },
    {
      "cell_type": "markdown",
      "source": [
        "polls/urls.py"
      ],
      "metadata": {
        "id": "NI3SFAZ3erFI"
      }
    },
    {
      "cell_type": "code",
      "source": [
        "path(\"<int:question_id>/vote/\", views.vote, name=\"vote\"),"
      ],
      "metadata": {
        "id": "HWLa_MjTei58"
      },
      "execution_count": null,
      "outputs": []
    },
    {
      "cell_type": "markdown",
      "source": [
        "We also created a dummy implementation of the vote() function. Let’s create a real version. Add the following to polls/views.py:"
      ],
      "metadata": {
        "id": "xTJPVUJHfELT"
      }
    },
    {
      "cell_type": "code",
      "source": [
        "from django.http import HttpResponse, HttpResponseRedirect\n",
        "from django.shortcuts import get_object_or_404, render\n",
        "from django.urls import reverse\n",
        "\n",
        "from .models import Choice, Question\n",
        "\n",
        "\n",
        "# ...\n",
        "def vote(request, question_id):\n",
        "    question = get_object_or_404(Question, pk=question_id)\n",
        "    try:\n",
        "        selected_choice = question.choice_set.get(pk=request.POST[\"choice\"])\n",
        "    except (KeyError, Choice.DoesNotExist):\n",
        "        # Redisplay the question voting form.\n",
        "        return render(\n",
        "            request,\n",
        "            \"polls/detail.html\",\n",
        "            {\n",
        "                \"question\": question,\n",
        "                \"error_message\": \"You didn't select a choice.\",\n",
        "            },\n",
        "        )\n",
        "    else:\n",
        "        selected_choice.votes += 1\n",
        "        selected_choice.save()\n",
        "        # Always return an HttpResponseRedirect after successfully dealing\n",
        "        # with POST data. This prevents data from being posted twice if a\n",
        "        # user hits the Back button.\n",
        "        return HttpResponseRedirect(reverse(\"polls:results\", args=(question.id,)))"
      ],
      "metadata": {
        "id": "QmDfcnAVfG8j"
      },
      "execution_count": null,
      "outputs": []
    },
    {
      "cell_type": "markdown",
      "source": [
        "This code includes a few things we haven’t covered yet in this tutorial:\n",
        "\n",
        "request.POST is a dictionary-like object that lets you access submitted data by key name. In this case, request.POST['choice'] returns the ID of the selected choice, as a string. request.POST values are always strings.\n",
        "\n",
        "Note that Django also provides request.GET for accessing GET data in the same way – but we’re explicitly using request.POST in our code, to ensure that data is only altered via a POST call.\n",
        "\n",
        "request.POST['choice'] will raise KeyError if choice wasn’t provided in POST data. The above code checks for KeyError and redisplays the question form with an error message if choice isn’t given.\n",
        "\n",
        "After incrementing the choice count, the code returns an HttpResponseRedirect rather than a normal HttpResponse. HttpResponseRedirect takes a single argument: the URL to which the user will be redirected (see the following point for how we construct the URL in this case).\n",
        "\n",
        "As the Python comment above points out, you should always return an HttpResponseRedirect after successfully dealing with POST data. This tip isn’t specific to Django; it’s good web development practice in general.\n",
        "\n",
        "We are using the reverse() function in the HttpResponseRedirect constructor in this example. This function helps avoid having to hardcode a URL in the view function. It is given the name of the view that we want to pass control to and the variable portion of the URL pattern that points to that view. In this case, using the URLconf we set up in Tutorial 3, this reverse() call will return a string like"
      ],
      "metadata": {
        "id": "1ygLMMD9fZPo"
      }
    },
    {
      "cell_type": "code",
      "source": [
        "\"/polls/3/results/\""
      ],
      "metadata": {
        "id": "vzc_kOvjffD5"
      },
      "execution_count": null,
      "outputs": []
    },
    {
      "cell_type": "markdown",
      "source": [
        "where the 3 is the value of question.id. This redirected URL will then call the 'results' view to display the final page.\n",
        "\n",
        "As mentioned in Tutorial 3, request is an HttpRequest object. For more on HttpRequest objects, see the request and response documentation.\n",
        "\n",
        "After somebody votes in a question, the vote() view redirects to the results page for the question. Let’s write that view:"
      ],
      "metadata": {
        "id": "WjQqMXP9frfK"
      }
    },
    {
      "cell_type": "code",
      "source": [
        "polls/views.py\n",
        "from django.shortcuts import get_object_or_404, render\n",
        "\n",
        "\n",
        "def results(request, question_id):\n",
        "    question = get_object_or_404(Question, pk=question_id)\n",
        "    return render(request, \"polls/results.html\", {\"question\": question})"
      ],
      "metadata": {
        "id": "NHacdTkCfwzx"
      },
      "execution_count": null,
      "outputs": []
    },
    {
      "cell_type": "markdown",
      "source": [
        "This is almost exactly the same as the detail() view from Tutorial 3. The only difference is the template name. We’ll fix this redundancy later.\n",
        "\n",
        "Now, create a polls/results.html template:"
      ],
      "metadata": {
        "id": "bmdbBa6vf5t1"
      }
    },
    {
      "cell_type": "code",
      "source": [
        "#polls/templates/polls/results.html\n",
        "\n",
        "<h1>{{ question.question_text }}</h1>\n",
        "\n",
        "<ul>\n",
        "{% for choice in question.choice_set.all %}\n",
        "    <li>{{ choice.choice_text }} -- {{ choice.votes }} vote{{ choice.votes|pluralize }}</li>\n",
        "{% endfor %}\n",
        "</ul>\n",
        "\n",
        "<a href=\"{% url 'polls:detail' question.id %}\">Vote again?</a>"
      ],
      "metadata": {
        "id": "GG-IEr6lf_kc"
      },
      "execution_count": null,
      "outputs": []
    },
    {
      "cell_type": "markdown",
      "source": [
        "Now, go to /polls/1/ in your browser and vote in the question. You should see a results page that gets updated each time you vote. If you submit the form without having chosen a choice, you should see the error message."
      ],
      "metadata": {
        "id": "cU6oRULugLj9"
      }
    },
    {
      "cell_type": "markdown",
      "source": [
        "Note\n",
        "\n",
        "The code for our vote() view does have a small problem. It first gets the selected_choice object from the database, then computes the new value of votes, and then saves it back to the database. If two users of your website try to vote at exactly the same time, this might go wrong: The same value, let’s say 42, will be retrieved for votes. Then, for both users the new value of 43 is computed and saved, but 44 would be the expected value.\n",
        "\n",
        "This is called a race condition. If you are interested, you can read Avoiding race conditions using F() to learn how you can solve this issue."
      ],
      "metadata": {
        "id": "nMv1SlUdgP5S"
      }
    },
    {
      "cell_type": "markdown",
      "source": [
        "# **Use generic views: Less code is better**"
      ],
      "metadata": {
        "id": "oeAz5DimgXWd"
      }
    },
    {
      "cell_type": "markdown",
      "source": [
        "The detail() (from Tutorial 3) and results() views are very short – and, as mentioned above, redundant. The index() view, which displays a list of polls, is similar.\n",
        "\n",
        "These views represent a common case of basic web development: getting data from the database according to a parameter passed in the URL, loading a template and returning the rendered template. Because this is so common, Django provides a shortcut, called the “generic views” system.\n",
        "\n",
        "Generic views abstract common patterns to the point where you don’t even need to write Python code to write an app.\n",
        "\n",
        "Let’s convert our poll app to use the generic views system, so we can delete a bunch of our own code. We’ll have to take a few steps to make the conversion. We will:\n",
        "\n",
        "Convert the URLconf.\n",
        "Delete some of the old, unneeded views.\n",
        "Introduce new views based on Django’s generic views.\n",
        "Read on for details."
      ],
      "metadata": {
        "id": "rerwQNuDgb_I"
      }
    },
    {
      "cell_type": "markdown",
      "source": [
        "Why the code-shuffle?\n",
        "\n",
        "Generally, when writing a Django app, you’ll evaluate whether generic views are a good fit for your problem, and you’ll use them from the beginning, rather than refactoring your code halfway through. But this tutorial intentionally has focused on writing the views “the hard way” until now, to focus on core concepts.\n",
        "\n",
        "You should know basic math before you start using a calculator."
      ],
      "metadata": {
        "id": "kJC9z_cPggUM"
      }
    },
    {
      "cell_type": "markdown",
      "source": [
        "# **Amend URLconf**"
      ],
      "metadata": {
        "id": "lEi7LqjQglgn"
      }
    },
    {
      "cell_type": "markdown",
      "source": [
        "First, open the polls/urls.py URLconf and change it like so:"
      ],
      "metadata": {
        "id": "AxKoBv4ugqSk"
      }
    },
    {
      "cell_type": "code",
      "source": [
        "from django.urls import path\n",
        "\n",
        "from . import views\n",
        "\n",
        "app_name = \"polls\"\n",
        "urlpatterns = [\n",
        "    path(\"\", views.IndexView.as_view(), name=\"index\"),\n",
        "    path(\"<int:pk>/\", views.DetailView.as_view(), name=\"detail\"),\n",
        "    path(\"<int:pk>/results/\", views.ResultsView.as_view(), name=\"results\"),\n",
        "    path(\"<int:question_id>/vote/\", views.vote, name=\"vote\"),\n",
        "]"
      ],
      "metadata": {
        "id": "o2Hv-F9FguYq"
      },
      "execution_count": null,
      "outputs": []
    },
    {
      "cell_type": "markdown",
      "source": [
        "Note that the name of the matched pattern in the path strings of the second and third patterns has changed from <question_id> to <pk>."
      ],
      "metadata": {
        "id": "QsxQ-fAXgy6H"
      }
    },
    {
      "cell_type": "markdown",
      "source": [
        "# **Amend views**"
      ],
      "metadata": {
        "id": "eYA-e9MTg9Jl"
      }
    },
    {
      "cell_type": "markdown",
      "source": [
        "Next, we’re going to remove our old index, detail, and results views and use Django’s generic views instead. To do so, open the polls/views.py file and change it like so:"
      ],
      "metadata": {
        "id": "4KGfMVLPhBCk"
      }
    },
    {
      "cell_type": "code",
      "source": [
        "from django.http import HttpResponseRedirect\n",
        "from django.shortcuts import get_object_or_404, render\n",
        "from django.urls import reverse\n",
        "from django.views import generic\n",
        "\n",
        "from .models import Choice, Question\n",
        "\n",
        "\n",
        "class IndexView(generic.ListView):\n",
        "    template_name = \"polls/index.html\"\n",
        "    context_object_name = \"latest_question_list\"\n",
        "\n",
        "    def get_queryset(self):\n",
        "        \"\"\"Return the last five published questions.\"\"\"\n",
        "        return Question.objects.order_by(\"-pub_date\")[:5]\n",
        "\n",
        "\n",
        "class DetailView(generic.DetailView):\n",
        "    model = Question\n",
        "    template_name = \"polls/detail.html\"\n",
        "\n",
        "\n",
        "class ResultsView(generic.DetailView):\n",
        "    model = Question\n",
        "    template_name = \"polls/results.html\"\n",
        "\n",
        "\n",
        "def vote(request, question_id):\n",
        "    ...  # same as above, no changes needed."
      ],
      "metadata": {
        "id": "uxp7Zx3hhF1f"
      },
      "execution_count": null,
      "outputs": []
    },
    {
      "cell_type": "markdown",
      "source": [
        "We’re using two generic views here: ListView and DetailView. Respectively, those two views abstract the concepts of “display a list of objects” and “display a detail page for a particular type of object.”\n",
        "\n",
        "Each generic view needs to know what model it will be acting upon. This is provided using the model attribute.\n",
        "The DetailView generic view expects the primary key value captured from the URL to be called \"pk\", so we’ve changed question_id to pk for the generic views.\n",
        "By default, the DetailView generic view uses a template called <app name>/<model name>_detail.html. In our case, it would use the template \"polls/question_detail.html\". The template_name attribute is used to tell Django to use a specific template name instead of the autogenerated default template name. We also specify the template_name for the results list view – this ensures that the results view and the detail view have a different appearance when rendered, even though they’re both a DetailView behind the scenes.\n",
        "\n",
        "Similarly, the ListView generic view uses a default template called <app name>/<model name>_list.html; we use template_name to tell ListView to use our existing \"polls/index.html\" template.\n",
        "\n",
        "In previous parts of the tutorial, the templates have been provided with a context that contains the question and latest_question_list context variables. For DetailView the question variable is provided automatically – since we’re using a Django model (Question), Django is able to determine an appropriate name for the context variable. However, for ListView, the automatically generated context variable is question_list. To override this we provide the context_object_name attribute, specifying that we want to use latest_question_list instead. As an alternative approach, you could change your templates to match the new default context variables – but it’s a lot easier to tell Django to use the variable you want.\n",
        "\n",
        "Run the server, and use your new polling app based on generic views.\n",
        "\n",
        "For full details on generic views, see the generic views documentation.\n",
        "\n",
        "When you’re comfortable with forms and generic views, read part 5 of this tutorial to learn about testing our polls app."
      ],
      "metadata": {
        "id": "_YbInEFJhNXE"
      }
    }
  ]
}