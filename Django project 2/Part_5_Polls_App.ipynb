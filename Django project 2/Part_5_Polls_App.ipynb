{
  "nbformat": 4,
  "nbformat_minor": 0,
  "metadata": {
    "colab": {
      "provenance": []
    },
    "kernelspec": {
      "name": "python3",
      "display_name": "Python 3"
    },
    "language_info": {
      "name": "python"
    }
  },
  "cells": [
    {
      "cell_type": "markdown",
      "source": [
        "# **Writing your first Django app, part 5**"
      ],
      "metadata": {
        "id": "4TLnBC5Whpsn"
      }
    },
    {
      "cell_type": "markdown",
      "source": [
        "This tutorial begins where Tutorial 4 left off. We’ve built a web-poll application, and we’ll now create some automated tests for it."
      ],
      "metadata": {
        "id": "_kA31sp-hvXM"
      }
    },
    {
      "cell_type": "markdown",
      "source": [
        "# **Introducing automated testing**"
      ],
      "metadata": {
        "id": "e1IhOSpSh0u2"
      }
    },
    {
      "cell_type": "markdown",
      "source": [
        "# **What are automated tests?¶**\n",
        "\n",
        "Tests are routines that check the operation of your code.\n",
        "\n",
        "Testing operates at different levels. Some tests might apply to a tiny detail (does a particular model method return values as expected?) while others examine the overall operation of the software (does a sequence of user inputs on the site produce the desired result?). That’s no different from the kind of testing you did earlier in Tutorial 2, using the shell to examine the behavior of a method, or running the application and entering data to check how it behaves.\n",
        "\n",
        "What’s different in automated tests is that the testing work is done for you by the system. You create a set of tests once, and then as you make changes to your app, you can check that your code still works as you originally intended, without having to perform time consuming manual testing."
      ],
      "metadata": {
        "id": "3korkSaUh46o"
      }
    },
    {
      "cell_type": "markdown",
      "source": [
        "# **Why you need to create tests¶**\n",
        "\n",
        "So why create tests, and why now?\n",
        "\n",
        "You may feel that you have quite enough on your plate just learning Python/Django, and having yet another thing to learn and do may seem overwhelming and perhaps unnecessary. After all, our polls application is working quite happily now; going through the trouble of creating automated tests is not going to make it work any better. If creating the polls application is the last bit of Django programming you will ever do, then true, you don’t need to know how to create automated tests. But, if that’s not the case, now is an excellent time to learn.\n",
        "\n",
        "Tests will save you time¶\n",
        "Up to a certain point, ‘checking that it seems to work’ will be a satisfactory test. In a more sophisticated application, you might have dozens of complex interactions between components.\n",
        "\n",
        "A change in any of those components could have unexpected consequences on the application’s behavior. Checking that it still ‘seems to work’ could mean running through your code’s functionality with twenty different variations of your test data to make sure you haven’t broken something - not a good use of your time.\n",
        "\n",
        "That’s especially true when automated tests could do this for you in seconds. If something’s gone wrong, tests will also assist in identifying the code that’s causing the unexpected behavior.\n",
        "\n",
        "Sometimes it may seem a chore to tear yourself away from your productive, creative programming work to face the unglamorous and unexciting business of writing tests, particularly when you know your code is working properly.\n",
        "\n",
        "However, the task of writing tests is a lot more fulfilling than spending hours testing your application manually or trying to identify the cause of a newly-introduced problem."
      ],
      "metadata": {
        "id": "QuQqVETRiB_F"
      }
    },
    {
      "cell_type": "markdown",
      "source": [
        "# **Tests don’t just identify problems, they prevent them¶**\n",
        "\n",
        "It’s a mistake to think of tests merely as a negative aspect of development.\n",
        "\n",
        "Without tests, the purpose or intended behavior of an application might be rather opaque. Even when it’s your own code, you will sometimes find yourself poking around in it trying to find out what exactly it’s doing.\n",
        "\n",
        "Tests change that; they light up your code from the inside, and when something goes wrong, they focus light on the part that has gone wrong - even if you hadn’t even realized it had gone wrong."
      ],
      "metadata": {
        "id": "8gqsrbvhiLO4"
      }
    },
    {
      "cell_type": "markdown",
      "source": [
        "# **Tests make your code more attractive¶**\n",
        "You might have created a brilliant piece of software, but you will find that many other developers will refuse to look at it because it lacks tests; without tests, they won’t trust it. Jacob Kaplan-Moss, one of Django’s original developers, says “Code without tests is broken by design.”\n",
        "\n",
        "That other developers want to see tests in your software before they take it seriously is yet another reason for you to start writing tests."
      ],
      "metadata": {
        "id": "_AZQc5jRiR9B"
      }
    },
    {
      "cell_type": "markdown",
      "source": [
        "# **Tests help teams work together¶**\n",
        "\n",
        "The previous points are written from the point of view of a single developer maintaining an application. Complex applications will be maintained by teams. Tests guarantee that colleagues don’t inadvertently break your code (and that you don’t break theirs without knowing). If you want to make a living as a Django programmer, you must be good at writing tests!"
      ],
      "metadata": {
        "id": "2kAG4AGIiXy9"
      }
    },
    {
      "cell_type": "markdown",
      "source": [
        "# **Basic testing strategies¶**\n",
        "There are many ways to approach writing tests.\n",
        "\n",
        "Some programmers follow a discipline called “test-driven development”; they actually write their tests before they write their code. This might seem counter-intuitive, but in fact it’s similar to what most people will often do anyway: they describe a problem, then create some code to solve it. Test-driven development formalizes the problem in a Python test case.\n",
        "\n",
        "More often, a newcomer to testing will create some code and later decide that it should have some tests. Perhaps it would have been better to write some tests earlier, but it’s never too late to get started.\n",
        "\n",
        "Sometimes it’s difficult to figure out where to get started with writing tests. If you have written several thousand lines of Python, choosing something to test might not be easy. In such a case, it’s fruitful to write your first test the next time you make a change, either when you add a new feature or fix a bug.\n",
        "\n",
        "So let’s do that right away."
      ],
      "metadata": {
        "id": "cV3IkOo2id4i"
      }
    },
    {
      "cell_type": "markdown",
      "source": [
        "# **Writing our first test¶**\n",
        "\n",
        "We identify a bug¶\n",
        "Fortunately, there’s a little bug in the polls application for us to fix right away: the Question.was_published_recently() method returns True if the Question was published within the last day (which is correct) but also if the Question’s pub_date field is in the future (which certainly isn’t).\n",
        "\n",
        "Confirm the bug by using the shell to check the method on a question whose date lies in the future:"
      ],
      "metadata": {
        "id": "dFVGa-4jin2i"
      }
    },
    {
      "cell_type": "code",
      "source": [
        "...\\> py manage.py shell"
      ],
      "metadata": {
        "id": "QdRaYp9KitNQ"
      },
      "execution_count": null,
      "outputs": []
    },
    {
      "cell_type": "code",
      "source": [
        ">>> import datetime\n",
        ">>> from django.utils import timezone\n",
        ">>> from polls.models import Question\n",
        ">>> # create a Question instance with pub_date 30 days in the future\n",
        ">>> future_question = Question(pub_date=timezone.now() + datetime.timedelta(days=30))\n",
        ">>> # was it published recently?\n",
        ">>> future_question.was_published_recently()\n",
        "True"
      ],
      "metadata": {
        "id": "BdAOxVXJi4Og"
      },
      "execution_count": null,
      "outputs": []
    },
    {
      "cell_type": "markdown",
      "source": [
        "Since things in the future are not ‘recent’, this is clearly wrong."
      ],
      "metadata": {
        "id": "1YGs6YFkjCKG"
      }
    },
    {
      "cell_type": "markdown",
      "source": [
        "Create a test to expose the bug¶\n",
        "What we’ve just done in the shell to test for the problem is exactly what we can do in an automated test, so let’s turn that into an automated test.\n",
        "\n",
        "A conventional place for an application’s tests is in the application’s tests.py file; the testing system will automatically find tests in any file whose name begins with test.\n",
        "\n",
        "Put the following in the tests.py file in the polls application:"
      ],
      "metadata": {
        "id": "-KG-W8YkjG8H"
      }
    },
    {
      "cell_type": "code",
      "source": [
        "import datetime\n",
        "\n",
        "from django.test import TestCase\n",
        "from django.utils import timezone\n",
        "\n",
        "from .models import Question\n",
        "\n",
        "\n",
        "class QuestionModelTests(TestCase):\n",
        "    def test_was_published_recently_with_future_question(self):\n",
        "        \"\"\"\n",
        "        was_published_recently() returns False for questions whose pub_date\n",
        "        is in the future.\n",
        "        \"\"\"\n",
        "        time = timezone.now() + datetime.timedelta(days=30)\n",
        "        future_question = Question(pub_date=time)\n",
        "        self.assertIs(future_question.was_published_recently(), False)"
      ],
      "metadata": {
        "id": "ZnFybVmNjL1Z"
      },
      "execution_count": null,
      "outputs": []
    },
    {
      "cell_type": "markdown",
      "source": [
        "Here we have created a django.test.TestCase subclass with a method that creates a Question instance with a pub_date in the future. We then check the output of was_published_recently() - which ought to be False."
      ],
      "metadata": {
        "id": "PT0hcGjvjRpO"
      }
    },
    {
      "cell_type": "markdown",
      "source": [
        "# **Running tests¶**\n",
        "\n",
        "In the terminal, we can run our test:"
      ],
      "metadata": {
        "id": "QR5FB8CmjVmm"
      }
    },
    {
      "cell_type": "code",
      "source": [
        "...\\> py manage.py test polls"
      ],
      "metadata": {
        "id": "C-8G81uHjbEL"
      },
      "execution_count": null,
      "outputs": []
    },
    {
      "cell_type": "markdown",
      "source": [
        "and you’ll see something like:"
      ],
      "metadata": {
        "id": "O67bWWk4jgYv"
      }
    },
    {
      "cell_type": "code",
      "source": [
        "Creating test database for alias 'default'...\n",
        "System check identified no issues (0 silenced).\n",
        "F\n",
        "======================================================================\n",
        "FAIL: test_was_published_recently_with_future_question (polls.tests.QuestionModelTests)\n",
        "----------------------------------------------------------------------\n",
        "Traceback (most recent call last):\n",
        "  File \"/path/to/mysite/polls/tests.py\", line 16, in test_was_published_recently_with_future_question\n",
        "    self.assertIs(future_question.was_published_recently(), False)\n",
        "AssertionError: True is not False\n",
        "\n",
        "----------------------------------------------------------------------\n",
        "Ran 1 test in 0.001s\n",
        "\n",
        "FAILED (failures=1)\n",
        "Destroying test database for alias 'default'..."
      ],
      "metadata": {
        "id": "TJVjfIN7jlhJ"
      },
      "execution_count": null,
      "outputs": []
    },
    {
      "cell_type": "markdown",
      "source": [
        "Different error?\n",
        "\n",
        "If instead you’re getting a NameError here, you may have missed a step in Part 2 where we added imports of datetime and timezone to polls/models.py. Copy the imports from that section, and try running your tests again."
      ],
      "metadata": {
        "id": "nd9qcazujr_j"
      }
    },
    {
      "cell_type": "markdown",
      "source": [
        "What happened is this:\n",
        "\n",
        "manage.py test polls looked for tests in the polls application\n",
        "it found a subclass of the django.test.TestCase class\n",
        "it created a special database for the purpose of testing\n",
        "it looked for test methods - ones whose names begin with test\n",
        "in test_was_published_recently_with_future_question it created a Question instance whose pub_date field is 30 days in the future\n",
        "… and using the assertIs() method, it discovered that its was_published_recently() returns True, though we wanted it to return False\n",
        "The test informs us which test failed and even the line on which the failure occurred."
      ],
      "metadata": {
        "id": "bFPQ_EKqjyeB"
      }
    },
    {
      "cell_type": "markdown",
      "source": [
        "# **Fixing the bug¶**\n",
        "\n",
        "We already know what the problem is: Question.was_published_recently() should return False if its pub_date is in the future. Amend the method in models.py, so that it will only return True if the date is also in the past:"
      ],
      "metadata": {
        "id": "d79L44Qvj4Vb"
      }
    },
    {
      "cell_type": "code",
      "source": [
        "#polls/models.py\n",
        "\n",
        "def was_published_recently(self):\n",
        "    now = timezone.now()\n",
        "    return now - datetime.timedelta(days=1) <= self.pub_date <= now"
      ],
      "metadata": {
        "id": "msm2h1kKj--E"
      },
      "execution_count": null,
      "outputs": []
    },
    {
      "cell_type": "markdown",
      "source": [
        "and run the test again:"
      ],
      "metadata": {
        "id": "mYPqg6NjkFwm"
      }
    },
    {
      "cell_type": "code",
      "source": [
        "Creating test database for alias 'default'...\n",
        "System check identified no issues (0 silenced).\n",
        ".\n",
        "----------------------------------------------------------------------\n",
        "Ran 1 test in 0.001s\n",
        "\n",
        "OK\n",
        "Destroying test database for alias 'default'..."
      ],
      "metadata": {
        "id": "hYPLEFI-kI9k"
      },
      "execution_count": null,
      "outputs": []
    },
    {
      "cell_type": "markdown",
      "source": [
        "After identifying a bug, we wrote a test that exposes it and corrected the bug in the code so our test passes.\n",
        "\n",
        "Many other things might go wrong with our application in the future, but we can be sure that we won’t inadvertently reintroduce this bug, because running the test will warn us immediately. We can consider this little portion of the application pinned down safely forever."
      ],
      "metadata": {
        "id": "iSD95KadkPgp"
      }
    },
    {
      "cell_type": "markdown",
      "source": [
        "# **More comprehensive tests¶**\n",
        "\n",
        "While we’re here, we can further pin down the was_published_recently() method; in fact, it would be positively embarrassing if in fixing one bug we had introduced another.\n",
        "\n",
        "Add two more test methods to the same class, to test the behavior of the method more comprehensively:"
      ],
      "metadata": {
        "id": "PEFBInT-kUBw"
      }
    },
    {
      "cell_type": "code",
      "source": [
        "#polls/tests.py\n",
        "\n",
        "def test_was_published_recently_with_old_question(self):\n",
        "    \"\"\"\n",
        "    was_published_recently() returns False for questions whose pub_date\n",
        "    is older than 1 day.\n",
        "    \"\"\"\n",
        "    time = timezone.now() - datetime.timedelta(days=1, seconds=1)\n",
        "    old_question = Question(pub_date=time)\n",
        "    self.assertIs(old_question.was_published_recently(), False)\n",
        "\n",
        "\n",
        "def test_was_published_recently_with_recent_question(self):\n",
        "    \"\"\"\n",
        "    was_published_recently() returns True for questions whose pub_date\n",
        "    is within the last day.\n",
        "    \"\"\"\n",
        "    time = timezone.now() - datetime.timedelta(hours=23, minutes=59, seconds=59)\n",
        "    recent_question = Question(pub_date=time)\n",
        "    self.assertIs(recent_question.was_published_recently(), True)"
      ],
      "metadata": {
        "id": "ksF13qMqkf3G"
      },
      "execution_count": null,
      "outputs": []
    },
    {
      "cell_type": "markdown",
      "source": [
        "And now we have three tests that confirm that Question.was_published_recently() returns sensible values for past, recent, and future questions.\n",
        "\n",
        "Again, polls is a minimal application, but however complex it grows in the future and whatever other code it interacts with, we now have some guarantee that the method we have written tests for will behave in expected ways."
      ],
      "metadata": {
        "id": "gkhboGWakomP"
      }
    },
    {
      "cell_type": "markdown",
      "source": [
        "# **Test a view¶**\n",
        "The polls application is fairly undiscriminating: it will publish any question, including ones whose pub_date field lies in the future. We should improve this. Setting a pub_date in the future should mean that the Question is published at that moment, but invisible until then.\n",
        "\n",
        "# **A test for a view¶**\n",
        "When we fixed the bug above, we wrote the test first and then the code to fix it. In fact that was an example of test-driven development, but it doesn’t really matter in which order we do the work.\n",
        "\n",
        "In our first test, we focused closely on the internal behavior of the code. For this test, we want to check its behavior as it would be experienced by a user through a web browser.\n",
        "\n",
        "Before we try to fix anything, let’s have a look at the tools at our disposal."
      ],
      "metadata": {
        "id": "18x_sjFPktHn"
      }
    },
    {
      "cell_type": "markdown",
      "source": [
        "# **The Django test client¶**\n",
        "Django provides a test Client to simulate a user interacting with the code at the view level. We can use it in tests.py or even in the shell.\n",
        "\n",
        "We will start again with the shell, where we need to do a couple of things that won’t be necessary in tests.py. The first is to set up the test environment in the shell:"
      ],
      "metadata": {
        "id": "NXizieVWk2Fj"
      }
    },
    {
      "cell_type": "code",
      "source": [
        "...\\> py manage.py shell"
      ],
      "metadata": {
        "id": "SwjrBnXtk_MK"
      },
      "execution_count": null,
      "outputs": []
    },
    {
      "cell_type": "code",
      "source": [
        ">>> from django.test.utils import setup_test_environment\n",
        ">>> setup_test_environment()"
      ],
      "metadata": {
        "id": "Qk42ua0ilGup"
      },
      "execution_count": null,
      "outputs": []
    },
    {
      "cell_type": "markdown",
      "source": [
        "setup_test_environment() installs a template renderer which will allow us to examine some additional attributes on responses such as response.context that otherwise wouldn’t be available. Note that this method does not set up a test database, so the following will be run against the existing database and the output may differ slightly depending on what questions you already created. You might get unexpected results if your TIME_ZONE in settings.py isn’t correct. If you don’t remember setting it earlier, check it before continuing.\n",
        "\n",
        "Next we need to import the test client class (later in tests.py we will use the django.test.TestCase class, which comes with its own client, so this won’t be required):"
      ],
      "metadata": {
        "id": "ecSJ4yyIlOMU"
      }
    },
    {
      "cell_type": "code",
      "source": [
        ">>> from django.test import Client\n",
        ">>> # create an instance of the client for our use\n",
        ">>> client = Client()"
      ],
      "metadata": {
        "id": "QNJc9ZYolTEG"
      },
      "execution_count": null,
      "outputs": []
    },
    {
      "cell_type": "markdown",
      "source": [
        "With that ready, we can ask the client to do some work for us:"
      ],
      "metadata": {
        "id": "FFMmR158lYOJ"
      }
    },
    {
      "cell_type": "code",
      "source": [
        ">>> # get a response from '/'\n",
        ">>> response = client.get(\"/\")\n",
        "Not Found: /\n",
        ">>> # we should expect a 404 from that address; if you instead see an\n",
        ">>> # \"Invalid HTTP_HOST header\" error and a 400 response, you probably\n",
        ">>> # omitted the setup_test_environment() call described earlier.\n",
        ">>> response.status_code\n",
        "404\n",
        ">>> # on the other hand we should expect to find something at '/polls/'\n",
        ">>> # we'll use 'reverse()' rather than a hardcoded URL\n",
        ">>> from django.urls import reverse\n",
        ">>> response = client.get(reverse(\"polls:index\"))\n",
        ">>> response.status_code\n",
        "200\n",
        ">>> response.content\n",
        "b'\\n    <ul>\\n    \\n        <li><a href=\"/polls/1/\">What&#x27;s up?</a></li>\\n    \\n    </ul>\\n\\n'\n",
        ">>> response.context[\"latest_question_list\"]\n",
        "<QuerySet [<Question: What's up?>]>"
      ],
      "metadata": {
        "id": "ncqadnT4ldYH"
      },
      "execution_count": null,
      "outputs": []
    },
    {
      "cell_type": "markdown",
      "source": [
        "# **Improving our view¶**\n",
        "The list of polls shows polls that aren’t published yet (i.e. those that have a pub_date in the future). Let’s fix that.\n",
        "\n",
        "In Tutorial 4 we introduced a class-based view, based on ListView:"
      ],
      "metadata": {
        "id": "M9WU5k7lljGJ"
      }
    },
    {
      "cell_type": "code",
      "source": [
        "#polls/views.py\n",
        "\n",
        "class IndexView(generic.ListView):\n",
        "    template_name = \"polls/index.html\"\n",
        "    context_object_name = \"latest_question_list\"\n",
        "\n",
        "    def get_queryset(self):\n",
        "        \"\"\"Return the last five published questions.\"\"\"\n",
        "        return Question.objects.order_by(\"-pub_date\")[:5]"
      ],
      "metadata": {
        "id": "CIap9cB0lnvQ"
      },
      "execution_count": null,
      "outputs": []
    },
    {
      "cell_type": "markdown",
      "source": [
        "We need to amend the get_queryset() method and change it so that it also checks the date by comparing it with timezone.now(). First we need to add an import:"
      ],
      "metadata": {
        "id": "gFkt_d0XlysL"
      }
    },
    {
      "cell_type": "code",
      "source": [
        "#polls/views.py\n",
        "\n",
        "from django.utils import timezone"
      ],
      "metadata": {
        "id": "u6sBXbVAl3Z1"
      },
      "execution_count": null,
      "outputs": []
    },
    {
      "cell_type": "markdown",
      "source": [
        "and then we must amend the get_queryset method like so:"
      ],
      "metadata": {
        "id": "SbUdnEKCl9Mo"
      }
    },
    {
      "cell_type": "code",
      "source": [
        "#polls/views.py\n",
        "\n",
        "def get_queryset(self):\n",
        "    \"\"\"\n",
        "    Return the last five published questions (not including those set to be\n",
        "    published in the future).\n",
        "    \"\"\"\n",
        "    return Question.objects.filter(pub_date__lte=timezone.now()).order_by(\"-pub_date\")[\n",
        "        :5\n",
        "    ]"
      ],
      "metadata": {
        "id": "h16mxS-1mAbG"
      },
      "execution_count": null,
      "outputs": []
    },
    {
      "cell_type": "markdown",
      "source": [
        "Question.objects.filter(pub_date__lte=timezone.now()) returns a queryset containing Questions whose pub_date is less than or equal to - that is, earlier than or equal to - timezone.now."
      ],
      "metadata": {
        "id": "rdTOJymnmH3D"
      }
    },
    {
      "cell_type": "markdown",
      "source": [
        "# **Testing our new view¶**\n",
        "Now you can satisfy yourself that this behaves as expected by firing up runserver, loading the site in your browser, creating Questions with dates in the past and future, and checking that only those that have been published are listed. You don’t want to have to do that every single time you make any change that might affect this - so let’s also create a test, based on our shell session above.\n",
        "\n",
        "Add the following to polls/tests.py:"
      ],
      "metadata": {
        "id": "wLBFv3TSmMnR"
      }
    },
    {
      "cell_type": "code",
      "source": [
        "#polls/tests.p\n",
        "\n",
        "from django.urls import reverse"
      ],
      "metadata": {
        "id": "buqFiap5mRyf"
      },
      "execution_count": null,
      "outputs": []
    },
    {
      "cell_type": "markdown",
      "source": [
        "and we’ll create a shortcut function to create questions as well as a new test class:"
      ],
      "metadata": {
        "id": "cbHtzEjumYUi"
      }
    },
    {
      "cell_type": "code",
      "source": [
        "#polls/tests.py\n",
        "\n",
        "def create_question(question_text, days):\n",
        "    \"\"\"\n",
        "    Create a question with the given `question_text` and published the\n",
        "    given number of `days` offset to now (negative for questions published\n",
        "    in the past, positive for questions that have yet to be published).\n",
        "    \"\"\"\n",
        "    time = timezone.now() + datetime.timedelta(days=days)\n",
        "    return Question.objects.create(question_text=question_text, pub_date=time)\n",
        "\n",
        "\n",
        "class QuestionIndexViewTests(TestCase):\n",
        "    def test_no_questions(self):\n",
        "        \"\"\"\n",
        "        If no questions exist, an appropriate message is displayed.\n",
        "        \"\"\"\n",
        "        response = self.client.get(reverse(\"polls:index\"))\n",
        "        self.assertEqual(response.status_code, 200)\n",
        "        self.assertContains(response, \"No polls are available.\")\n",
        "        self.assertQuerySetEqual(response.context[\"latest_question_list\"], [])\n",
        "\n",
        "    def test_past_question(self):\n",
        "        \"\"\"\n",
        "        Questions with a pub_date in the past are displayed on the\n",
        "        index page.\n",
        "        \"\"\"\n",
        "        question = create_question(question_text=\"Past question.\", days=-30)\n",
        "        response = self.client.get(reverse(\"polls:index\"))\n",
        "        self.assertQuerySetEqual(\n",
        "            response.context[\"latest_question_list\"],\n",
        "            [question],\n",
        "        )\n",
        "\n",
        "    def test_future_question(self):\n",
        "        \"\"\"\n",
        "        Questions with a pub_date in the future aren't displayed on\n",
        "        the index page.\n",
        "        \"\"\"\n",
        "        create_question(question_text=\"Future question.\", days=30)\n",
        "        response = self.client.get(reverse(\"polls:index\"))\n",
        "        self.assertContains(response, \"No polls are available.\")\n",
        "        self.assertQuerySetEqual(response.context[\"latest_question_list\"], [])\n",
        "\n",
        "    def test_future_question_and_past_question(self):\n",
        "        \"\"\"\n",
        "        Even if both past and future questions exist, only past questions\n",
        "        are displayed.\n",
        "        \"\"\"\n",
        "        question = create_question(question_text=\"Past question.\", days=-30)\n",
        "        create_question(question_text=\"Future question.\", days=30)\n",
        "        response = self.client.get(reverse(\"polls:index\"))\n",
        "        self.assertQuerySetEqual(\n",
        "            response.context[\"latest_question_list\"],\n",
        "            [question],\n",
        "        )\n",
        "\n",
        "    def test_two_past_questions(self):\n",
        "        \"\"\"\n",
        "        The questions index page may display multiple questions.\n",
        "        \"\"\"\n",
        "        question1 = create_question(question_text=\"Past question 1.\", days=-30)\n",
        "        question2 = create_question(question_text=\"Past question 2.\", days=-5)\n",
        "        response = self.client.get(reverse(\"polls:index\"))\n",
        "        self.assertQuerySetEqual(\n",
        "            response.context[\"latest_question_list\"],\n",
        "            [question2, question1],\n",
        "        )"
      ],
      "metadata": {
        "id": "7Ko-qMG9mbQ6"
      },
      "execution_count": null,
      "outputs": []
    },
    {
      "cell_type": "markdown",
      "source": [
        "Let’s look at some of these more closely.\n",
        "\n",
        "First is a question shortcut function, create_question, to take some repetition out of the process of creating questions.\n",
        "\n",
        "test_no_questions doesn’t create any questions, but checks the message: “No polls are available.” and verifies the latest_question_list is empty. Note that the django.test.TestCase class provides some additional assertion methods. In these examples, we use assertContains() and assertQuerySetEqual().\n",
        "\n",
        "In test_past_question, we create a question and verify that it appears in the list.\n",
        "\n",
        "In test_future_question, we create a question with a pub_date in the future. The database is reset for each test method, so the first question is no longer there, and so again the index shouldn’t have any questions in it.\n",
        "\n",
        "And so on. In effect, we are using the tests to tell a story of admin input and user experience on the site, and checking that at every state and for every new change in the state of the system, the expected results are published."
      ],
      "metadata": {
        "id": "L4ZAEbjCmkyj"
      }
    },
    {
      "cell_type": "markdown",
      "source": [
        "# **Testing the DetailView¶**\n",
        "What we have works well; however, even though future questions don’t appear in the index, users can still reach them if they know or guess the right URL. So we need to add a similar constraint to DetailView:"
      ],
      "metadata": {
        "id": "-C4LS5QwmpRP"
      }
    },
    {
      "cell_type": "code",
      "source": [
        "#polls/views.py\n",
        "\n",
        "class DetailView(generic.DetailView):\n",
        "    ...\n",
        "\n",
        "    def get_queryset(self):\n",
        "        \"\"\"\n",
        "        Excludes any questions that aren't published yet.\n",
        "        \"\"\"\n",
        "        return Question.objects.filter(pub_date__lte=timezone.now())"
      ],
      "metadata": {
        "id": "Bhizp5NWmtf-"
      },
      "execution_count": null,
      "outputs": []
    },
    {
      "cell_type": "markdown",
      "source": [
        "We should then add some tests, to check that a Question whose pub_date is in the past can be displayed, and that one with a pub_date in the future is not:"
      ],
      "metadata": {
        "id": "e2-Ix6o2m0Gk"
      }
    },
    {
      "cell_type": "code",
      "source": [
        "#polls/tests.py\n",
        "\n",
        "class QuestionDetailViewTests(TestCase):\n",
        "    def test_future_question(self):\n",
        "        \"\"\"\n",
        "        The detail view of a question with a pub_date in the future\n",
        "        returns a 404 not found.\n",
        "        \"\"\"\n",
        "        future_question = create_question(question_text=\"Future question.\", days=5)\n",
        "        url = reverse(\"polls:detail\", args=(future_question.id,))\n",
        "        response = self.client.get(url)\n",
        "        self.assertEqual(response.status_code, 404)\n",
        "\n",
        "    def test_past_question(self):\n",
        "        \"\"\"\n",
        "        The detail view of a question with a pub_date in the past\n",
        "        displays the question's text.\n",
        "        \"\"\"\n",
        "        past_question = create_question(question_text=\"Past Question.\", days=-5)\n",
        "        url = reverse(\"polls:detail\", args=(past_question.id,))\n",
        "        response = self.client.get(url)\n",
        "        self.assertContains(response, past_question.question_text)"
      ],
      "metadata": {
        "id": "w9RwJ0YUm388"
      },
      "execution_count": null,
      "outputs": []
    },
    {
      "cell_type": "markdown",
      "source": [
        "Ideas for more tests¶\n",
        "We ought to add a similar get_queryset method to ResultsView and create a new test class for that view. It’ll be very similar to what we have just created; in fact there will be a lot of repetition.\n",
        "\n",
        "We could also improve our application in other ways, adding tests along the way. For example, it’s silly that Questions can be published on the site that have no Choices. So, our views could check for this, and exclude such Questions. Our tests would create a Question without Choices and then test that it’s not published, as well as create a similar Question with Choices, and test that it is published.\n",
        "\n",
        "Perhaps logged-in admin users should be allowed to see unpublished Questions, but not ordinary visitors. Again: whatever needs to be added to the software to accomplish this should be accompanied by a test, whether you write the test first and then make the code pass the test, or work out the logic in your code first and then write a test to prove it.\n",
        "\n",
        "At a certain point you are bound to look at your tests and wonder whether your code is suffering from test bloat, which brings us to:"
      ],
      "metadata": {
        "id": "PQmh2qujnCFB"
      }
    },
    {
      "cell_type": "markdown",
      "source": [
        "When testing, more is better¶\n",
        "It might seem that our tests are growing out of control. At this rate there will soon be more code in our tests than in our application, and the repetition is unaesthetic, compared to the elegant conciseness of the rest of our code.\n",
        "\n",
        "It doesn’t matter. Let them grow. For the most part, you can write a test once and then forget about it. It will continue performing its useful function as you continue to develop your program.\n",
        "\n",
        "Sometimes tests will need to be updated. Suppose that we amend our views so that only Questions with Choices are published. In that case, many of our existing tests will fail - telling us exactly which tests need to be amended to bring them up to date, so to that extent tests help look after themselves.\n",
        "\n",
        "At worst, as you continue developing, you might find that you have some tests that are now redundant. Even that’s not a problem; in testing redundancy is a good thing.\n",
        "\n",
        "As long as your tests are sensibly arranged, they won’t become unmanageable. Good rules-of-thumb include having:\n",
        "\n",
        "a separate TestClass for each model or view\n",
        "a separate test method for each set of conditions you want to test\n",
        "test method names that describe their function"
      ],
      "metadata": {
        "id": "nqSEJ51LnHxP"
      }
    },
    {
      "cell_type": "markdown",
      "source": [
        "Further testing¶\n",
        "This tutorial only introduces some of the basics of testing. There’s a great deal more you can do, and a number of very useful tools at your disposal to achieve some very clever things.\n",
        "\n",
        "For example, while our tests here have covered some of the internal logic of a model and the way our views publish information, you can use an “in-browser” framework such as Selenium to test the way your HTML actually renders in a browser. These tools allow you to check not just the behavior of your Django code, but also, for example, of your JavaScript. It’s quite something to see the tests launch a browser, and start interacting with your site, as if a human being were driving it! Django includes LiveServerTestCase to facilitate integration with tools like Selenium.\n",
        "\n",
        "If you have a complex application, you may want to run tests automatically with every commit for the purposes of continuous integration, so that quality control is itself - at least partially - automated.\n",
        "\n",
        "A good way to spot untested parts of your application is to check code coverage. This also helps identify fragile or even dead code. If you can’t test a piece of code, it usually means that code should be refactored or removed. Coverage will help to identify dead code. See Integration with coverage.py for details.\n",
        "\n",
        "Testing in Django has comprehensive information about testing."
      ],
      "metadata": {
        "id": "KRlIPYElnPVP"
      }
    }
  ]
}