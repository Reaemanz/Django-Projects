{
  "nbformat": 4,
  "nbformat_minor": 0,
  "metadata": {
    "colab": {
      "provenance": []
    },
    "kernelspec": {
      "name": "python3",
      "display_name": "Python 3"
    },
    "language_info": {
      "name": "python"
    }
  },
  "cells": [
    {
      "cell_type": "markdown",
      "source": [
        "# **Polls App: Part 2**"
      ],
      "metadata": {
        "id": "bpojLlMEHm2d"
      }
    },
    {
      "cell_type": "markdown",
      "source": [
        "This part begins where part 1 left off. We’ll set up the database, create my first model, and get a quick introduction to Django’s automatically-generated admin site."
      ],
      "metadata": {
        "id": "IR6gomnBHxVz"
      }
    },
    {
      "cell_type": "markdown",
      "source": [
        "# **Database setup**"
      ],
      "metadata": {
        "id": "Wry-I4dlH9pV"
      }
    },
    {
      "cell_type": "markdown",
      "source": [
        "Now, open up mysite/settings.py. It’s a normal Python module with module-level variables representing Django settings.\n",
        "\n",
        "By default, the configuration uses SQLite. If you’re new to databases, or you’re just interested in trying Django, this is the easiest choice. SQLite is included in Python, so you won’t need to install anything else to support your database. When starting your first real project, however, you may want to use a more scalable database like PostgreSQL, to avoid database-switching headaches down the road.\n",
        "\n",
        "If you wish to use another database, install the appropriate database bindings and change the following keys in the DATABASES 'default' item to match your database connection settings:\n",
        "\n",
        "ENGINE – Either 'django.db.backends.sqlite3', 'django.db.backends.postgresql', 'django.db.backends.mysql', or 'django.db.backends.oracle'. Other backends are also available.\n",
        "NAME – The name of your database. If you’re using SQLite, the database will be a file on your computer; in that case, NAME should be the full absolute path, including filename, of that file. The default value, BASE_DIR / 'db.sqlite3', will store the file in your project directory.\n",
        "If you are not using SQLite as your database, additional settings such as USER, PASSWORD, and HOST must be added. For more details, see the reference documentation for DATABASES."
      ],
      "metadata": {
        "id": "0m8TWBO-IXYA"
      }
    },
    {
      "cell_type": "markdown",
      "source": [
        "For databases other than SQLite\n",
        "\n",
        "If you’re using a database besides SQLite, make sure you’ve created a database by this point. Do that with “CREATE DATABASE database_name;” within your database’s interactive prompt.\n",
        "\n",
        "Also make sure that the database user provided in mysite/settings.py has “create database” privileges. This allows automatic creation of a test database which will be needed in a later tutorial.\n",
        "\n",
        "If you’re using SQLite, you don’t need to create anything beforehand - the database file will be created automatically when it is needed."
      ],
      "metadata": {
        "id": "PcPUxBMjVAi8"
      }
    },
    {
      "cell_type": "markdown",
      "source": [
        "While you’re editing mysite/settings.py, set TIME_ZONE to your time zone.\n",
        "\n",
        "Also, note the INSTALLED_APPS setting at the top of the file. That holds the names of all Django applications that are activated in this Django instance. Apps can be used in multiple projects, and you can package and distribute them for use by others in their projects.\n",
        "\n",
        "By default, INSTALLED_APPS contains the following apps, all of which come with Django:\n",
        "\n",
        "django.contrib.admin – The admin site. You’ll use it shortly.\n",
        "\n",
        "django.contrib.auth – An authentication system.\n",
        "\n",
        "django.contrib.contenttypes – A framework for content types.\n",
        "\n",
        "django.contrib.sessions – A session framework.\n",
        "\n",
        "django.contrib.messages – A messaging framework.\n",
        "\n",
        "django.contrib.staticfiles – A framework for managing static files.\n",
        "\n",
        "These applications are included by default as a convenience for the common case.\n",
        "\n",
        "Some of these applications make use of at least one database table, though, so we need to create the tables in the database before we can use them. To do that, run the following command:"
      ],
      "metadata": {
        "id": "6PHqpQSfVPPe"
      }
    },
    {
      "cell_type": "code",
      "source": [
        "...\\> py manage.py migrate"
      ],
      "metadata": {
        "id": "71w8ltdQVmys"
      },
      "execution_count": null,
      "outputs": []
    },
    {
      "cell_type": "markdown",
      "source": [
        "The migrate command looks at the INSTALLED_APPS setting and creates any necessary database tables according to the database settings in your mysite/settings.py file and the database migrations shipped with the app (we’ll cover those later). You’ll see a message for each migration it applies. If you’re interested, run the command-line client for your database and type \\dt (PostgreSQL), SHOW TABLES; (MariaDB, MySQL), .tables (SQLite), or SELECT TABLE_NAME FROM USER_TABLES; (Oracle) to display the tables Django created."
      ],
      "metadata": {
        "id": "a7uq-DSCVsac"
      }
    },
    {
      "cell_type": "markdown",
      "source": [
        "For the minimalists\n",
        "\n",
        "Like we said above, the default applications are included for the common case, but not everybody needs them. If you don’t need any or all of them, feel free to comment-out or delete the appropriate line(s) from INSTALLED_APPS before running migrate. The migrate command will only run migrations for apps in INSTALLED_APPS."
      ],
      "metadata": {
        "id": "mhh0MOH2VycL"
      }
    },
    {
      "cell_type": "markdown",
      "source": [
        "# **Creating Models**"
      ],
      "metadata": {
        "id": "q36OF79DV1nf"
      }
    },
    {
      "cell_type": "markdown",
      "source": [
        "Now we’ll define your models – essentially, your database layout, with additional metadata."
      ],
      "metadata": {
        "id": "hmyb7lCUV6Sv"
      }
    },
    {
      "cell_type": "markdown",
      "source": [
        "Philosophy\n",
        "\n",
        "A model is the single, definitive source of information about your data. It contains the essential fields and behaviors of the data you’re storing. Django follows the DRY Principle. The goal is to define your data model in one place and automatically derive things from it.\n",
        "\n",
        "This includes the migrations - unlike in Ruby On Rails, for example, migrations are entirely derived from your models file, and are essentially a history that Django can roll through to update your database schema to match your current models."
      ],
      "metadata": {
        "id": "QRbNeL_UWA97"
      }
    },
    {
      "cell_type": "markdown",
      "source": [
        "In our poll app, we’ll create two models: Question and Choice. A Question has a question and a publication date. A Choice has two fields: the text of the choice and a vote tally. Each Choice is associated with a Question.\n",
        "\n",
        "These concepts are represented by Python classes. Edit the polls/models.py file so it looks like this:"
      ],
      "metadata": {
        "id": "x6xC4vI7WFmm"
      }
    },
    {
      "cell_type": "code",
      "source": [
        "from django.db import models\n",
        "\n",
        "\n",
        "class Question(models.Model):\n",
        "    question_text = models.CharField(max_length=200)\n",
        "    pub_date = models.DateTimeField(\"date published\")\n",
        "\n",
        "\n",
        "class Choice(models.Model):\n",
        "    question = models.ForeignKey(Question, on_delete=models.CASCADE)\n",
        "    choice_text = models.CharField(max_length=200)\n",
        "    votes = models.IntegerField(default=0)"
      ],
      "metadata": {
        "id": "XNcCKff8WNWw"
      },
      "execution_count": null,
      "outputs": []
    },
    {
      "cell_type": "markdown",
      "source": [
        "Here, each model is represented by a class that subclasses django.db.models.Model. Each model has a number of class variables, each of which represents a database field in the model.\n",
        "\n",
        "Each field is represented by an instance of a Field class – e.g., CharField for character fields and DateTimeField for datetimes. This tells Django what type of data each field holds.\n",
        "\n",
        "The name of each Field instance (e.g. question_text or pub_date) is the field’s name, in machine-friendly format. You’ll use this value in your Python code, and your database will use it as the column name.\n",
        "\n",
        "You can use an optional first positional argument to a Field to designate a human-readable name. That’s used in a couple of introspective parts of Django, and it doubles as documentation. If this field isn’t provided, Django will use the machine-readable name. In this example, we’ve only defined a human-readable name for Question.pub_date. For all other fields in this model, the field’s machine-readable name will suffice as its human-readable name.\n",
        "\n",
        "Some Field classes have required arguments. CharField, for example, requires that you give it a max_length. That’s used not only in the database schema, but in validation, as we’ll soon see.\n",
        "\n",
        "A Field can also have various optional arguments; in this case, we’ve set the default value of votes to 0.\n",
        "\n",
        "Finally, note a relationship is defined, using ForeignKey. That tells Django each Choice is related to a single Question. Django supports all the common database relationships: many-to-one, many-to-many, and one-to-one."
      ],
      "metadata": {
        "id": "2IT5lBumWSaS"
      }
    },
    {
      "cell_type": "markdown",
      "source": [
        "# **Activating Models**"
      ],
      "metadata": {
        "id": "naLJOBxuWVwy"
      }
    },
    {
      "cell_type": "markdown",
      "source": [
        "That small bit of model code gives Django a lot of information. With it, Django is able to:\n",
        "\n",
        "Create a database schema (CREATE TABLE statements) for this app.\n",
        "\n",
        "Create a Python database-access API for accessing Question and Choice objects.\n",
        "\n",
        "But first we need to tell our project that the polls app is installed."
      ],
      "metadata": {
        "id": "ZHuNnPLCWdTb"
      }
    },
    {
      "cell_type": "markdown",
      "source": [
        "Philosophy\n",
        "\n",
        "Django apps are “pluggable”: You can use an app in multiple projects, and you can distribute apps, because they don’t have to be tied to a given Django installation."
      ],
      "metadata": {
        "id": "_WiqukM8Wmo8"
      }
    },
    {
      "cell_type": "markdown",
      "source": [
        "To include the app in our project, we need to add a reference to its configuration class in the INSTALLED_APPS setting. The PollsConfig class is in the polls/apps.py file, so its dotted path is 'polls.apps.PollsConfig'. Edit the mysite/settings.py file and add that dotted path to the INSTALLED_APPS setting. It’ll look like this:"
      ],
      "metadata": {
        "id": "G9f2tUonWv5Q"
      }
    },
    {
      "cell_type": "code",
      "source": [
        "INSTALLED_APPS = [\n",
        "    \"polls.apps.PollsConfig\",\n",
        "    \"django.contrib.admin\",\n",
        "    \"django.contrib.auth\",\n",
        "    \"django.contrib.contenttypes\",\n",
        "    \"django.contrib.sessions\",\n",
        "    \"django.contrib.messages\",\n",
        "    \"django.contrib.staticfiles\",\n",
        "]"
      ],
      "metadata": {
        "id": "-Me_NdHLW1Y0"
      },
      "execution_count": null,
      "outputs": []
    },
    {
      "cell_type": "markdown",
      "source": [
        "Now Django knows to include the polls app. Let’s run another command:"
      ],
      "metadata": {
        "id": "z1hC1200W5ov"
      }
    },
    {
      "cell_type": "code",
      "source": [
        "...\\> py manage.py makemigrations polls"
      ],
      "metadata": {
        "id": "3bC-dJ8cW9WP"
      },
      "execution_count": null,
      "outputs": []
    },
    {
      "cell_type": "markdown",
      "source": [
        "You should see something similar to the following:"
      ],
      "metadata": {
        "id": "nAVwCRgSXAna"
      }
    },
    {
      "cell_type": "code",
      "source": [
        "Migrations for 'polls':\n",
        "  polls/migrations/0001_initial.py\n",
        "    - Create model Question\n",
        "    - Create model Choice"
      ],
      "metadata": {
        "id": "yDXRgbngXKHe"
      },
      "execution_count": null,
      "outputs": []
    },
    {
      "cell_type": "markdown",
      "source": [
        "By running makemigrations, you’re telling Django that you’ve made some changes to your models (in this case, you’ve made new ones) and that you’d like the changes to be stored as a migration.\n",
        "\n",
        "Migrations are how Django stores changes to your models (and thus your database schema) - they’re files on disk. You can read the migration for your new model if you like; it’s the file polls/migrations/0001_initial.py. Don’t worry, you’re not expected to read them every time Django makes one, but they’re designed to be human-editable in case you want to manually tweak how Django changes things.\n",
        "\n",
        "There’s a command that will run the migrations for you and manage your database schema automatically - that’s called migrate, and we’ll come to it in a moment - but first, let’s see what SQL that migration would run. The sqlmigrate command takes migration names and returns their SQL:"
      ],
      "metadata": {
        "id": "EpUdvHnhXN7y"
      }
    },
    {
      "cell_type": "code",
      "source": [
        "...\\> py manage.py sqlmigrate polls 0001"
      ],
      "metadata": {
        "id": "BBZ157V2XRhT"
      },
      "execution_count": null,
      "outputs": []
    },
    {
      "cell_type": "markdown",
      "source": [
        "You should see something similar to the following (we’ve reformatted it for readability):"
      ],
      "metadata": {
        "id": "fVlETPY7XYce"
      }
    },
    {
      "cell_type": "code",
      "source": [
        "BEGIN;\n",
        "--\n",
        "-- Create model Question\n",
        "--\n",
        "CREATE TABLE \"polls_question\" (\n",
        "    \"id\" bigint NOT NULL PRIMARY KEY GENERATED BY DEFAULT AS IDENTITY,\n",
        "    \"question_text\" varchar(200) NOT NULL,\n",
        "    \"pub_date\" timestamp with time zone NOT NULL\n",
        ");\n",
        "--\n",
        "-- Create model Choice\n",
        "--\n",
        "CREATE TABLE \"polls_choice\" (\n",
        "    \"id\" bigint NOT NULL PRIMARY KEY GENERATED BY DEFAULT AS IDENTITY,\n",
        "    \"choice_text\" varchar(200) NOT NULL,\n",
        "    \"votes\" integer NOT NULL,\n",
        "    \"question_id\" bigint NOT NULL\n",
        ");\n",
        "ALTER TABLE \"polls_choice\"\n",
        "  ADD CONSTRAINT \"polls_choice_question_id_c5b4b260_fk_polls_question_id\"\n",
        "    FOREIGN KEY (\"question_id\")\n",
        "    REFERENCES \"polls_question\" (\"id\")\n",
        "    DEFERRABLE INITIALLY DEFERRED;\n",
        "CREATE INDEX \"polls_choice_question_id_c5b4b260\" ON \"polls_choice\" (\"question_id\");\n",
        "\n",
        "COMMIT;"
      ],
      "metadata": {
        "id": "S7A61Nx_XfvC"
      },
      "execution_count": null,
      "outputs": []
    },
    {
      "cell_type": "markdown",
      "source": [
        "Note the following:\n",
        "\n",
        "The exact output will vary depending on the database you are using. The example above is generated for PostgreSQL.\n",
        "\n",
        "Table names are automatically generated by combining the name of the app (polls) and the lowercase name of the model – question and choice. (You can override this behavior.)\n",
        "\n",
        "Primary keys (IDs) are added automatically. (You can override this, too.)\n",
        "By convention, Django appends \"_id\" to the foreign key field name. (Yes, you can override this, as well.)\n",
        "\n",
        "The foreign key relationship is made explicit by a FOREIGN KEY constraint. Don’t worry about the DEFERRABLE parts; it’s telling PostgreSQL to not enforce the foreign key until the end of the transaction.\n",
        "\n",
        "It’s tailored to the database you’re using, so database-specific field types such as auto_increment (MySQL), bigint PRIMARY KEY GENERATED BY DEFAULT AS IDENTITY (PostgreSQL), or integer primary key autoincrement (SQLite) are handled for you automatically. Same goes for the quoting of field names – e.g., using double quotes or single quotes.\n",
        "\n",
        "The sqlmigrate command doesn’t actually run the migration on your database - instead, it prints it to the screen so that you can see what SQL Django thinks is required. It’s useful for checking what Django is going to do or if you have database administrators who require SQL scripts for changes.\n",
        "\n",
        "If you’re interested, you can also run python manage.py check; this checks for any problems in your project without making migrations or touching the database.\n",
        "\n",
        "Now, run migrate again to create those model tables in your database:"
      ],
      "metadata": {
        "id": "lEG-zEqWXmFg"
      }
    },
    {
      "cell_type": "code",
      "source": [
        "...\\> py manage.py migrate\n",
        "Operations to perform:\n",
        "  Apply all migrations: admin, auth, contenttypes, polls, sessions\n",
        "Running migrations:\n",
        "  Rendering model states... DONE\n",
        "  Applying polls.0001_initial... OK"
      ],
      "metadata": {
        "id": "pJ6ioWdnXym2"
      },
      "execution_count": null,
      "outputs": []
    },
    {
      "cell_type": "markdown",
      "source": [
        "The migrate command takes all the migrations that haven’t been applied (Django tracks which ones are applied using a special table in your database called django_migrations) and runs them against your database - essentially, synchronizing the changes you made to your models with the schema in the database.\n",
        "\n",
        "Migrations are very powerful and let you change your models over time, as you develop your project, without the need to delete your database or tables and make new ones - it specializes in upgrading your database live, without losing data. We’ll cover them in more depth in a later part of the tutorial, but for now, remember the three-step guide to making model changes:\n",
        "\n",
        "Change your models (in models.py).\n",
        "Run python manage.py makemigrations to create migrations for those changes\n",
        "Run python manage.py migrate to apply those changes to the database.\n",
        "The reason that there are separate commands to make and apply migrations is because you’ll commit migrations to your version control system and ship them with your app; they not only make your development easier, they’re also usable by other developers and in production."
      ],
      "metadata": {
        "id": "ZshRkjjjX2yO"
      }
    },
    {
      "cell_type": "markdown",
      "source": [
        "# **Playing with the API**"
      ],
      "metadata": {
        "id": "rliZVJAKX9mX"
      }
    },
    {
      "cell_type": "markdown",
      "source": [
        "Now, let’s hop into the interactive Python shell and play around with the free API Django gives you. To invoke the Python shell, use this command:"
      ],
      "metadata": {
        "id": "IXDcV14aYCa2"
      }
    },
    {
      "cell_type": "code",
      "source": [
        "...\\> py manage.py shell"
      ],
      "metadata": {
        "id": "_84sqcgxYFQw"
      },
      "execution_count": null,
      "outputs": []
    },
    {
      "cell_type": "markdown",
      "source": [
        "We’re using this instead of simply typing “python”, because manage.py sets the DJANGO_SETTINGS_MODULE environment variable, which gives Django the Python import path to your mysite/settings.py file.\n",
        "\n",
        "Once you’re in the shell, explore the database API:"
      ],
      "metadata": {
        "id": "0KF4WBWGYJMm"
      }
    },
    {
      "cell_type": "code",
      "source": [
        ">>> from polls.models import Choice, Question  # Import the model classes we just wrote.\n",
        "\n",
        "# No questions are in the system yet.\n",
        ">>> Question.objects.all()\n",
        "<QuerySet []>\n",
        "\n",
        "# Create a new Question.\n",
        "# Support for time zones is enabled in the default settings file, so\n",
        "# Django expects a datetime with tzinfo for pub_date. Use timezone.now()\n",
        "# instead of datetime.datetime.now() and it will do the right thing.\n",
        ">>> from django.utils import timezone\n",
        ">>> q = Question(question_text=\"What's new?\", pub_date=timezone.now())\n",
        "\n",
        "# Save the object into the database. You have to call save() explicitly.\n",
        ">>> q.save()\n",
        "\n",
        "# Now it has an ID.\n",
        ">>> q.id\n",
        "1\n",
        "\n",
        "# Access model field values via Python attributes.\n",
        ">>> q.question_text\n",
        "\"What's new?\"\n",
        ">>> q.pub_date\n",
        "datetime.datetime(2012, 2, 26, 13, 0, 0, 775217, tzinfo=datetime.timezone.utc)\n",
        "\n",
        "# Change values by changing the attributes, then calling save().\n",
        ">>> q.question_text = \"What's up?\"\n",
        ">>> q.save()\n",
        "\n",
        "# objects.all() displays all the questions in the database.\n",
        ">>> Question.objects.all()\n",
        "<QuerySet [<Question: Question object (1)>]>"
      ],
      "metadata": {
        "id": "IvUvxi4EYPAZ"
      },
      "execution_count": null,
      "outputs": []
    },
    {
      "cell_type": "markdown",
      "source": [
        "Wait a minute. <Question: Question object (1)> isn’t a helpful representation of this object. Let’s fix that by editing the Question model (in the polls/models.py file) and adding a __str__() method to both Question and Choice:"
      ],
      "metadata": {
        "id": "B_mfJZuLYYfK"
      }
    },
    {
      "cell_type": "code",
      "source": [
        "from django.db import models\n",
        "\n",
        "\n",
        "class Question(models.Model):\n",
        "    # ...\n",
        "    def __str__(self):\n",
        "        return self.question_text\n",
        "\n",
        "\n",
        "class Choice(models.Model):\n",
        "    # ...\n",
        "    def __str__(self):\n",
        "        return self.choice_text"
      ],
      "metadata": {
        "id": "tzNQl1L8Yawg"
      },
      "execution_count": null,
      "outputs": []
    },
    {
      "cell_type": "markdown",
      "source": [
        "It’s important to add __str__() methods to your models, not only for your own convenience when dealing with the interactive prompt, but also because objects’ representations are used throughout Django’s automatically-generated admin.\n",
        "\n",
        "Let’s also add a custom method to this model:"
      ],
      "metadata": {
        "id": "tVUbFtqnYgoz"
      }
    },
    {
      "cell_type": "code",
      "source": [
        "import datetime\n",
        "\n",
        "from django.db import models\n",
        "from django.utils import timezone\n",
        "\n",
        "\n",
        "class Question(models.Model):\n",
        "    # ...\n",
        "    def was_published_recently(self):\n",
        "        return self.pub_date >= timezone.now() - datetime.timedelta(days=1)"
      ],
      "metadata": {
        "id": "BupkVjBCYjlm"
      },
      "execution_count": null,
      "outputs": []
    },
    {
      "cell_type": "markdown",
      "source": [
        "Note the addition of import datetime and from django.utils import timezone, to reference Python’s standard datetime module and Django’s time-zone-related utilities in django.utils.timezone, respectively. If you aren’t familiar with time zone handling in Python, you can learn more in the time zone support docs.\n",
        "\n",
        "Save these changes and start a new Python interactive shell by running python manage.py shell again:"
      ],
      "metadata": {
        "id": "3CIwwfHCYpBL"
      }
    },
    {
      "cell_type": "code",
      "source": [
        ">>> from polls.models import Choice, Question\n",
        "\n",
        "# Make sure our __str__() addition worked.\n",
        ">>> Question.objects.all()\n",
        "<QuerySet [<Question: What's up?>]>\n",
        "\n",
        "# Django provides a rich database lookup API that's entirely driven by\n",
        "# keyword arguments.\n",
        ">>> Question.objects.filter(id=1)\n",
        "<QuerySet [<Question: What's up?>]>\n",
        ">>> Question.objects.filter(question_text__startswith=\"What\")\n",
        "<QuerySet [<Question: What's up?>]>\n",
        "\n",
        "# Get the question that was published this year.\n",
        ">>> from django.utils import timezone\n",
        ">>> current_year = timezone.now().year\n",
        ">>> Question.objects.get(pub_date__year=current_year)\n",
        "<Question: What's up?>\n",
        "\n",
        "# Request an ID that doesn't exist, this will raise an exception.\n",
        ">>> Question.objects.get(id=2)\n",
        "Traceback (most recent call last):\n",
        "    ...\n",
        "DoesNotExist: Question matching query does not exist.\n",
        "\n",
        "# Lookup by a primary key is the most common case, so Django provides a\n",
        "# shortcut for primary-key exact lookups.\n",
        "# The following is identical to Question.objects.get(id=1).\n",
        ">>> Question.objects.get(pk=1)\n",
        "<Question: What's up?>\n",
        "\n",
        "# Make sure our custom method worked.\n",
        ">>> q = Question.objects.get(pk=1)\n",
        ">>> q.was_published_recently()\n",
        "True\n",
        "\n",
        "# Give the Question a couple of Choices. The create call constructs a new\n",
        "# Choice object, does the INSERT statement, adds the choice to the set\n",
        "# of available choices and returns the new Choice object. Django creates\n",
        "# a set to hold the \"other side\" of a ForeignKey relation\n",
        "# (e.g. a question's choice) which can be accessed via the API.\n",
        ">>> q = Question.objects.get(pk=1)\n",
        "\n",
        "# Display any choices from the related object set -- none so far.\n",
        ">>> q.choice_set.all()\n",
        "<QuerySet []>\n",
        "\n",
        "# Create three choices.\n",
        ">>> q.choice_set.create(choice_text=\"Not much\", votes=0)\n",
        "<Choice: Not much>\n",
        ">>> q.choice_set.create(choice_text=\"The sky\", votes=0)\n",
        "<Choice: The sky>\n",
        ">>> c = q.choice_set.create(choice_text=\"Just hacking again\", votes=0)\n",
        "\n",
        "# Choice objects have API access to their related Question objects.\n",
        ">>> c.question\n",
        "<Question: What's up?>\n",
        "\n",
        "# And vice versa: Question objects get access to Choice objects.\n",
        ">>> q.choice_set.all()\n",
        "<QuerySet [<Choice: Not much>, <Choice: The sky>, <Choice: Just hacking again>]>\n",
        ">>> q.choice_set.count()\n",
        "3\n",
        "\n",
        "# The API automatically follows relationships as far as you need.\n",
        "# Use double underscores to separate relationships.\n",
        "# This works as many levels deep as you want; there's no limit.\n",
        "# Find all Choices for any question whose pub_date is in this year\n",
        "# (reusing the 'current_year' variable we created above).\n",
        ">>> Choice.objects.filter(question__pub_date__year=current_year)\n",
        "<QuerySet [<Choice: Not much>, <Choice: The sky>, <Choice: Just hacking again>]>\n",
        "\n",
        "# Let's delete one of the choices. Use delete() for that.\n",
        ">>> c = q.choice_set.filter(choice_text__startswith=\"Just hacking\")\n",
        ">>> c.delete()"
      ],
      "metadata": {
        "id": "v5sseCM0Yvy_"
      },
      "execution_count": null,
      "outputs": []
    },
    {
      "cell_type": "markdown",
      "source": [
        "# **Introducing the Django Admin**"
      ],
      "metadata": {
        "id": "Ylz2hUhPYzpv"
      }
    },
    {
      "cell_type": "markdown",
      "source": [
        "Philosophy\n",
        "\n",
        "Generating admin sites for your staff or clients to add, change, and delete content is tedious work that doesn’t require much creativity. For that reason, Django entirely automates creation of admin interfaces for models.\n",
        "\n",
        "Django was written in a newsroom environment, with a very clear separation between “content publishers” and the “public” site. Site managers use the system to add news stories, events, sports scores, etc., and that content is displayed on the public site. Django solves the problem of creating a unified interface for site administrators to edit content.\n",
        "\n",
        "The admin isn’t intended to be used by site visitors. It’s for site managers."
      ],
      "metadata": {
        "id": "uFoNEE7GY6gN"
      }
    },
    {
      "cell_type": "markdown",
      "source": [
        "# **Creating an admin user**"
      ],
      "metadata": {
        "id": "jM15Kk4_aQBc"
      }
    },
    {
      "cell_type": "markdown",
      "source": [
        "First we’ll need to create a user who can login to the admin site. Run the following command:"
      ],
      "metadata": {
        "id": "nkNea-MHaVVV"
      }
    },
    {
      "cell_type": "code",
      "source": [
        "...\\> py manage.py createsuperuser"
      ],
      "metadata": {
        "id": "aRos6x2naa23"
      },
      "execution_count": null,
      "outputs": []
    },
    {
      "cell_type": "markdown",
      "source": [
        "Enter your desired username and press enter."
      ],
      "metadata": {
        "id": "9ddI0uP_aihA"
      }
    },
    {
      "cell_type": "code",
      "source": [
        "Username: admin"
      ],
      "metadata": {
        "id": "F0DUaBEFalor"
      },
      "execution_count": null,
      "outputs": []
    },
    {
      "cell_type": "markdown",
      "source": [
        "You will then be prompted for your desired email address:"
      ],
      "metadata": {
        "id": "hO3AxzlDaoT-"
      }
    },
    {
      "cell_type": "code",
      "source": [
        "Email address: admin@example.com"
      ],
      "metadata": {
        "id": "IEF_8JmaarK4"
      },
      "execution_count": null,
      "outputs": []
    },
    {
      "cell_type": "markdown",
      "source": [
        "The final step is to enter your password. You will be asked to enter your password twice, the second time as a confirmation of the first."
      ],
      "metadata": {
        "id": "uWwZUpylavGz"
      }
    },
    {
      "cell_type": "code",
      "source": [
        "Password: **********\n",
        "Password (again): *********\n",
        "Superuser created successfully."
      ],
      "metadata": {
        "id": "sprW4pvUayKp"
      },
      "execution_count": null,
      "outputs": []
    },
    {
      "cell_type": "markdown",
      "source": [
        "# **Start the development server**"
      ],
      "metadata": {
        "id": "5O7h879Ea2rL"
      }
    },
    {
      "cell_type": "markdown",
      "source": [
        "The Django admin site is activated by default. Let’s start the development server and explore it.\n",
        "\n",
        "If the server is not running start it like so:"
      ],
      "metadata": {
        "id": "pGjjI263a9Hm"
      }
    },
    {
      "cell_type": "code",
      "source": [
        "...\\> py manage.py runserver"
      ],
      "metadata": {
        "id": "MpInZyoBbC-u"
      },
      "execution_count": null,
      "outputs": []
    },
    {
      "cell_type": "markdown",
      "source": [
        "Now, open a web browser and go to “/admin/” on your local domain – e.g., http://127.0.0.1:8000/admin/. You should see the admin’s login screen:\n",
        "\n",
        "![admin01.png](data:image/png;base64,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)"
      ],
      "metadata": {
        "id": "1NMJq8lpbHXb"
      }
    },
    {
      "cell_type": "markdown",
      "source": [
        "Since translation is turned on by default, if you set LANGUAGE_CODE, the login screen will be displayed in the given language (if Django has appropriate translations)."
      ],
      "metadata": {
        "id": "Fd4vF099bUJR"
      }
    },
    {
      "cell_type": "markdown",
      "source": [
        "# **Enter the admin site:**"
      ],
      "metadata": {
        "id": "aBqqeNtabXq2"
      }
    },
    {
      "cell_type": "markdown",
      "source": [
        "Now, try logging in with the superuser account you created in the previous step. You should see the Django admin index page:\n",
        "\n",
        "![admin02.png](data:image/png;base64,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)"
      ],
      "metadata": {
        "id": "BdRRsmu9bkz-"
      }
    },
    {
      "cell_type": "markdown",
      "source": [
        "You should see a few types of editable content: groups and users. They are provided by django.contrib.auth, the authentication framework shipped by Django."
      ],
      "metadata": {
        "id": "vgTbdJp-btv-"
      }
    },
    {
      "cell_type": "markdown",
      "source": [
        "# **Make the poll app modifiable in the admin**"
      ],
      "metadata": {
        "id": "X5Xxrc-Nbxp3"
      }
    },
    {
      "cell_type": "markdown",
      "source": [
        "But where’s our poll app? It’s not displayed on the admin index page.\n",
        "\n",
        "Only one more thing to do: we need to tell the admin that Question objects have an admin interface. To do this, open the polls/admin.py file, and edit it to look like this:"
      ],
      "metadata": {
        "id": "2jAcbj7eb4x0"
      }
    },
    {
      "cell_type": "code",
      "source": [
        "from django.contrib import admin\n",
        "\n",
        "from .models import Question\n",
        "\n",
        "admin.site.register(Question)"
      ],
      "metadata": {
        "id": "rEjZZDi0b7fG"
      },
      "execution_count": null,
      "outputs": []
    },
    {
      "cell_type": "markdown",
      "source": [
        "# **Explore the free admin functionality:**"
      ],
      "metadata": {
        "id": "qn4feIYCcCCu"
      }
    },
    {
      "cell_type": "markdown",
      "source": [
        "Now that we’ve registered Question, Django knows that it should be displayed on the admin index page:\n",
        "\n",
        "![admin03t.png](data:image/png;base64,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)"
      ],
      "metadata": {
        "id": "jL1BFatZb_ga"
      }
    },
    {
      "cell_type": "markdown",
      "source": [
        "Click “Questions”. Now you’re at the “change list” page for questions. This page displays all the questions in the database and lets you choose one to change it. There’s the “What’s up?” question we created earlier:\n",
        "\n",
        "![admin04t.png](data:image/png;base64,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)"
      ],
      "metadata": {
        "id": "832pIpiPcTJy"
      }
    },
    {
      "cell_type": "markdown",
      "source": [
        "Click the “What’s up?” question to edit it:\n",
        "![admin05t.png](data:image/png;base64,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)"
      ],
      "metadata": {
        "id": "1LS5ZF2icamr"
      }
    },
    {
      "cell_type": "markdown",
      "source": [
        "Things to note here:\n",
        "\n",
        "The form is automatically generated from the Question model.\n",
        "The different model field types (DateTimeField, CharField) correspond to the appropriate HTML input widget. Each type of field knows how to display itself in the Django admin.\n",
        "Each DateTimeField gets free JavaScript shortcuts. Dates get a “Today” shortcut and calendar popup, and times get a “Now” shortcut and a convenient popup that lists commonly entered times.\n",
        "The bottom part of the page gives you a couple of options:\n",
        "\n",
        "Save – Saves changes and returns to the change-list page for this type of object.\n",
        "Save and continue editing – Saves changes and reloads the admin page for this object.\n",
        "Save and add another – Saves changes and loads a new, blank form for this type of object.\n",
        "Delete – Displays a delete confirmation page.\n",
        "If the value of “Date published” doesn’t match the time when you created the question in Tutorial 1, it probably means you forgot to set the correct value for the TIME_ZONE setting. Change it, reload the page and check that the correct value appears.\n",
        "\n",
        "Change the “Date published” by clicking the “Today” and “Now” shortcuts. Then click “Save and continue editing.” Then click “History” in the upper right. You’ll see a page listing all changes made to this object via the Django admin, with the timestamp and username of the person who made the change:\n",
        "\n",
        "![admin06t.png](data:image/png;base64,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)"
      ],
      "metadata": {
        "id": "vsJ8SaBxcj2e"
      }
    },
    {
      "cell_type": "markdown",
      "source": [
        "hen you’re comfortable with the models API and have familiarized yourself with the admin site, read part 3 of this tutorial to learn about how to add more views to our polls app."
      ],
      "metadata": {
        "id": "_O2Z2sKGcvym"
      }
    }
  ]
}